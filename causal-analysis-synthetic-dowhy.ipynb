{
 "cells": [
  {
   "cell_type": "markdown",
   "metadata": {},
   "source": [
    "# Causal Analysis of Synthetic Dataset"
   ]
  },
  {
   "cell_type": "code",
   "execution_count": 235,
   "metadata": {},
   "outputs": [],
   "source": [
    "import networkx as nx\n",
    "import numpy as np\n",
    "import pandas as pd\n",
    "import scipy\n",
    "import dowhy\n",
    "import dowhy.plotter as plotter\n",
    "from dowhy.do_why import CausalModel\n",
    "import random\n",
    "import seaborn as sns\n",
    "\n",
    "sns.set_context(\"notebook\")\n",
    "%matplotlib inline\n",
    "\n",
    "random.seed(0)\n",
    "np.random.seed(0)\n",
    "\n",
    "TREATMENT_COL = 'ContinentOfBirth'\n",
    "#TREATMENT_COL = 'CitizenshipContinent'\n",
    "\n",
    "treatment_subdimensions = ['CitizenshipCountry'] if TREATMENT_COL == 'CitizenshipContinent' else ['CountryOfBirth']\n",
    "\n",
    "OUTCOME_NAME = 'Last Name Correct'\n",
    "\n",
    "TREATMENT = 'T'\n",
    "OUTCOME = 'O'"
   ]
  },
  {
   "cell_type": "code",
   "execution_count": 236,
   "metadata": {},
   "outputs": [
    {
     "data": {
      "text/plain": [
       "Index(['Source', 'Last Name', 'CountryOfBirth', 'ContinentOfBirth',\n",
       "       'CitizenshipCountry', 'CitizenshipContinent', 'NumChildren',\n",
       "       'MaritalStatus', 'Last Name Correct'],\n",
       "      dtype='object')"
      ]
     },
     "execution_count": 236,
     "metadata": {},
     "output_type": "execute_result"
    }
   ],
   "source": [
    "dataset = pd.read_csv('data/synthetic-dataset-scenario-B.csv')\n",
    "dataset.columns"
   ]
  },
  {
   "cell_type": "code",
   "execution_count": 237,
   "metadata": {},
   "outputs": [],
   "source": [
    "# Introduce binary treatment column as proposed by Data X-Ray\n",
    "dataset[TREATMENT] = dataset[TREATMENT_COL] == 'Asia'\n",
    "dataset.rename({OUTCOME_NAME: OUTCOME}, axis=1, inplace=True)\n",
    "dataset.head()\n",
    "\n",
    "COVARIATES = dataset.drop([TREATMENT, OUTCOME, TREATMENT_COL, 'Last Name'] + treatment_subdimensions, axis=1).columns.values\n",
    "CONT_COVARIATES = ['NumChildren']\n",
    "CAT_COVARIATES = list(c for c in COVARIATES if c not in CONT_COVARIATES)"
   ]
  },
  {
   "cell_type": "markdown",
   "metadata": {},
   "source": [
    "## Analysis with `doWhy`"
   ]
  },
  {
   "cell_type": "code",
   "execution_count": 162,
   "metadata": {},
   "outputs": [],
   "source": [
    "graph = nx.DiGraph()\n",
    "\n",
    "# potential confounders\n",
    "for col in COVARIATES:\n",
    "    graph.add_edge(col, TREATMENT)\n",
    "    graph.add_edge(col, OUTCOME)\n",
    "    \n",
    "#graph.add_edge('Unobserved Confounders', 'Treatment')\n",
    "#graph.add_edge('Unobserved Confounders', 'Last Name Correct')\n",
    "\n",
    "# Assumed causal relation\n",
    "graph.add_edge(TREATMENT, OUTCOME)"
   ]
  },
  {
   "cell_type": "code",
   "execution_count": 163,
   "metadata": {},
   "outputs": [
    {
     "name": "stdout",
     "output_type": "stream",
     "text": [
      "['CitizenshipCountry', 'MaritalStatus', 'CitizenshipContinent', 'NumChildren', 'Source']\n",
      "yes\n",
      "{'observed': 'yes'}\n",
      "yes\n",
      "{'observed': 'yes'}\n",
      "yes\n",
      "{'observed': 'yes'}\n",
      "yes\n",
      "{'observed': 'yes'}\n",
      "yes\n",
      "{'observed': 'yes'}\n",
      "Model to find the causal effect of treatment Treatment on outcome LastNameCorrect\n",
      "Warning: Pygraphviz cannot be loaded. Check that graphviz and pygraphviz are installed.\n",
      "Using Matplotlib for plotting\n"
     ]
    },
    {
     "data": {
      "image/png": "[encoded data removed]",
      "text/plain": [
       "<Figure size 432x288 with 1 Axes>"
      ]
     },
     "metadata": {
      "needs_background": "light"
     },
     "output_type": "display_data"
    }
   ],
   "source": [
    "model = CausalModel(data = dataset, treatment=TREATMENT, outcome=OUTCOME, graph=''.join(nx.generate_gml(graph)))\n",
    "model.view_model()"
   ]
  },
  {
   "cell_type": "code",
   "execution_count": 164,
   "metadata": {},
   "outputs": [
    {
     "name": "stderr",
     "output_type": "stream",
     "text": [
      "INFO:dowhy.causal_identifier:Common causes of treatment and outcome:{'CitizenshipCountry', 'MaritalStatus', 'CitizenshipContinent', 'Source', 'NumChildren', 'U'}\n"
     ]
    },
    {
     "name": "stdout",
     "output_type": "stream",
     "text": [
      "{'observed': 'yes'}\n",
      "{'observed': 'yes'}\n",
      "{'observed': 'yes'}\n",
      "{'observed': 'yes'}\n",
      "{'observed': 'yes'}\n",
      "{'label': 'Unobserved Confounders', 'observed': 'no'}\n",
      "There are unobserved common causes. Causal effect cannot be identified.\n"
     ]
    },
    {
     "name": "stdin",
     "output_type": "stream",
     "text": [
      "WARN: Do you want to continue by ignoring these unobserved confounders? [y/n]  y\n"
     ]
    },
    {
     "name": "stderr",
     "output_type": "stream",
     "text": [
      "INFO:dowhy.causal_identifier:Instrumental variables for treatment and outcome:[]\n"
     ]
    },
    {
     "name": "stdout",
     "output_type": "stream",
     "text": [
      "Estimand type: ate\n",
      "### Estimand : 1\n",
      "Estimand name: backdoor\n",
      "Estimand expression:\n",
      "    d                                                                         \n",
      "──────────(Expectation(LastNameCorrect|CitizenshipCountry,MaritalStatus,Citize\n",
      "dTreatment                                                                    \n",
      "\n",
      "                                   \n",
      "nshipContinent,Source,NumChildren))\n",
      "                                   \n",
      "Estimand assumption 1, Unconfoundedness: If U→Treatment and U→LastNameCorrect then P(LastNameCorrect|Treatment,CitizenshipCountry,MaritalStatus,CitizenshipContinent,Source,NumChildren,U) = P(LastNameCorrect|Treatment,CitizenshipCountry,MaritalStatus,CitizenshipContinent,Source,NumChildren)\n",
      "### Estimand : 2\n",
      "Estimand name: iv\n",
      "No such variable found!\n",
      "\n"
     ]
    }
   ],
   "source": [
    "identified_estimand = model.identify_effect()\n",
    "print(identified_estimand)"
   ]
  },
  {
   "cell_type": "code",
   "execution_count": 165,
   "metadata": {},
   "outputs": [
    {
     "name": "stderr",
     "output_type": "stream",
     "text": [
      "INFO:dowhy.causal_estimator:INFO: Using Propensity Score Stratification Estimator\n",
      "INFO:dowhy.causal_estimator:b: LastNameCorrect~Treatment+CitizenshipCountry+MaritalStatus+CitizenshipContinent+Source+NumChildren\n"
     ]
    },
    {
     "name": "stdout",
     "output_type": "stream",
     "text": [
      "PropensityScoreStratificationEstimator\n"
     ]
    },
    {
     "name": "stderr",
     "output_type": "stream",
     "text": [
      "C:\\Users\\Amnesix\\DOCUME~1\\KIT---~1\\00-AUS~1\\Studium\\WINTER~1\\CAUSAL~1\\mldcpy\\lib\\site-packages\\pandas\\core\\computation\\expressions.py:180: UserWarning: evaluating in Python space because the '*' operator is not supported by numexpr for the bool dtype, use '&' instead\n",
      "  .format(op=op_str, alt_op=unsupported[op_str]))\n"
     ]
    },
    {
     "name": "stdout",
     "output_type": "stream",
     "text": [
      "*** Causal Estimate ***\n",
      "\n",
      "## Target estimand\n",
      "Estimand type: ate\n",
      "### Estimand : 1\n",
      "Estimand name: backdoor\n",
      "Estimand expression:\n",
      "    d                                                                         \n",
      "──────────(Expectation(LastNameCorrect|CitizenshipCountry,MaritalStatus,Citize\n",
      "dTreatment                                                                    \n",
      "\n",
      "                                   \n",
      "nshipContinent,Source,NumChildren))\n",
      "                                   \n",
      "Estimand assumption 1, Unconfoundedness: If U→Treatment and U→LastNameCorrect then P(LastNameCorrect|Treatment,CitizenshipCountry,MaritalStatus,CitizenshipContinent,Source,NumChildren,U) = P(LastNameCorrect|Treatment,CitizenshipCountry,MaritalStatus,CitizenshipContinent,Source,NumChildren)\n",
      "### Estimand : 2\n",
      "Estimand name: iv\n",
      "No such variable found!\n",
      "\n",
      "## Realized estimand\n",
      "b: LastNameCorrect~Treatment+CitizenshipCountry+MaritalStatus+CitizenshipContinent+Source+NumChildren\n",
      "## Estimate\n",
      "Value: -0.1383356409548203\n",
      "\n",
      "Causal Estimate is -0.1383356409548203\n"
     ]
    }
   ],
   "source": [
    "causal_estimate = model.estimate_effect(identified_estimand,\n",
    "        method_name='backdoor.propensity_score_stratification')\n",
    "print(causal_estimate)\n",
    "print('Causal Estimate is ' + str(causal_estimate.value))"
   ]
  },
  {
   "cell_type": "code",
   "execution_count": 44,
   "metadata": {},
   "outputs": [
    {
     "name": "stderr",
     "output_type": "stream",
     "text": [
      "INFO:dowhy.causal_estimator:INFO: Using Propensity Score Matching Estimator\n",
      "INFO:dowhy.causal_estimator:b: l~t+MaritalStatus+NumChildren+CitizenshipContinent+Source+CitizenshipCountry+w_random\n"
     ]
    },
    {
     "name": "stdout",
     "output_type": "stream",
     "text": [
      "Refute: Add a Random Common Cause\n",
      "Estimated effect:(-0.1282816229116945,)\n",
      "New effect:(-0.13454653937947494,)\n",
      "\n"
     ]
    }
   ],
   "source": [
    "res_random = model.refute_estimate(identified_estimand, causal_estimate, method_name='random_common_cause')\n",
    "print(res_random)"
   ]
  },
  {
   "cell_type": "code",
   "execution_count": 45,
   "metadata": {},
   "outputs": [
    {
     "name": "stderr",
     "output_type": "stream",
     "text": [
      "INFO:dowhy.causal_estimator:INFO: Using Propensity Score Matching Estimator\n",
      "INFO:dowhy.causal_estimator:b: l~placebo+MaritalStatus+NumChildren+CitizenshipContinent+Source+CitizenshipCountry\n"
     ]
    },
    {
     "name": "stdout",
     "output_type": "stream",
     "text": [
      "Refute: Use a Placebo Treatment\n",
      "Estimated effect:(-0.1282816229116945,)\n",
      "New effect:(0.015214797136038186,)\n",
      "\n"
     ]
    }
   ],
   "source": [
    "res_placebo = model.refute_estimate(identified_estimand, causal_estimate, method_name='placebo_treatment_refuter', placebo_type='permute')\n",
    "print(res_placebo)"
   ]
  },
  {
   "cell_type": "code",
   "execution_count": 46,
   "metadata": {},
   "outputs": [
    {
     "name": "stderr",
     "output_type": "stream",
     "text": [
      "INFO:dowhy.causal_estimator:INFO: Using Propensity Score Matching Estimator\n",
      "INFO:dowhy.causal_estimator:b: l~t+MaritalStatus+NumChildren+CitizenshipContinent+Source+CitizenshipCountry\n"
     ]
    },
    {
     "name": "stdout",
     "output_type": "stream",
     "text": [
      "Refute: Use a subset of data\n",
      "Estimated effect:(-0.1282816229116945,)\n",
      "New effect:(-0.1387876780390858,)\n",
      "\n"
     ]
    }
   ],
   "source": [
    "res_subset = model.refute_estimate(identified_estimand, causal_estimate, method_name='data_subset_refuter', subset_fraction=0.9)\n",
    "print(res_subset)"
   ]
  }
 ],
 "metadata": {
  "kernelspec": {
   "display_name": "Python 3 MLDC",
   "language": "python",
   "name": "mldcpy"
  },
  "language_info": {
   "codemirror_mode": {
    "name": "ipython",
    "version": 3
   },
   "file_extension": ".py",
   "mimetype": "text/x-python",
   "name": "python",
   "nbconvert_exporter": "python",
   "pygments_lexer": "ipython3",
   "version": "3.6.5"
  }
 },
 "nbformat": 4,
 "nbformat_minor": 2
}
