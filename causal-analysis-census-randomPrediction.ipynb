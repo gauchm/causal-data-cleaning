{
 "cells": [
  {
   "cell_type": "markdown",
   "metadata": {},
   "source": [
    "# Causal Analysis of Census Dataset\n",
    "Analyzing for bias on the randomly generated test data"
   ]
  },
  {
   "cell_type": "code",
   "execution_count": 1,
   "metadata": {},
   "outputs": [],
   "source": [
    "import networkx as nx\n",
    "import numpy as np\n",
    "import pandas as pd\n",
    "import scipy\n",
    "import random\n",
    "import seaborn as sns\n",
    "from pymatch.Matcher import Matcher\n",
    "from pymatch.functions import ks_boot\n",
    "from joblib import Parallel, delayed\n",
    "\n",
    "from utils import treatment_effect\n",
    "\n",
    "sns.set_context(\"notebook\")\n",
    "%matplotlib inline\n",
    "\n",
    "random.seed(0)\n",
    "np.random.seed(0)\n",
    "\n",
    "TREATMENT_COL = 'sex'\n",
    "treatment_subdimensions = []\n",
    "TREATMENT_VAL = 'Female'\n",
    "\n",
    "OUTCOME_NAME = 'prediction'\n",
    "\n",
    "CONT_COVARIATES = ['age', 'educationnum', 'capitalgain', 'capitalloss', 'hoursperweek']\n",
    "\n",
    "TREATMENT = 'T'\n",
    "OUTCOME = 'O'"
   ]
  },
  {
   "cell_type": "code",
   "execution_count": 2,
   "metadata": {},
   "outputs": [
    {
     "data": {
      "text/html": [
       "<div>\n",
       "<style scoped>\n",
       "    .dataframe tbody tr th:only-of-type {\n",
       "        vertical-align: middle;\n",
       "    }\n",
       "\n",
       "    .dataframe tbody tr th {\n",
       "        vertical-align: top;\n",
       "    }\n",
       "\n",
       "    .dataframe thead th {\n",
       "        text-align: right;\n",
       "    }\n",
       "</style>\n",
       "<table border=\"1\" class=\"dataframe\">\n",
       "  <thead>\n",
       "    <tr style=\"text-align: right;\">\n",
       "      <th></th>\n",
       "      <th>age</th>\n",
       "      <th>workclass</th>\n",
       "      <th>education</th>\n",
       "      <th>educationnum</th>\n",
       "      <th>maritalstatus</th>\n",
       "      <th>occupation</th>\n",
       "      <th>relationship</th>\n",
       "      <th>race</th>\n",
       "      <th>sex</th>\n",
       "      <th>capitalgain</th>\n",
       "      <th>capitalloss</th>\n",
       "      <th>hoursperweek</th>\n",
       "      <th>nativecountry</th>\n",
       "      <th>prediction</th>\n",
       "    </tr>\n",
       "  </thead>\n",
       "  <tbody>\n",
       "    <tr>\n",
       "      <th>0</th>\n",
       "      <td>54</td>\n",
       "      <td>Local-gov</td>\n",
       "      <td>9th</td>\n",
       "      <td>14</td>\n",
       "      <td>Separated</td>\n",
       "      <td>Protective-serv</td>\n",
       "      <td>Wife</td>\n",
       "      <td>Other</td>\n",
       "      <td>Male</td>\n",
       "      <td>6514</td>\n",
       "      <td>1977</td>\n",
       "      <td>95</td>\n",
       "      <td>?</td>\n",
       "      <td>True</td>\n",
       "    </tr>\n",
       "    <tr>\n",
       "      <th>1</th>\n",
       "      <td>55</td>\n",
       "      <td>Without-pay</td>\n",
       "      <td>Masters</td>\n",
       "      <td>3</td>\n",
       "      <td>Married-spouse-absent</td>\n",
       "      <td>Sales</td>\n",
       "      <td>Unmarried</td>\n",
       "      <td>Black</td>\n",
       "      <td>Female</td>\n",
       "      <td>3781</td>\n",
       "      <td>1735</td>\n",
       "      <td>10</td>\n",
       "      <td>India</td>\n",
       "      <td>False</td>\n",
       "    </tr>\n",
       "    <tr>\n",
       "      <th>2</th>\n",
       "      <td>85</td>\n",
       "      <td>State-gov</td>\n",
       "      <td>11th</td>\n",
       "      <td>6</td>\n",
       "      <td>Married-AF-spouse</td>\n",
       "      <td>Armed-Forces</td>\n",
       "      <td>Other-relative</td>\n",
       "      <td>White</td>\n",
       "      <td>Female</td>\n",
       "      <td>7443</td>\n",
       "      <td>2174</td>\n",
       "      <td>65</td>\n",
       "      <td>Laos</td>\n",
       "      <td>False</td>\n",
       "    </tr>\n",
       "    <tr>\n",
       "      <th>3</th>\n",
       "      <td>31</td>\n",
       "      <td>Federal-gov</td>\n",
       "      <td>Assoc-voc</td>\n",
       "      <td>11</td>\n",
       "      <td>Widowed</td>\n",
       "      <td>Handlers-cleaners</td>\n",
       "      <td>Unmarried</td>\n",
       "      <td>Amer-Indian-Eskimo</td>\n",
       "      <td>Male</td>\n",
       "      <td>4064</td>\n",
       "      <td>419</td>\n",
       "      <td>84</td>\n",
       "      <td>Peru</td>\n",
       "      <td>False</td>\n",
       "    </tr>\n",
       "    <tr>\n",
       "      <th>4</th>\n",
       "      <td>40</td>\n",
       "      <td>Local-gov</td>\n",
       "      <td>Doctorate</td>\n",
       "      <td>14</td>\n",
       "      <td>Separated</td>\n",
       "      <td>Sales</td>\n",
       "      <td>Unmarried</td>\n",
       "      <td>Black</td>\n",
       "      <td>Female</td>\n",
       "      <td>3781</td>\n",
       "      <td>1980</td>\n",
       "      <td>87</td>\n",
       "      <td>Dominican-Republic</td>\n",
       "      <td>False</td>\n",
       "    </tr>\n",
       "  </tbody>\n",
       "</table>\n",
       "</div>"
      ],
      "text/plain": [
       "   age    workclass  education  educationnum          maritalstatus  \\\n",
       "0   54    Local-gov        9th            14              Separated   \n",
       "1   55  Without-pay    Masters             3  Married-spouse-absent   \n",
       "2   85    State-gov       11th             6      Married-AF-spouse   \n",
       "3   31  Federal-gov  Assoc-voc            11                Widowed   \n",
       "4   40    Local-gov  Doctorate            14              Separated   \n",
       "\n",
       "          occupation    relationship                race     sex  capitalgain  \\\n",
       "0    Protective-serv            Wife               Other    Male         6514   \n",
       "1              Sales       Unmarried               Black  Female         3781   \n",
       "2       Armed-Forces  Other-relative               White  Female         7443   \n",
       "3  Handlers-cleaners       Unmarried  Amer-Indian-Eskimo    Male         4064   \n",
       "4              Sales       Unmarried               Black  Female         3781   \n",
       "\n",
       "   capitalloss  hoursperweek       nativecountry  prediction  \n",
       "0         1977            95                   ?        True  \n",
       "1         1735            10               India       False  \n",
       "2         2174            65                Laos       False  \n",
       "3          419            84                Peru       False  \n",
       "4         1980            87  Dominican-Republic       False  "
      ]
     },
     "execution_count": 2,
     "metadata": {},
     "output_type": "execute_result"
    }
   ],
   "source": [
    "dataset = pd.read_csv('data/census-random-prediction-rf-sex.csv', index_col=0)\n",
    "dataset['prediction'] = dataset['prediction'] == '>50K'\n",
    "dataset.columns = dataset.columns.str.replace('-','')\n",
    "dataset.head()"
   ]
  },
  {
   "cell_type": "code",
   "execution_count": 3,
   "metadata": {},
   "outputs": [],
   "source": [
    "# Introduce binary treatment column as proposed by Data X-Ray\n",
    "dataset[TREATMENT] = dataset[TREATMENT_COL] == TREATMENT_VAL\n",
    "dataset.rename({OUTCOME_NAME: OUTCOME}, axis=1, inplace=True)\n",
    "dataset.head()\n",
    "\n",
    "COVARIATES = dataset.drop([TREATMENT, OUTCOME, TREATMENT_COL] + treatment_subdimensions, axis=1).columns.values\n",
    "CAT_COVARIATES = list(c for c in COVARIATES if c not in CONT_COVARIATES)"
   ]
  },
  {
   "cell_type": "markdown",
   "metadata": {},
   "source": [
    "## Analysis with Matching and Propensity Score Stratification"
   ]
  },
  {
   "cell_type": "code",
   "execution_count": 4,
   "metadata": {},
   "outputs": [
    {
     "data": {
      "text/plain": [
       "Index(['age', 'workclass', 'education', 'educationnum', 'maritalstatus',\n",
       "       'occupation', 'relationship', 'race', 'sex', 'capitalgain',\n",
       "       'capitalloss', 'hoursperweek', 'nativecountry', 'O', 'T'],\n",
       "      dtype='object')"
      ]
     },
     "execution_count": 4,
     "metadata": {},
     "output_type": "execute_result"
    }
   ],
   "source": [
    "dataset.columns"
   ]
  },
  {
   "cell_type": "code",
   "execution_count": 5,
   "metadata": {},
   "outputs": [
    {
     "name": "stdout",
     "output_type": "stream",
     "text": [
      "Training model 1/50\n",
      "Training model 2/50\n",
      "Training model 3/50\n",
      "Training model 4/50\n",
      "Training model 5/50\n",
      "Training model 6/50\n",
      "Training model 7/50\n",
      "Training model 8/50\n",
      "Training model 9/50\n",
      "Training model 10/50\n",
      "Training model 11/50\n",
      "Training model 12/50\n",
      "Training model 13/50\n",
      "Training model 14/50\n",
      "Training model 15/50\n",
      "Training model 16/50\n",
      "Training model 17/50\n",
      "Training model 18/50\n",
      "Training model 19/50\n",
      "Training model 20/50\n",
      "Training model 21/50\n",
      "Training model 22/50\n",
      "Training model 23/50\n",
      "Training model 24/50\n",
      "Training model 25/50\n",
      "Training model 26/50\n",
      "Training model 27/50\n",
      "Training model 28/50\n",
      "Training model 29/50\n",
      "Training model 30/50\n",
      "Training model 31/50\n",
      "Training model 32/50\n",
      "Training model 33/50\n",
      "Training model 34/50\n",
      "Training model 35/50\n",
      "Training model 36/50\n",
      "Training model 37/50\n",
      "Training model 38/50\n",
      "Training model 39/50\n",
      "Training model 40/50\n",
      "Training model 41/50\n",
      "Training model 42/50\n",
      "Training model 43/50\n",
      "Training model 44/50\n",
      "Training model 45/50\n",
      "Training model 46/50\n",
      "Training model 47/50\n",
      "Training model 48/50\n",
      "Training model 49/50\n",
      "Training model 50/50\n",
      "Train Accuracy:  0.5432\n"
     ]
    },
    {
     "name": "stderr",
     "output_type": "stream",
     "text": [
      "C:\\Users\\Amnesix\\DOCUME~1\\KIT---~1\\00-AUS~1\\Studium\\WINTER~1\\CAUSAL~1\\mldcpy\\lib\\site-packages\\pandas\\core\\computation\\expressions.py:180: UserWarning: evaluating in Python space because the '*' operator is not supported by numexpr for the bool dtype, use '&' instead\n",
      "  .format(op=op_str, alt_op=unsupported[op_str]))\n"
     ]
    },
    {
     "name": "stdout",
     "output_type": "stream",
     "text": [
      "Covariate race not balanced enough in stratum 2. chi2-statistic: 11.93370695821981 > 9.487729036781154, p-value 0.017851106319680028\n"
     ]
    },
    {
     "data": {
      "text/plain": [
       "-0.04653614208958079"
      ]
     },
     "execution_count": 5,
     "metadata": {},
     "output_type": "execute_result"
    }
   ],
   "source": [
    "match_vars = []\n",
    "att = treatment_effect.match_then_stratify(dataset, match_vars, TREATMENT, TREATMENT_COL, treatment_subdimensions,\n",
    "                                           OUTCOME, CONT_COVARIATES, CAT_COVARIATES)\n",
    "att"
   ]
  },
  {
   "cell_type": "markdown",
   "metadata": {},
   "source": [
    "#### Get statistical significance by comparing with placebo treatment"
   ]
  },
  {
   "cell_type": "code",
   "execution_count": 6,
   "metadata": {},
   "outputs": [],
   "source": [
    "n_iter = 50\n",
    "placebo_results = treatment_effect.generate_placebo_effects(dataset, match_vars, TREATMENT, TREATMENT_COL, treatment_subdimensions,\n",
    "                                                            OUTCOME, CONT_COVARIATES, CAT_COVARIATES, additional_excludes=excludes, n_iter=n_iter)"
   ]
  },
  {
   "cell_type": "code",
   "execution_count": 7,
   "metadata": {},
   "outputs": [
    {
     "name": "stdout",
     "output_type": "stream",
     "text": [
      "Treatment effect outside 95%-bounds of placebo effect: -0.04653614208958079 not in [-0.017432708696277135, 0.01306886037059166]\n"
     ]
    }
   ],
   "source": [
    "treatment_effect.check_treatment_effect(att, placebo_results)"
   ]
  },
  {
   "cell_type": "code",
   "execution_count": 8,
   "metadata": {},
   "outputs": [],
   "source": [
    "treatment_results = Parallel(n_jobs=4)(delayed(treatment_effect.match_then_stratify)(dataset.sample(frac=.7), match_vars, TREATMENT, TREATMENT_COL, \n",
    "                                                                                     treatment_subdimensions, OUTCOME, CONT_COVARIATES, CAT_COVARIATES, \n",
    "                                                                                     n_models=1) for _ in  range(n_iter))"
   ]
  },
  {
   "cell_type": "code",
   "execution_count": 9,
   "metadata": {},
   "outputs": [
    {
     "data": {
      "image/png": "[encoded data removed]",
      "text/plain": [
       "<Figure size 432x288 with 1 Axes>"
      ]
     },
     "metadata": {
      "needs_background": "light"
     },
     "output_type": "display_data"
    }
   ],
   "source": [
    "# QQ-Plot to compare empirical distributions.\n",
    "from statsmodels.graphics.gofplots import qqplot_2samples\n",
    "import pylab\n",
    "import matplotlib.pyplot as plt\n",
    "\n",
    "f = qqplot_2samples(np.array(placebo_results), np.array(treatment_results), xlabel='Actual Treatment', ylabel='Placebo', line='45')\n",
    "\n",
    "plt.savefig(\"report/figures/qqML.pdf\", bbox_inches='tight')"
   ]
  },
  {
   "cell_type": "code",
   "execution_count": 10,
   "metadata": {},
   "outputs": [
    {
     "name": "stdout",
     "output_type": "stream",
     "text": [
      "Rejecting hypothesis that placebo treatment and actual treatment are of same distribution (K-S statistic: 1.0, p-value: 2.16468817146063e-23)\n"
     ]
    }
   ],
   "source": [
    "treatment_effect.ks_test_treatment_effect(placebo_results, treatment_results, n_iter, alpha=0.05)"
   ]
  },
  {
   "cell_type": "code",
   "execution_count": null,
   "metadata": {},
   "outputs": [],
   "source": []
  }
 ],
 "metadata": {
  "kernelspec": {
   "display_name": "Python 3 MLDC",
   "language": "python",
   "name": "mldcpy"
  },
  "language_info": {
   "codemirror_mode": {
    "name": "ipython",
    "version": 3
   },
   "file_extension": ".py",
   "mimetype": "text/x-python",
   "name": "python",
   "nbconvert_exporter": "python",
   "pygments_lexer": "ipython3",
   "version": "3.6.5"
  }
 },
 "nbformat": 4,
 "nbformat_minor": 2
}
