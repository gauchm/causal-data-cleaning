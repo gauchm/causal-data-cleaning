{
 "cells": [
  {
   "cell_type": "markdown",
   "metadata": {},
   "source": [
    "# Causal Analysis of Sensor Dataset"
   ]
  },
  {
   "cell_type": "code",
   "execution_count": 1,
   "metadata": {},
   "outputs": [],
   "source": [
    "import networkx as nx\n",
    "import numpy as np\n",
    "import pandas as pd\n",
    "import scipy\n",
    "import random\n",
    "import seaborn as sns\n",
    "from pymatch.Matcher import Matcher\n",
    "from pymatch.functions import ks_boot\n",
    "from joblib import Parallel, delayed\n",
    "\n",
    "from utils import treatment_effect\n",
    "\n",
    "sns.set_context(\"notebook\")\n",
    "%matplotlib inline\n",
    "\n",
    "random.seed(0)\n",
    "np.random.seed(0)\n",
    "\n",
    "TREATMENT_COL = 'race'\n",
    "treatment_subdimensions = []\n",
    "TREATMENT_VAL = 'Black'\n",
    "\n",
    "OUTCOME_NAME = 'prediction'\n",
    "\n",
    "CONT_COVARIATES = ['age', 'educationnum', 'capitalgain', 'capitalloss', 'hoursperweek']\n",
    "\n",
    "TREATMENT = 'T'\n",
    "OUTCOME = 'O'"
   ]
  },
  {
   "cell_type": "code",
   "execution_count": 2,
   "metadata": {},
   "outputs": [
    {
     "data": {
      "text/html": [
       "<div>\n",
       "<style scoped>\n",
       "    .dataframe tbody tr th:only-of-type {\n",
       "        vertical-align: middle;\n",
       "    }\n",
       "\n",
       "    .dataframe tbody tr th {\n",
       "        vertical-align: top;\n",
       "    }\n",
       "\n",
       "    .dataframe thead th {\n",
       "        text-align: right;\n",
       "    }\n",
       "</style>\n",
       "<table border=\"1\" class=\"dataframe\">\n",
       "  <thead>\n",
       "    <tr style=\"text-align: right;\">\n",
       "      <th></th>\n",
       "      <th>age</th>\n",
       "      <th>workclass</th>\n",
       "      <th>education</th>\n",
       "      <th>educationnum</th>\n",
       "      <th>maritalstatus</th>\n",
       "      <th>occupation</th>\n",
       "      <th>relationship</th>\n",
       "      <th>race</th>\n",
       "      <th>sex</th>\n",
       "      <th>capitalgain</th>\n",
       "      <th>capitalloss</th>\n",
       "      <th>hoursperweek</th>\n",
       "      <th>nativecountry</th>\n",
       "      <th>prediction</th>\n",
       "    </tr>\n",
       "  </thead>\n",
       "  <tbody>\n",
       "    <tr>\n",
       "      <th>0</th>\n",
       "      <td>54</td>\n",
       "      <td>Local-gov</td>\n",
       "      <td>9th</td>\n",
       "      <td>14</td>\n",
       "      <td>Separated</td>\n",
       "      <td>Protective-serv</td>\n",
       "      <td>Wife</td>\n",
       "      <td>Black</td>\n",
       "      <td>Female</td>\n",
       "      <td>7298</td>\n",
       "      <td>2179</td>\n",
       "      <td>91</td>\n",
       "      <td>Taiwan</td>\n",
       "      <td>True</td>\n",
       "    </tr>\n",
       "    <tr>\n",
       "      <th>1</th>\n",
       "      <td>72</td>\n",
       "      <td>Never-worked</td>\n",
       "      <td>Masters</td>\n",
       "      <td>3</td>\n",
       "      <td>Married-spouse-absent</td>\n",
       "      <td>Sales</td>\n",
       "      <td>Unmarried</td>\n",
       "      <td>Black</td>\n",
       "      <td>Female</td>\n",
       "      <td>3781</td>\n",
       "      <td>1735</td>\n",
       "      <td>10</td>\n",
       "      <td>India</td>\n",
       "      <td>False</td>\n",
       "    </tr>\n",
       "    <tr>\n",
       "      <th>2</th>\n",
       "      <td>85</td>\n",
       "      <td>State-gov</td>\n",
       "      <td>11th</td>\n",
       "      <td>6</td>\n",
       "      <td>Married-AF-spouse</td>\n",
       "      <td>Armed-Forces</td>\n",
       "      <td>Other-relative</td>\n",
       "      <td>Black</td>\n",
       "      <td>Female</td>\n",
       "      <td>7443</td>\n",
       "      <td>2174</td>\n",
       "      <td>65</td>\n",
       "      <td>Laos</td>\n",
       "      <td>True</td>\n",
       "    </tr>\n",
       "    <tr>\n",
       "      <th>3</th>\n",
       "      <td>31</td>\n",
       "      <td>Federal-gov</td>\n",
       "      <td>Assoc-voc</td>\n",
       "      <td>11</td>\n",
       "      <td>Widowed</td>\n",
       "      <td>Handlers-cleaners</td>\n",
       "      <td>Unmarried</td>\n",
       "      <td>White</td>\n",
       "      <td>Male</td>\n",
       "      <td>4064</td>\n",
       "      <td>419</td>\n",
       "      <td>84</td>\n",
       "      <td>Peru</td>\n",
       "      <td>True</td>\n",
       "    </tr>\n",
       "    <tr>\n",
       "      <th>4</th>\n",
       "      <td>40</td>\n",
       "      <td>Local-gov</td>\n",
       "      <td>Doctorate</td>\n",
       "      <td>14</td>\n",
       "      <td>Separated</td>\n",
       "      <td>Sales</td>\n",
       "      <td>Unmarried</td>\n",
       "      <td>Black</td>\n",
       "      <td>Female</td>\n",
       "      <td>3781</td>\n",
       "      <td>1980</td>\n",
       "      <td>87</td>\n",
       "      <td>Dominican-Republic</td>\n",
       "      <td>True</td>\n",
       "    </tr>\n",
       "  </tbody>\n",
       "</table>\n",
       "</div>"
      ],
      "text/plain": [
       "   age     workclass  education  educationnum          maritalstatus  \\\n",
       "0   54     Local-gov        9th            14              Separated   \n",
       "1   72  Never-worked    Masters             3  Married-spouse-absent   \n",
       "2   85     State-gov       11th             6      Married-AF-spouse   \n",
       "3   31   Federal-gov  Assoc-voc            11                Widowed   \n",
       "4   40     Local-gov  Doctorate            14              Separated   \n",
       "\n",
       "          occupation    relationship   race     sex  capitalgain  capitalloss  \\\n",
       "0    Protective-serv            Wife  Black  Female         7298         2179   \n",
       "1              Sales       Unmarried  Black  Female         3781         1735   \n",
       "2       Armed-Forces  Other-relative  Black  Female         7443         2174   \n",
       "3  Handlers-cleaners       Unmarried  White    Male         4064          419   \n",
       "4              Sales       Unmarried  Black  Female         3781         1980   \n",
       "\n",
       "   hoursperweek       nativecountry  prediction  \n",
       "0            91              Taiwan        True  \n",
       "1            10               India       False  \n",
       "2            65                Laos        True  \n",
       "3            84                Peru        True  \n",
       "4            87  Dominican-Republic        True  "
      ]
     },
     "execution_count": 2,
     "metadata": {},
     "output_type": "execute_result"
    }
   ],
   "source": [
    "dataset = pd.read_csv('data/census-random-prediction.csv', index_col=0)\n",
    "dataset['prediction'] = dataset['prediction'] == '>50K'\n",
    "dataset.columns = dataset.columns.str.replace('-','')\n",
    "dataset.head()"
   ]
  },
  {
   "cell_type": "code",
   "execution_count": 3,
   "metadata": {},
   "outputs": [],
   "source": [
    "# Introduce binary treatment column as proposed by Data X-Ray\n",
    "dataset[TREATMENT] = dataset[TREATMENT_COL] == TREATMENT_VAL\n",
    "dataset.rename({OUTCOME_NAME: OUTCOME}, axis=1, inplace=True)\n",
    "dataset.head()\n",
    "\n",
    "COVARIATES = dataset.drop([TREATMENT, OUTCOME, TREATMENT_COL] + treatment_subdimensions, axis=1).columns.values\n",
    "CAT_COVARIATES = list(c for c in COVARIATES if c not in CONT_COVARIATES)"
   ]
  },
  {
   "cell_type": "markdown",
   "metadata": {},
   "source": [
    "## Analysis with Matching and Propensity Score Stratification"
   ]
  },
  {
   "cell_type": "code",
   "execution_count": 4,
   "metadata": {},
   "outputs": [],
   "source": [
    "dataset.columns\n",
    "a=dataset[dataset['T']].copy()\n",
    "b=dataset[~dataset['T']].iloc[:len(a)].copy()\n",
    "dataset=pd.concat([a,b],ignore_index=True)"
   ]
  },
  {
   "cell_type": "code",
   "execution_count": 5,
   "metadata": {},
   "outputs": [
    {
     "name": "stdout",
     "output_type": "stream",
     "text": [
      "Formula:\n",
      "T ~ age+workclass+education+educationnum+maritalstatus+occupation+relationship+sex+capitalgain+capitalloss+hoursperweek+nativecountry\n",
      "n majority: 5042\n",
      "n minority: 4958\n",
      "Fitting Models on Balanced Samples: 1\\50"
     ]
    },
    {
     "name": "stderr",
     "output_type": "stream",
     "text": [
      "C:\\Users\\Amnesix\\DOCUME~1\\KIT---~1\\00-AUS~1\\Studium\\WINTER~1\\CAUSAL~1\\mldcpy\\lib\\site-packages\\pandas\\core\\frame.py:3697: SettingWithCopyWarning: \n",
      "A value is trying to be set on a copy of a slice from a DataFrame\n",
      "\n",
      "See the caveats in the documentation: http://pandas.pydata.org/pandas-docs/stable/indexing.html#indexing-view-versus-copy\n",
      "  errors=errors)\n"
     ]
    },
    {
     "name": "stdout",
     "output_type": "stream",
     "text": [
      "Fitting Models on Balanced Samples: 50\\50\n",
      "Average Accuracy: 53.53%\n"
     ]
    },
    {
     "data": {
      "text/plain": [
       "-0.031422269751301725"
      ]
     },
     "execution_count": 5,
     "metadata": {},
     "output_type": "execute_result"
    }
   ],
   "source": [
    "match_vars = []\n",
    "att = treatment_effect.match_then_stratify(dataset, match_vars, TREATMENT, TREATMENT_COL, treatment_subdimensions,\n",
    "                                           OUTCOME, CONT_COVARIATES, CAT_COVARIATES)\n",
    "att"
   ]
  },
  {
   "cell_type": "markdown",
   "metadata": {},
   "source": [
    "#### Get statistical significance by comparing with placebo treatment"
   ]
  },
  {
   "cell_type": "code",
   "execution_count": 6,
   "metadata": {},
   "outputs": [],
   "source": [
    "n_iter = 50\n",
    "\n",
    "def generate_placebo_sample(placebo_data):\n",
    "    placebo_data[TREATMENT] = np.random.randint(0, 2, len(placebo_data))\n",
    "    return treatment_effect.match_then_stratify(placebo_data, match_vars, TREATMENT, TREATMENT_COL, treatment_subdimensions, \n",
    "                               OUTCOME, CONT_COVARIATES, CAT_COVARIATES, n_models=1)\n",
    "placebo_results = Parallel(n_jobs=4)(delayed(generate_placebo_sample)(dataset.copy()) for _ in range(n_iter))"
   ]
  },
  {
   "cell_type": "code",
   "execution_count": 7,
   "metadata": {},
   "outputs": [
    {
     "name": "stdout",
     "output_type": "stream",
     "text": [
      "Treatment effect outside 95%-bounds of placebo effect: -0.031422269751301725 not in [-0.010415813980985372, 0.011382536920349995]\n"
     ]
    }
   ],
   "source": [
    "if (np.percentile(placebo_results, 2.5) <= att <= np.percentile(placebo_results, 97.5)):\n",
    "    print('Treatment effect within 95%-bounds of placebo effect: {} <= {} <= {}'.format(np.percentile(placebo_results, 2.5), att, np.percentile(placebo_results, 97.5)))\n",
    "else:\n",
    "    print('Treatment effect outside 95%-bounds of placebo effect: {} not in [{}, {}]'.format(att, np.percentile(placebo_results, 2.5), np.percentile(placebo_results, 97.5)))"
   ]
  },
  {
   "cell_type": "code",
   "execution_count": 8,
   "metadata": {},
   "outputs": [],
   "source": [
    "treatment_results = Parallel(n_jobs=4)(delayed(treatment_effect.match_then_stratify)(dataset.sample(frac=.7), match_vars, TREATMENT, TREATMENT_COL, \n",
    "                                                                                     treatment_subdimensions, OUTCOME, CONT_COVARIATES, CAT_COVARIATES, \n",
    "                                                                                     n_models=1) for _ in  range(n_iter))"
   ]
  },
  {
   "cell_type": "code",
   "execution_count": 9,
   "metadata": {},
   "outputs": [
    {
     "data": {
      "image/png": "[encoded data removed]",
      "text/plain": [
       "<Figure size 720x360 with 1 Axes>"
      ]
     },
     "metadata": {
      "needs_background": "light"
     },
     "output_type": "display_data"
    }
   ],
   "source": [
    "# QQ-Plot to compare empirical distributions. If straight line, no significant difference from placebo treatment.\n",
    "from statsmodels.graphics.gofplots import qqplot_2samples\n",
    "import pylab\n",
    "\n",
    "qqplot_2samples(np.array(placebo_results), np.array(treatment_results), xlabel='Actual Treatment', ylabel='Placebo', line='45')\n",
    "pylab.show()"
   ]
  },
  {
   "cell_type": "code",
   "execution_count": 10,
   "metadata": {},
   "outputs": [
    {
     "name": "stdout",
     "output_type": "stream",
     "text": [
      "Rejecting hypothesis that placebo treatment and actual treatment are of same distribution (K-S statistic: 1.0, p-value: 2.16468817146063e-23)\n"
     ]
    }
   ],
   "source": [
    "alpha = .05\n",
    "critical_value = np.sqrt(-np.log(alpha) / 2) * np.sqrt(2 * n_iter/(n_iter * n_iter))\n",
    "\n",
    "ks_test = scipy.stats.ks_2samp(np.array(placebo_results), np.array(treatment_results))\n",
    "if ks_test[0] > critical_value and ks_test[1] < alpha:\n",
    "    print('Rejecting hypothesis that placebo treatment and actual treatment are of same distribution (K-S statistic: {}, p-value: {})'.format(ks_test[0], ks_test[1]))\n",
    "else: \n",
    "    print('Cannot reject hypothesis that placebo and actual treatment are identical distribution (K-S statistic: {}, p-value: {})'.format(ks_test[0], ks_test[1]))"
   ]
  },
  {
   "cell_type": "code",
   "execution_count": null,
   "metadata": {},
   "outputs": [],
   "source": []
  }
 ],
 "metadata": {
  "kernelspec": {
   "display_name": "Python 3 MLDC",
   "language": "python",
   "name": "mldcpy"
  },
  "language_info": {
   "codemirror_mode": {
    "name": "ipython",
    "version": 3
   },
   "file_extension": ".py",
   "mimetype": "text/x-python",
   "name": "python",
   "nbconvert_exporter": "python",
   "pygments_lexer": "ipython3",
   "version": "3.6.5"
  }
 },
 "nbformat": 4,
 "nbformat_minor": 2
}
