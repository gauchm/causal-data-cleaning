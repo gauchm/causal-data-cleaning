{
 "cells": [
  {
   "cell_type": "markdown",
   "metadata": {},
   "source": [
    "# Causal Analysis of Census Dataset\n",
    "Analyzing if `sex==Female` induces a model bias towards lower income on the test dataset"
   ]
  },
  {
   "cell_type": "code",
   "execution_count": 111,
   "metadata": {},
   "outputs": [
    {
     "name": "stdout",
     "output_type": "stream",
     "text": [
      "The autoreload extension is already loaded. To reload it, use:\n",
      "  %reload_ext autoreload\n"
     ]
    }
   ],
   "source": [
    "%load_ext autoreload\n",
    "%autoreload 2\n",
    "\n",
    "import networkx as nx\n",
    "import numpy as np\n",
    "import pandas as pd\n",
    "import scipy\n",
    "import random\n",
    "import seaborn as sns\n",
    "from pymatch.Matcher import Matcher\n",
    "from pymatch.functions import ks_boot\n",
    "from joblib import Parallel, delayed\n",
    "\n",
    "from utils import treatment_effect\n",
    "\n",
    "sns.set_context(\"notebook\")\n",
    "%matplotlib inline\n",
    "\n",
    "random.seed(0)\n",
    "np.random.seed(0)\n",
    "\n",
    "TREATMENT_COL = 'sex'\n",
    "treatment_subdimensions = []\n",
    "TREATMENT_VAL = 'Female'\n",
    "\n",
    "OUTCOME_NAME = 'is_false_negative'\n",
    "\n",
    "CONT_COVARIATES = ['age', 'educationnum', 'capitalgain', 'capitalloss', 'hoursperweek']\n",
    "\n",
    "TREATMENT = 'T'\n",
    "OUTCOME = 'O'"
   ]
  },
  {
   "cell_type": "code",
   "execution_count": 120,
   "metadata": {},
   "outputs": [],
   "source": [
    "dataset = pd.read_csv('data/census-rf-prediction-test+train.csv', index_col=0)\n",
    "dataset[OUTCOME_NAME] = (~dataset['is_correct']) #& (dataset['income'] == '>50K')\n",
    "dataset.columns = dataset.columns.str.replace('-','')"
   ]
  },
  {
   "cell_type": "code",
   "execution_count": 121,
   "metadata": {},
   "outputs": [
    {
     "data": {
      "text/html": [
       "<div>\n",
       "<style scoped>\n",
       "    .dataframe tbody tr th:only-of-type {\n",
       "        vertical-align: middle;\n",
       "    }\n",
       "\n",
       "    .dataframe tbody tr th {\n",
       "        vertical-align: top;\n",
       "    }\n",
       "\n",
       "    .dataframe thead th {\n",
       "        text-align: right;\n",
       "    }\n",
       "</style>\n",
       "<table border=\"1\" class=\"dataframe\">\n",
       "  <thead>\n",
       "    <tr style=\"text-align: right;\">\n",
       "      <th></th>\n",
       "      <th>age</th>\n",
       "      <th>workclass</th>\n",
       "      <th>education</th>\n",
       "      <th>educationnum</th>\n",
       "      <th>maritalstatus</th>\n",
       "      <th>occupation</th>\n",
       "      <th>race</th>\n",
       "      <th>sex</th>\n",
       "      <th>capitalgain</th>\n",
       "      <th>capitalloss</th>\n",
       "      <th>hoursperweek</th>\n",
       "      <th>nativecountry</th>\n",
       "      <th>O</th>\n",
       "      <th>T</th>\n",
       "    </tr>\n",
       "  </thead>\n",
       "  <tbody>\n",
       "    <tr>\n",
       "      <th>0</th>\n",
       "      <td>25</td>\n",
       "      <td>Private</td>\n",
       "      <td>11th</td>\n",
       "      <td>7</td>\n",
       "      <td>Never-married</td>\n",
       "      <td>Machine-op-inspct</td>\n",
       "      <td>Black</td>\n",
       "      <td>Male</td>\n",
       "      <td>0</td>\n",
       "      <td>0</td>\n",
       "      <td>40</td>\n",
       "      <td>United-States</td>\n",
       "      <td>False</td>\n",
       "      <td>False</td>\n",
       "    </tr>\n",
       "    <tr>\n",
       "      <th>1</th>\n",
       "      <td>38</td>\n",
       "      <td>Private</td>\n",
       "      <td>HS-grad</td>\n",
       "      <td>9</td>\n",
       "      <td>Married-civ-spouse</td>\n",
       "      <td>Farming-fishing</td>\n",
       "      <td>White</td>\n",
       "      <td>Male</td>\n",
       "      <td>0</td>\n",
       "      <td>0</td>\n",
       "      <td>50</td>\n",
       "      <td>United-States</td>\n",
       "      <td>False</td>\n",
       "      <td>False</td>\n",
       "    </tr>\n",
       "    <tr>\n",
       "      <th>2</th>\n",
       "      <td>28</td>\n",
       "      <td>Local-gov</td>\n",
       "      <td>Assoc-acdm</td>\n",
       "      <td>12</td>\n",
       "      <td>Married-civ-spouse</td>\n",
       "      <td>Protective-serv</td>\n",
       "      <td>White</td>\n",
       "      <td>Male</td>\n",
       "      <td>0</td>\n",
       "      <td>0</td>\n",
       "      <td>40</td>\n",
       "      <td>United-States</td>\n",
       "      <td>True</td>\n",
       "      <td>False</td>\n",
       "    </tr>\n",
       "    <tr>\n",
       "      <th>3</th>\n",
       "      <td>44</td>\n",
       "      <td>Private</td>\n",
       "      <td>Some-college</td>\n",
       "      <td>10</td>\n",
       "      <td>Married-civ-spouse</td>\n",
       "      <td>Machine-op-inspct</td>\n",
       "      <td>Black</td>\n",
       "      <td>Male</td>\n",
       "      <td>7688</td>\n",
       "      <td>0</td>\n",
       "      <td>40</td>\n",
       "      <td>United-States</td>\n",
       "      <td>False</td>\n",
       "      <td>False</td>\n",
       "    </tr>\n",
       "    <tr>\n",
       "      <th>4</th>\n",
       "      <td>18</td>\n",
       "      <td>?</td>\n",
       "      <td>Some-college</td>\n",
       "      <td>10</td>\n",
       "      <td>Never-married</td>\n",
       "      <td>?</td>\n",
       "      <td>White</td>\n",
       "      <td>Female</td>\n",
       "      <td>0</td>\n",
       "      <td>0</td>\n",
       "      <td>30</td>\n",
       "      <td>United-States</td>\n",
       "      <td>False</td>\n",
       "      <td>False</td>\n",
       "    </tr>\n",
       "  </tbody>\n",
       "</table>\n",
       "</div>"
      ],
      "text/plain": [
       "   age  workclass     education  educationnum       maritalstatus  \\\n",
       "0   25    Private          11th             7       Never-married   \n",
       "1   38    Private       HS-grad             9  Married-civ-spouse   \n",
       "2   28  Local-gov    Assoc-acdm            12  Married-civ-spouse   \n",
       "3   44    Private  Some-college            10  Married-civ-spouse   \n",
       "4   18          ?  Some-college            10       Never-married   \n",
       "\n",
       "          occupation   race     sex  capitalgain  capitalloss  hoursperweek  \\\n",
       "0  Machine-op-inspct  Black    Male            0            0            40   \n",
       "1    Farming-fishing  White    Male            0            0            50   \n",
       "2    Protective-serv  White    Male            0            0            40   \n",
       "3  Machine-op-inspct  Black    Male         7688            0            40   \n",
       "4                  ?  White  Female            0            0            30   \n",
       "\n",
       "   nativecountry      O      T  \n",
       "0  United-States  False  False  \n",
       "1  United-States  False  False  \n",
       "2  United-States   True  False  \n",
       "3  United-States  False  False  \n",
       "4  United-States  False  False  "
      ]
     },
     "execution_count": 121,
     "metadata": {},
     "output_type": "execute_result"
    }
   ],
   "source": [
    "# Introduce binary treatment column with assumed cause\n",
    "dataset[TREATMENT] = (dataset[TREATMENT_COL] == TREATMENT_VAL) & (dataset['income'] == '>50K')\n",
    "dataset.drop(['income', 'is_correct', 'relationship'], axis=1, inplace=True)\n",
    "dataset.rename({OUTCOME_NAME: OUTCOME}, axis=1, inplace=True)\n",
    "\n",
    "COVARIATES = dataset.drop([TREATMENT, OUTCOME, TREATMENT_COL] + treatment_subdimensions, axis=1).columns.values\n",
    "CAT_COVARIATES = list(c for c in COVARIATES if c not in CONT_COVARIATES)\n",
    "\n",
    "dataset.head()"
   ]
  },
  {
   "cell_type": "markdown",
   "metadata": {},
   "source": [
    "## Analysis with Matching and Propensity Score Stratification"
   ]
  },
  {
   "cell_type": "code",
   "execution_count": 123,
   "metadata": {},
   "outputs": [
    {
     "name": "stdout",
     "output_type": "stream",
     "text": [
      "Training model 1/3\n",
      "Training model 2/3\n",
      "Training model 3/3\n",
      "Train Accuracy:  0.9637606977601245\n",
      "Lost strata: [4]. They were too small.\n"
     ]
    },
    {
     "name": "stderr",
     "output_type": "stream",
     "text": [
      "C:\\Users\\Amnesix\\DOCUME~1\\KIT---~1\\00-AUS~1\\Studium\\WINTER~1\\CAUSAL~1\\mldcpy\\lib\\site-packages\\pandas\\core\\computation\\expressions.py:180: UserWarning: evaluating in Python space because the '*' operator is not supported by numexpr for the bool dtype, use '&' instead\n",
      "  .format(op=op_str, alt_op=unsupported[op_str]))\n"
     ]
    },
    {
     "name": "stdout",
     "output_type": "stream",
     "text": [
      "Covariate educationnum not balanced enough in stratum 0. ks-statistic: Ks_2sampResult(statistic=0.32010522319128193, pvalue=4.529144499942186e-153)\n",
      "Covariate educationnum not balanced enough in stratum 1. ks-statistic: Ks_2sampResult(statistic=0.32010522319128193, pvalue=4.529144499942186e-153)\n",
      "Covariate educationnum not balanced enough in stratum 2. ks-statistic: Ks_2sampResult(statistic=0.32010522319128193, pvalue=4.529144499942186e-153)\n",
      "Covariate educationnum not balanced enough in stratum 3. ks-statistic: Ks_2sampResult(statistic=0.32010522319128193, pvalue=4.529144499942186e-153)\n",
      "Covariate workclass not balanced enough in stratum 0. chi2-statistic: 55.45143974252605 > 15.50731305586545, p-value 3.607006667612035e-09\n",
      "Covariate workclass not balanced enough in stratum 1. chi2-statistic: 14.863618272226496 > 14.067140449340169, p-value 0.037787902378427905\n",
      "Covariate education not balanced enough in stratum 0. chi2-statistic: 670.8045724860002 > 24.995790139728616, p-value 3.084305350206069e-133\n",
      "Covariate education not balanced enough in stratum 1. chi2-statistic: 26.874942330635715 > 14.067140449340169, p-value 0.0003510002426301698\n",
      "Covariate education not balanced enough in stratum 2. chi2-statistic: 22.2284105325041 > 14.067140449340169, p-value 0.002319963446641442\n",
      "Covariate maritalstatus not balanced enough in stratum 0. chi2-statistic: 215.1307193386094 > 12.591587243743977, p-value 1.1359187085008444e-43\n",
      "Covariate maritalstatus not balanced enough in stratum 1. chi2-statistic: 12.83172535265314 > 12.591587243743977, p-value 0.04578736440155552\n",
      "Covariate occupation not balanced enough in stratum 0. chi2-statistic: 950.1616714486318 > 23.684791304840576, p-value 7.652356446980227e-194\n",
      "Covariate occupation not balanced enough in stratum 2. chi2-statistic: 13.220587751743228 > 9.487729036781154, p-value 0.01024677673553788\n",
      "Covariate race not balanced enough in stratum 0. chi2-statistic: 13.992154948829677 > 9.487729036781154, p-value 0.007320136023932012\n",
      "Covariate nativecountry not balanced enough in stratum 0. chi2-statistic: 67.59682456104214 > 56.94238714682408, p-value 0.005548434842756414\n"
     ]
    },
    {
     "data": {
      "text/plain": [
       "0.311916805480414"
      ]
     },
     "execution_count": 123,
     "metadata": {},
     "output_type": "execute_result"
    }
   ],
   "source": [
    "match_vars = []\n",
    "att = treatment_effect.match_then_stratify(dataset, match_vars, TREATMENT, TREATMENT_COL, treatment_subdimensions,\n",
    "                                           OUTCOME, CONT_COVARIATES, CAT_COVARIATES, n_models=3, num_strata=5)\n",
    "att"
   ]
  },
  {
   "cell_type": "markdown",
   "metadata": {},
   "source": [
    "#### Get statistical significance by comparing with placebo treatment"
   ]
  },
  {
   "cell_type": "code",
   "execution_count": 15,
   "metadata": {},
   "outputs": [],
   "source": [
    "n_iter = 50\n",
    "\n",
    "def generate_placebo_sample(placebo_data):\n",
    "    placebo_data[TREATMENT] = np.random.randint(0, 2, len(placebo_data))\n",
    "    return treatment_effect.match_then_stratify(placebo_data, match_vars, TREATMENT, TREATMENT_COL, treatment_subdimensions, \n",
    "                               OUTCOME, CONT_COVARIATES, CAT_COVARIATES, n_models=1)\n",
    "placebo_results = Parallel(n_jobs=4)(delayed(generate_placebo_sample)(dataset.copy()) for _ in range(n_iter))"
   ]
  },
  {
   "cell_type": "code",
   "execution_count": 16,
   "metadata": {},
   "outputs": [
    {
     "name": "stdout",
     "output_type": "stream",
     "text": [
      "Treatment effect outside 95%-bounds of placebo effect: -0.02243245043437082 not in [-0.010196594089864622, 0.01540148461817272]\n"
     ]
    }
   ],
   "source": [
    "if (np.percentile(placebo_results, 2.5) <= att <= np.percentile(placebo_results, 97.5)):\n",
    "    print('Treatment effect within 95%-bounds of placebo effect: {} <= {} <= {}'.format(np.percentile(placebo_results, 2.5), att, np.percentile(placebo_results, 97.5)))\n",
    "else:\n",
    "    print('Treatment effect outside 95%-bounds of placebo effect: {} not in [{}, {}]'.format(att, np.percentile(placebo_results, 2.5), np.percentile(placebo_results, 97.5)))"
   ]
  },
  {
   "cell_type": "code",
   "execution_count": 17,
   "metadata": {},
   "outputs": [],
   "source": [
    "treatment_results = Parallel(n_jobs=4)(delayed(treatment_effect.match_then_stratify)(dataset.sample(frac=.7), match_vars, TREATMENT, TREATMENT_COL, \n",
    "                                                                                     treatment_subdimensions, OUTCOME, CONT_COVARIATES, CAT_COVARIATES, \n",
    "                                                                                     n_models=1) for _ in  range(n_iter))"
   ]
  },
  {
   "cell_type": "code",
   "execution_count": 18,
   "metadata": {},
   "outputs": [
    {
     "data": {
      "image/png": "[encoded data removed]",
      "text/plain": [
       "<Figure size 720x360 with 1 Axes>"
      ]
     },
     "metadata": {
      "needs_background": "light"
     },
     "output_type": "display_data"
    }
   ],
   "source": [
    "# QQ-Plot to compare empirical distributions. If straight line, no significant difference from placebo treatment.\n",
    "from statsmodels.graphics.gofplots import qqplot_2samples\n",
    "import pylab\n",
    "\n",
    "qqplot_2samples(np.array(placebo_results), np.array(treatment_results), xlabel='Actual Treatment', ylabel='Placebo', line='45')\n",
    "pylab.show()"
   ]
  },
  {
   "cell_type": "code",
   "execution_count": 19,
   "metadata": {},
   "outputs": [
    {
     "name": "stdout",
     "output_type": "stream",
     "text": [
      "Rejecting hypothesis that placebo treatment and actual treatment are of same distribution (K-S statistic: 1.0, p-value: 2.16468817146063e-23)\n"
     ]
    }
   ],
   "source": [
    "alpha = .05\n",
    "critical_value = np.sqrt(-np.log(alpha) / 2) * np.sqrt(2 * n_iter/(n_iter * n_iter))\n",
    "\n",
    "ks_test = scipy.stats.ks_2samp(np.array(placebo_results), np.array(treatment_results))\n",
    "if ks_test[0] > critical_value and ks_test[1] < alpha:\n",
    "    print('Rejecting hypothesis that placebo treatment and actual treatment are of same distribution (K-S statistic: {}, p-value: {})'.format(ks_test[0], ks_test[1]))\n",
    "else: \n",
    "    print('Cannot reject hypothesis that placebo and actual treatment are identical distribution (K-S statistic: {}, p-value: {})'.format(ks_test[0], ks_test[1]))"
   ]
  },
  {
   "cell_type": "code",
   "execution_count": null,
   "metadata": {},
   "outputs": [],
   "source": []
  }
 ],
 "metadata": {
  "kernelspec": {
   "display_name": "Python 3 MLDC",
   "language": "python",
   "name": "mldcpy"
  },
  "language_info": {
   "codemirror_mode": {
    "name": "ipython",
    "version": 3
   },
   "file_extension": ".py",
   "mimetype": "text/x-python",
   "name": "python",
   "nbconvert_exporter": "python",
   "pygments_lexer": "ipython3",
   "version": "3.6.5"
  }
 },
 "nbformat": 4,
 "nbformat_minor": 2
}
