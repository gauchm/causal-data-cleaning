{
 "cells": [
  {
   "cell_type": "markdown",
   "metadata": {},
   "source": [
    "# Create a Dataset with Synthetic Errors\n",
    "If Source is 'C' and Country of Birth is Asia, this is likely to cause errors on Last Name (e.g. due to mixing up first/last name). Country of Birth also influences Citizenship, but Citizenship doesn't cause errors."
   ]
  },
  {
   "cell_type": "code",
   "execution_count": 1,
   "metadata": {},
   "outputs": [],
   "source": [
    "import numpy as np\n",
    "import pandas as pd\n",
    "import random\n",
    "import string"
   ]
  },
  {
   "cell_type": "code",
   "execution_count": 2,
   "metadata": {},
   "outputs": [],
   "source": [
    "CONTINENTS = ['North America', 'Europe', 'Asia']\n",
    "COUNTRIES = {'North America': ['Canada', 'USA'], 'Europe': ['France', 'Germany', 'Spain', 'Sweden'], 'Asia': ['China', 'Japan']}\n",
    "\n",
    "SOURCES = ['A', 'B', 'C', 'D']\n",
    "MARITAL_STATUSES = ['Married', 'Single', 'Divorced', 'Widowed']"
   ]
  },
  {
   "cell_type": "code",
   "execution_count": 3,
   "metadata": {},
   "outputs": [],
   "source": [
    "dataset = pd.DataFrame(columns=['Source', 'Last Name', 'CountryOfBirth', 'ContinentOfBirth', 'CitizenshipCountry', 'CitizenshipContinent', 'NumChildren', 'MaritalStatus'])"
   ]
  },
  {
   "cell_type": "code",
   "execution_count": 4,
   "metadata": {},
   "outputs": [],
   "source": [
    "prob_birth_citizen_match = 0.85\n",
    "for i in range(10000):\n",
    "    source = random.choice(SOURCES)\n",
    "    name = ''.join(random.choice(string.ascii_lowercase) for i in range(5))\n",
    "    num_children = random.randint(0, 4)\n",
    "    marital_status = random.choice(MARITAL_STATUSES)\n",
    "    continent_of_birth = random.choice(CONTINENTS)\n",
    "    country_of_birth = random.choice(COUNTRIES[continent_of_birth])\n",
    "    if random.uniform(0,1) > prob_birth_citizen_match:\n",
    "        citizenship_continent = random.choice(CONTINENTS)\n",
    "        citizenship_country = random.choice(COUNTRIES[citizenship_continent])\n",
    "    else:\n",
    "        citizenship_continent = continent_of_birth\n",
    "        citizenship_country = country_of_birth\n",
    "    dataset = dataset.append({'Source': source, 'Last Name': name, 'CountryOfBirth': country_of_birth, 'ContinentOfBirth': continent_of_birth, 'CitizenshipCountry': citizenship_country, 'CitizenshipContinent': citizenship_continent, 'NumChildren': num_children, 'MaritalStatus': marital_status}, ignore_index=True)"
   ]
  },
  {
   "cell_type": "code",
   "execution_count": 5,
   "metadata": {},
   "outputs": [],
   "source": [
    "# flag errors\n",
    "prob_error_asia_source_c = 0.97\n",
    "prob_error_asia_source_other = 0.07\n",
    "prob_error_other = 0.05\n",
    "\n",
    "errors_asia_source_c = np.random.rand(len(dataset[(dataset['ContinentOfBirth'] == 'Asia') & (dataset['Source'] == 'C')])) >= prob_error_asia_source_c\n",
    "errors_asia_source_other = np.random.rand(len(dataset[(dataset['ContinentOfBirth'] == 'Asia') & (dataset['Source'] != 'C')])) >= prob_error_asia_source_other\n",
    "errors_other = np.random.rand(len(dataset[dataset['ContinentOfBirth'] != 'Asia'])) >= prob_error_other\n",
    "\n",
    "dataset.loc[(dataset['ContinentOfBirth'] == 'Asia') & (dataset['Source'] == 'C'), 'Last Name Correct'] = errors_asia_source_c\n",
    "dataset.loc[(dataset['ContinentOfBirth'] == 'Asia') & (dataset['Source'] != 'C'), 'Last Name Correct'] = errors_asia_source_other\n",
    "dataset.loc[dataset['ContinentOfBirth'] != 'Asia','Last Name Correct'] = errors_other"
   ]
  },
  {
   "cell_type": "code",
   "execution_count": 6,
   "metadata": {},
   "outputs": [
    {
     "data": {
      "text/plain": [
       "(0.030998851894374284, 0.9263410728582866, 0.9520434323631428)"
      ]
     },
     "execution_count": 6,
     "metadata": {},
     "output_type": "execute_result"
    }
   ],
   "source": [
    "# verify error rates\n",
    "a = dataset.loc[(dataset['ContinentOfBirth'] == 'Asia') & (dataset['Source'] == 'C'), 'Last Name Correct']\n",
    "b = dataset.loc[(dataset['ContinentOfBirth'] == 'Asia') & (dataset['Source'] != 'C'), 'Last Name Correct']\n",
    "c = dataset.loc[dataset['ContinentOfBirth'] != 'Asia','Last Name Correct']\n",
    "a.sum()/a.count(), b.sum()/b.count(), c.sum()/c.count()"
   ]
  },
  {
   "cell_type": "code",
   "execution_count": 7,
   "metadata": {},
   "outputs": [
    {
     "data": {
      "text/html": [
       "<div>\n",
       "<style scoped>\n",
       "    .dataframe tbody tr th:only-of-type {\n",
       "        vertical-align: middle;\n",
       "    }\n",
       "\n",
       "    .dataframe tbody tr th {\n",
       "        vertical-align: top;\n",
       "    }\n",
       "\n",
       "    .dataframe thead th {\n",
       "        text-align: right;\n",
       "    }\n",
       "</style>\n",
       "<table border=\"1\" class=\"dataframe\">\n",
       "  <thead>\n",
       "    <tr style=\"text-align: right;\">\n",
       "      <th></th>\n",
       "      <th>Source</th>\n",
       "      <th>Last Name</th>\n",
       "      <th>CountryOfBirth</th>\n",
       "      <th>ContinentOfBirth</th>\n",
       "      <th>CitizenshipCountry</th>\n",
       "      <th>CitizenshipContinent</th>\n",
       "      <th>NumChildren</th>\n",
       "      <th>MaritalStatus</th>\n",
       "      <th>Last Name Correct</th>\n",
       "    </tr>\n",
       "  </thead>\n",
       "  <tbody>\n",
       "    <tr>\n",
       "      <th>0</th>\n",
       "      <td>A</td>\n",
       "      <td>wobid</td>\n",
       "      <td>Canada</td>\n",
       "      <td>North America</td>\n",
       "      <td>Canada</td>\n",
       "      <td>North America</td>\n",
       "      <td>4</td>\n",
       "      <td>Single</td>\n",
       "      <td>True</td>\n",
       "    </tr>\n",
       "    <tr>\n",
       "      <th>1</th>\n",
       "      <td>A</td>\n",
       "      <td>ikmdt</td>\n",
       "      <td>Canada</td>\n",
       "      <td>North America</td>\n",
       "      <td>Canada</td>\n",
       "      <td>North America</td>\n",
       "      <td>3</td>\n",
       "      <td>Single</td>\n",
       "      <td>True</td>\n",
       "    </tr>\n",
       "    <tr>\n",
       "      <th>2</th>\n",
       "      <td>A</td>\n",
       "      <td>dolti</td>\n",
       "      <td>Sweden</td>\n",
       "      <td>Europe</td>\n",
       "      <td>Sweden</td>\n",
       "      <td>Europe</td>\n",
       "      <td>1</td>\n",
       "      <td>Married</td>\n",
       "      <td>True</td>\n",
       "    </tr>\n",
       "    <tr>\n",
       "      <th>3</th>\n",
       "      <td>C</td>\n",
       "      <td>ofixw</td>\n",
       "      <td>Spain</td>\n",
       "      <td>Europe</td>\n",
       "      <td>Spain</td>\n",
       "      <td>Europe</td>\n",
       "      <td>4</td>\n",
       "      <td>Married</td>\n",
       "      <td>True</td>\n",
       "    </tr>\n",
       "    <tr>\n",
       "      <th>4</th>\n",
       "      <td>A</td>\n",
       "      <td>hunpb</td>\n",
       "      <td>Canada</td>\n",
       "      <td>North America</td>\n",
       "      <td>Canada</td>\n",
       "      <td>North America</td>\n",
       "      <td>2</td>\n",
       "      <td>Single</td>\n",
       "      <td>True</td>\n",
       "    </tr>\n",
       "  </tbody>\n",
       "</table>\n",
       "</div>"
      ],
      "text/plain": [
       "  Source Last Name CountryOfBirth ContinentOfBirth CitizenshipCountry  \\\n",
       "0      A     wobid         Canada    North America             Canada   \n",
       "1      A     ikmdt         Canada    North America             Canada   \n",
       "2      A     dolti         Sweden           Europe             Sweden   \n",
       "3      C     ofixw          Spain           Europe              Spain   \n",
       "4      A     hunpb         Canada    North America             Canada   \n",
       "\n",
       "  CitizenshipContinent NumChildren MaritalStatus Last Name Correct  \n",
       "0        North America           4        Single              True  \n",
       "1        North America           3        Single              True  \n",
       "2               Europe           1       Married              True  \n",
       "3               Europe           4       Married              True  \n",
       "4        North America           2        Single              True  "
      ]
     },
     "execution_count": 7,
     "metadata": {},
     "output_type": "execute_result"
    }
   ],
   "source": [
    "dataset.head()"
   ]
  },
  {
   "cell_type": "code",
   "execution_count": 8,
   "metadata": {},
   "outputs": [],
   "source": [
    "# Create Data X-Ray input\n",
    "feature_vector = 'a:a:a:a:a:' # Source:BirthPlace:Citizenship:NumChildren:MaritalStatus:\n",
    "structure_vector = '1:1:1:1:1:'\n",
    "max_dims = '1:2:2:1:1:'\n",
    "error_rate = dataset['Last Name Correct'].mean()\n",
    "cost = 0.0"
   ]
  },
  {
   "cell_type": "code",
   "execution_count": 9,
   "metadata": {},
   "outputs": [
    {
     "data": {
      "text/plain": [
       "'a:a:a:a:a:\\t1:2:2:1:1:;0.8654;0.0;false;a:a:a:a:a:;1:1:1:1:1:;10000;0;'"
      ]
     },
     "execution_count": 9,
     "metadata": {},
     "output_type": "execute_result"
    }
   ],
   "source": [
    "top_row = feature_vector + '\\t' + max_dims + ';' + str(error_rate) + ';' + str(cost) + ';false;' + feature_vector + ';' + structure_vector + ';' + str(len(dataset)) + ';0;'\n",
    "top_row"
   ]
  },
  {
   "cell_type": "code",
   "execution_count": 10,
   "metadata": {},
   "outputs": [],
   "source": [
    "dataset['BirthString'] = 'a_' + dataset['ContinentOfBirth'] + '_' + dataset['CountryOfBirth'] + '_:'\n",
    "dataset['CitizenshipString'] = 'a_' + dataset['CitizenshipContinent'] + '_' + dataset['CitizenshipCountry'] + '_:'\n",
    "for col in ['Source', 'NumChildren', 'MaritalStatus']:\n",
    "    dataset[col + 'String'] = 'a_' + dataset[col].astype(str) + '_:'\n",
    "\n",
    "dataset['input-str'] = dataset['SourceString'] + dataset['BirthString'] + dataset['CitizenshipString'] +  dataset['NumChildrenString'] +  dataset['MaritalStatusString']"
   ]
  },
  {
   "cell_type": "code",
   "execution_count": 11,
   "metadata": {},
   "outputs": [],
   "source": [
    "with open('./data/synthetic-input.txt', 'w') as f:\n",
    "    f.write(top_row)\n",
    "    list(f.write('{}%{}%{}='.format(i, dataset['Last Name Correct'].iloc[i], dataset['input-str'].iloc[i])) for i in range(len(dataset)))"
   ]
  },
  {
   "cell_type": "code",
   "execution_count": null,
   "metadata": {
    "slideshow": {
     "slide_type": "-"
    }
   },
   "outputs": [],
   "source": []
  }
 ],
 "metadata": {
  "kernelspec": {
   "display_name": "Python 3",
   "language": "python",
   "name": "python3"
  },
  "language_info": {
   "codemirror_mode": {
    "name": "ipython",
    "version": 3
   },
   "file_extension": ".py",
   "mimetype": "text/x-python",
   "name": "python",
   "nbconvert_exporter": "python",
   "pygments_lexer": "ipython3",
   "version": "3.6.5"
  }
 },
 "nbformat": 4,
 "nbformat_minor": 2
}
