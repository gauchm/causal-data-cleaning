{
 "cells": [
  {
   "cell_type": "markdown",
   "metadata": {},
   "source": [
    "# Create a Dataset with Synthetic Errors\n",
    "If Country of Birth is `Asia`, a tuple is more likely than usual to have an erroneous Last Name (e.g. due to transcription errors). Country of Birth also influences Citizenship, but Citizenship doesn't cause errors."
   ]
  },
  {
   "cell_type": "code",
   "execution_count": 25,
   "metadata": {},
   "outputs": [],
   "source": [
    "import numpy as np\n",
    "import pandas as pd\n",
    "import random\n",
    "import string\n",
    "\n",
    "random.seed(0)\n",
    "np.random.seed(0)"
   ]
  },
  {
   "cell_type": "code",
   "execution_count": 26,
   "metadata": {},
   "outputs": [],
   "source": [
    "CONTINENTS = ['North America', 'Europe', 'Asia']\n",
    "COUNTRIES = {'North America': ['Canada', 'USA'], 'Europe': ['France', 'Germany', 'Spain', 'Sweden'], 'Asia': ['China', 'Japan']}\n",
    "\n",
    "SOURCES = ['A', 'B', 'C', 'D']\n",
    "MARITAL_STATUSES = ['Married', 'Single', 'Divorced', 'Widowed']"
   ]
  },
  {
   "cell_type": "code",
   "execution_count": 27,
   "metadata": {},
   "outputs": [],
   "source": [
    "dataset = pd.DataFrame(columns=['Source', 'Last Name', 'CountryOfBirth', 'ContinentOfBirth', 'CitizenshipCountry', 'CitizenshipContinent', 'NumChildren', 'MaritalStatus'])"
   ]
  },
  {
   "cell_type": "code",
   "execution_count": 28,
   "metadata": {},
   "outputs": [],
   "source": [
    "prob_birth_citizen_match = 0.7\n",
    "for i in range(10000):\n",
    "    source = random.choice(SOURCES)\n",
    "    name = ''.join(random.choice(string.ascii_lowercase) for i in range(5))\n",
    "    num_children = random.randint(0, 4)\n",
    "    marital_status = random.choice(MARITAL_STATUSES)\n",
    "    continent_of_birth = random.choice(CONTINENTS)\n",
    "    country_of_birth = random.choice(COUNTRIES[continent_of_birth])\n",
    "    if random.uniform(0,1) > prob_birth_citizen_match:\n",
    "        citizenship_continent = random.choice(CONTINENTS)\n",
    "        citizenship_country = random.choice(COUNTRIES[citizenship_continent])\n",
    "    else:\n",
    "        citizenship_continent = continent_of_birth\n",
    "        citizenship_country = country_of_birth\n",
    "    dataset = dataset.append({'Source': source, 'Last Name': name, 'CountryOfBirth': country_of_birth, 'ContinentOfBirth': continent_of_birth, 'CitizenshipCountry': citizenship_country, 'CitizenshipContinent': citizenship_continent, 'NumChildren': num_children, 'MaritalStatus': marital_status}, ignore_index=True)"
   ]
  },
  {
   "cell_type": "code",
   "execution_count": 29,
   "metadata": {},
   "outputs": [],
   "source": [
    "# flag errors\n",
    "prob_error_asia_source_c = 0.2\n",
    "prob_error_asia_source_other = 0.2\n",
    "prob_error_other = 0.05\n",
    "\n",
    "errors_asia_source_c = np.random.rand(len(dataset[(dataset['ContinentOfBirth'] == 'Asia') & (dataset['Source'] == 'C')])) >= prob_error_asia_source_c\n",
    "errors_asia_source_other = np.random.rand(len(dataset[(dataset['ContinentOfBirth'] == 'Asia') & (dataset['Source'] != 'C')])) >= prob_error_asia_source_other\n",
    "errors_other = np.random.rand(len(dataset[dataset['ContinentOfBirth'] != 'Asia'])) >= prob_error_other\n",
    "\n",
    "dataset.loc[(dataset['ContinentOfBirth'] == 'Asia') & (dataset['Source'] == 'C'), 'Last Name Correct'] = errors_asia_source_c\n",
    "dataset.loc[(dataset['ContinentOfBirth'] == 'Asia') & (dataset['Source'] != 'C'), 'Last Name Correct'] = errors_asia_source_other\n",
    "dataset.loc[dataset['ContinentOfBirth'] != 'Asia','Last Name Correct'] = errors_other"
   ]
  },
  {
   "cell_type": "code",
   "execution_count": 30,
   "metadata": {},
   "outputs": [
    {
     "data": {
      "text/plain": [
       "(0.796092796092796, 0.8015206082432973, 0.9465728823705477)"
      ]
     },
     "execution_count": 30,
     "metadata": {},
     "output_type": "execute_result"
    }
   ],
   "source": [
    "# verify error rates\n",
    "a = dataset.loc[(dataset['ContinentOfBirth'] == 'Asia') & (dataset['Source'] == 'C'), 'Last Name Correct']\n",
    "b = dataset.loc[(dataset['ContinentOfBirth'] == 'Asia') & (dataset['Source'] != 'C'), 'Last Name Correct']\n",
    "c = dataset.loc[dataset['ContinentOfBirth'] != 'Asia','Last Name Correct']\n",
    "a.sum()/a.count(), b.sum()/b.count(), c.sum()/c.count()"
   ]
  },
  {
   "cell_type": "code",
   "execution_count": 31,
   "metadata": {},
   "outputs": [],
   "source": [
    "dataset.head()\n",
    "dataset.to_csv('data/synthetic-dataset-scenario-B-correlation{}.csv'.format(prob_birth_citizen_match), index=False)"
   ]
  },
  {
   "cell_type": "markdown",
   "metadata": {},
   "source": [
    "### Formatting for Data X-Ray\n",
    "Now, we format the tuples such that they can be read by Data X-Ray to find an assumed cause."
   ]
  },
  {
   "cell_type": "code",
   "execution_count": 10,
   "metadata": {},
   "outputs": [
    {
     "data": {
      "text/plain": [
       "'a:a:a:a:a:\\t1:2:2:1:1:;0.8978;0.0;false;a:a:a:a:a:;1:1:1:1:1:;10000;0;'"
      ]
     },
     "execution_count": 10,
     "metadata": {},
     "output_type": "execute_result"
    }
   ],
   "source": [
    "feature_vector = 'a:a:a:a:a:'\n",
    "structure_vector = '1:1:1:1:1:'\n",
    "max_dims = '1:2:2:1:1:'\n",
    "error_rate = dataset['Last Name Correct'].mean()\n",
    "cost = 0.0\n",
    "\n",
    "top_row = feature_vector + '\\t' + max_dims + ';' + str(error_rate) + ';' + str(cost) + ';false;' + feature_vector + ';' + structure_vector + ';' + str(len(dataset)) + ';0;'\n",
    "top_row"
   ]
  },
  {
   "cell_type": "code",
   "execution_count": 11,
   "metadata": {},
   "outputs": [],
   "source": [
    "dataset['BirthString'] = 'a_' + dataset['ContinentOfBirth'] + '_' + dataset['CountryOfBirth'] + '_:'\n",
    "dataset['CitizenshipString'] = 'a_' + dataset['CitizenshipContinent'] + '_' + dataset['CitizenshipCountry'] + '_:'\n",
    "for col in ['Source', 'NumChildren', 'MaritalStatus']:\n",
    "    dataset[col + 'String'] = 'a_' + dataset[col].astype(str) + '_:'\n",
    "\n",
    "dataset['input-str'] = dataset['SourceString'] + dataset['BirthString'] + dataset['CitizenshipString'] +  dataset['NumChildrenString'] +  dataset['MaritalStatusString']"
   ]
  },
  {
   "cell_type": "code",
   "execution_count": 12,
   "metadata": {},
   "outputs": [],
   "source": [
    "# write Data X-Ray input file\n",
    "with open('./data/synthetic-input-scenario-B.txt', 'w') as f:\n",
    "    f.write(top_row)\n",
    "    list(f.write('{}%{}%{}='.format(i, dataset['Last Name Correct'].iloc[i], dataset['input-str'].iloc[i])) for i in range(len(dataset)))"
   ]
  }
 ],
 "metadata": {
  "kernelspec": {
   "display_name": "Python 3",
   "language": "python",
   "name": "python3"
  },
  "language_info": {
   "codemirror_mode": {
    "name": "ipython",
    "version": 3
   },
   "file_extension": ".py",
   "mimetype": "text/x-python",
   "name": "python",
   "nbconvert_exporter": "python",
   "pygments_lexer": "ipython3",
   "version": "3.6.3"
  }
 },
 "nbformat": 4,
 "nbformat_minor": 2
}
