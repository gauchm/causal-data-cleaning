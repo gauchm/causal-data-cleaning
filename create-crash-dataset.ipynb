{
 "cells": [
  {
   "cell_type": "markdown",
   "metadata": {},
   "source": [
    "# Transform Crashes Dataset to Data X-Ray Input\n",
    "Data Source: https://data.cityofchicago.org/Transportation/Traffic-Crashes-Crashes/85ca-t3if"
   ]
  },
  {
   "cell_type": "code",
   "execution_count": 1,
   "metadata": {},
   "outputs": [],
   "source": [
    "import pandas as pd\n",
    "import numpy as np"
   ]
  },
  {
   "cell_type": "code",
   "execution_count": 3,
   "metadata": {},
   "outputs": [],
   "source": [
    "raw_crashes = pd.read_csv('../scratch/crashes.csv', dtype='str', nrows=100000)"
   ]
  },
  {
   "cell_type": "code",
   "execution_count": 4,
   "metadata": {},
   "outputs": [],
   "source": [
    "# drop irrelevant columns\n",
    "raw_crashes.drop(['RD_NO', 'CRASH_DATE', 'REPORT_TYPE', 'CRASH_DATE_EST_I', 'STREET_NO', 'STREET_NAME', 'HIT_AND_RUN_I', 'DATE_POLICE_NOTIFIED', 'BEAT_OF_OCCURRENCE', 'PHOTOS_TAKEN_I', 'STATEMENTS_TAKEN_I', 'INJURIES_TOTAL', 'MOST_SEVERE_INJURY', 'INJURIES_FATAL', 'INJURIES_INCAPACITATING', 'INJURIES_NON_INCAPACITATING', 'INJURIES_REPORTED_NOT_EVIDENT', 'INJURIES_NO_INDICATION', 'INJURIES_UNKNOWN', 'DAMAGE'], axis=1, inplace=True)"
   ]
  },
  {
   "cell_type": "code",
   "execution_count": 5,
   "metadata": {},
   "outputs": [],
   "source": [
    "#raw_crashes['FAKE_COL'] = raw_crashes['CRASH_TYPE'] == 'NO INJURY / DRIVE AWAY'\n",
    "raw_crashes.drop(['NOT_RIGHT_OF_WAY_I', 'CRASH_DAY_OF_WEEK', 'CRASH_MONTH', 'DOORING_I', 'WORK_ZONE_I', 'WORK_ZONE_TYPE', 'WORKERS_PRESENT_I'], axis=1, inplace=True)\n",
    "#raw_crashes = raw_crashes[['CRASH_TYPE', 'FAKE_COL', 'WEATHER_CONDITION']]"
   ]
  },
  {
   "cell_type": "code",
   "execution_count": 6,
   "metadata": {},
   "outputs": [
    {
     "data": {
      "text/plain": [
       "Index(['POSTED_SPEED_LIMIT', 'TRAFFIC_CONTROL_DEVICE', 'DEVICE_CONDITION',\n",
       "       'WEATHER_CONDITION', 'LIGHTING_CONDITION', 'FIRST_CRASH_TYPE',\n",
       "       'TRAFFICWAY_TYPE', 'LANE_CNT', 'ALIGNMENT', 'ROADWAY_SURFACE_COND',\n",
       "       'ROAD_DEFECT', 'CRASH_TYPE', 'INTERSECTION_RELATED_I',\n",
       "       'STREET_DIRECTION', 'NUM_UNITS', 'CRASH_HOUR'],\n",
       "      dtype='object')"
      ]
     },
     "execution_count": 6,
     "metadata": {},
     "output_type": "execute_result"
    }
   ],
   "source": [
    "# drop columns with too many unique values\n",
    "raw_crashes.drop(['PRIM_CONTRIBUTORY_CAUSE', 'SEC_CONTRIBUTORY_CAUSE', 'LOCATION', 'LATITUDE', 'LONGITUDE'], axis=1, inplace=True)\n",
    "\n",
    "raw_crashes.columns"
   ]
  },
  {
   "cell_type": "code",
   "execution_count": 7,
   "metadata": {},
   "outputs": [],
   "source": [
    "# bucket lat/lon/location\n",
    "#raw_crashes['LATITUDE'] = raw_crashes['LATITUDE'].astype(float).round(2)\n",
    "#raw_crashes['LONGITUDE'] = raw_crashes['LONGITUDE'].astype(float).round(2)"
   ]
  },
  {
   "cell_type": "code",
   "execution_count": 32,
   "metadata": {},
   "outputs": [
    {
     "data": {
      "text/plain": [
       "(12632, 16)"
      ]
     },
     "execution_count": 32,
     "metadata": {},
     "output_type": "execute_result"
    }
   ],
   "source": [
    "raw_crashes = raw_crashes[(raw_crashes['ROAD_DEFECT'] != 'OTHER') & (raw_crashes['ROADWAY_SURFACE_COND'] != 'OTHER') & (raw_crashes['TRAFFICWAY_TYPE'] != 'OTHER') & (raw_crashes['WEATHER_CONDITION'] != 'OTHER') & (raw_crashes['WEATHER_CONDITION'] != 'UNKNOWN') & (raw_crashes['LIGHTING_CONDITION'] != 'UNKNOWN') & (raw_crashes['ROADWAY_SURFACE_COND'] != 'UNKNOWN') & (raw_crashes['ROAD_DEFECT'] != 'UNKNOWN') & pd.notna(raw_crashes['INTERSECTION_RELATED_I']) & pd.notna(raw_crashes['NUM_UNITS']) &(raw_crashes['TRAFFICWAY_TYPE'] != 'UNKNOWN') & pd.notna(raw_crashes['LANE_CNT']) & (raw_crashes['TRAFFIC_CONTROL_DEVICE'] != 'UNKNOWN') & (raw_crashes['TRAFFIC_CONTROL_DEVICE'] != 'OTHER') & (raw_crashes['DEVICE_CONDITION'] != 'UNKNOWN') & (raw_crashes['DEVICE_CONDITION'] != 'OTHER')]\n",
    "raw_crashes.shape"
   ]
  },
  {
   "cell_type": "code",
   "execution_count": 33,
   "metadata": {},
   "outputs": [],
   "source": [
    "raw_crashes['LANE_CNT'] = raw_crashes['LANE_CNT'].apply(lambda x: '<=1' if int(x) <= 1 \\\n",
    "                                        else '(1;3]' if 1 < int(x) <= 3 \\\n",
    "                                        else '(3;5]' if 3 <= int(x) <= 5 \\\n",
    "                                        else '>5')\n",
    "\n",
    "raw_crashes['TRAFFICWAYTYPE_LANECOUNT'] = raw_crashes['TRAFFICWAY_TYPE'].astype(str) + '--///--' + raw_crashes['LANE_CNT'].astype(str)\n",
    "raw_crashes.drop(['TRAFFICWAY_TYPE', 'LANE_CNT'], axis=1, inplace=True)\n",
    "\n",
    "raw_crashes['TRAFFICCONTROLDEVICE_DEVICECONDITION'] = raw_crashes['TRAFFIC_CONTROL_DEVICE'].astype(str) + '--///--' + raw_crashes['DEVICE_CONDITION'].astype(str)\n",
    "raw_crashes.drop(['TRAFFIC_CONTROL_DEVICE', 'DEVICE_CONDITION'], axis=1, inplace=True)\n",
    "\n",
    "raw_crashes['CRASH_HOUR'] = raw_crashes['CRASH_HOUR'].apply(lambda x: 'MORNING' if 6 <= int(x) < 12 \\\n",
    "                                        else 'DAY' if 12 <= int(x) < 17 \\\n",
    "                                        else 'EVENING' if 17 <= int(x) < 21 \\\n",
    "                                        else 'NIGHT')\n",
    "\n",
    "raw_crashes['POSTED_SPEED_LIMIT'] = raw_crashes['POSTED_SPEED_LIMIT'].apply(lambda x: '<10' if int(x) < 10 \\\n",
    "                                        else '[10;30)' if 10 <= int(x) < 30 \\\n",
    "                                        else '[30;50)' if 30 <= int(x) < 50 \\\n",
    "                                        else '>50')"
   ]
  },
  {
   "cell_type": "code",
   "execution_count": 34,
   "metadata": {},
   "outputs": [
    {
     "data": {
      "text/plain": [
       "[('POSTED_SPEED_LIMIT',\n",
       "  array(['[30;50)', '[10;30)', '<10', '>50'], dtype=object)),\n",
       " ('WEATHER_CONDITION',\n",
       "  array(['CLEAR', 'CLOUDY/OVERCAST', 'SNOW', 'RAIN', 'SLEET/HAIL',\n",
       "         'FOG/SMOKE/HAZE', 'SEVERE CROSS WIND GATE'], dtype=object)),\n",
       " ('LIGHTING_CONDITION',\n",
       "  array(['DARKNESS', 'DARKNESS, LIGHTED ROAD', 'DAYLIGHT', 'DUSK', 'DAWN'],\n",
       "        dtype=object)),\n",
       " ('FIRST_CRASH_TYPE', array(['ANGLE', 'REAR END', 'TURNING', 'PEDESTRIAN',\n",
       "         'SIDESWIPE SAME DIRECTION', 'PARKED MOTOR VEHICLE',\n",
       "         'OTHER NONCOLLISION', 'HEAD ON', 'SIDESWIPE OPPOSITE DIRECTION',\n",
       "         'FIXED OBJECT', 'PEDALCYCLIST', 'OTHER OBJECT', 'ANIMAL',\n",
       "         'OVERTURNED'], dtype=object)),\n",
       " ('ALIGNMENT',\n",
       "  array(['STRAIGHT AND LEVEL', 'STRAIGHT ON GRADE', 'CURVE, LEVEL',\n",
       "         'CURVE ON HILLCREST', 'CURVE ON GRADE', 'STRAIGHT ON HILLCREST'],\n",
       "        dtype=object)),\n",
       " ('ROADWAY_SURFACE_COND',\n",
       "  array(['DRY', 'SNOW OR SLUSH', 'WET', 'ICE', 'SAND, MUD, DIRT'],\n",
       "        dtype=object)),\n",
       " ('ROAD_DEFECT',\n",
       "  array(['NO DEFECTS', 'RUT, HOLES', 'SHOULDER DEFECT', 'WORN SURFACE',\n",
       "         'DEBRIS ON ROADWAY'], dtype=object)),\n",
       " ('CRASH_TYPE',\n",
       "  array(['INJURY AND / OR TOW DUE TO CRASH', 'NO INJURY / DRIVE AWAY'],\n",
       "        dtype=object)),\n",
       " ('INTERSECTION_RELATED_I', array(['Y', 'N'], dtype=object)),\n",
       " ('STREET_DIRECTION', array(['S', 'N', 'E', 'W'], dtype=object)),\n",
       " ('NUM_UNITS', array(['4', '3', '2', '1', '5', '6', '8', '7'], dtype=object)),\n",
       " ('CRASH_HOUR', array(['NIGHT', 'EVENING', 'DAY', 'MORNING'], dtype=object)),\n",
       " ('TRAFFICWAYTYPE_LANECOUNT',\n",
       "  array(['NOT DIVIDED--///--2', 'NOT DIVIDED--///--3',\n",
       "         'NOT DIVIDED--///--4', 'ONE-WAY--///--4',\n",
       "         'DIVIDED - W/MEDIAN (NOT RAISED)--///--3',\n",
       "         'DIVIDED - W/MEDIAN (NOT RAISED)--///--4', 'ONE-WAY--///--1',\n",
       "         'DIVIDED - W/MEDIAN (NOT RAISED)--///--2', 'NOT DIVIDED--///--1',\n",
       "         'ONE-WAY--///--3', 'DIVIDED - W/MEDIAN BARRIER--///--4',\n",
       "         'ONE-WAY--///--2', 'CENTER TURN LANE--///--0',\n",
       "         'NOT DIVIDED--///--0', 'DIVIDED - W/MEDIAN (NOT RAISED)--///--6',\n",
       "         'CENTER TURN LANE--///--4', 'DIVIDED - W/MEDIAN BARRIER--///--6',\n",
       "         'DIVIDED - W/MEDIAN (NOT RAISED)--///--0',\n",
       "         'CENTER TURN LANE--///--2', 'DIVIDED - W/MEDIAN BARRIER--///--0',\n",
       "         'NOT DIVIDED--///--7', 'DIVIDED - W/MEDIAN BARRIER--///--5',\n",
       "         'DIVIDED - W/MEDIAN BARRIER--///--7',\n",
       "         'DIVIDED - W/MEDIAN (NOT RAISED)--///--1',\n",
       "         'CENTER TURN LANE--///--6', 'DIVIDED - W/MEDIAN BARRIER--///--8',\n",
       "         'CENTER TURN LANE--///--8', 'DIVIDED - W/MEDIAN BARRIER--///--2',\n",
       "         'NOT DIVIDED--///--6', 'ONE-WAY--///--0', 'PARKING LOT--///--2',\n",
       "         'ONE-WAY--///--5', 'DIVIDED - W/MEDIAN BARRIER--///--3',\n",
       "         'CENTER TURN LANE--///--3', 'NOT DIVIDED--///--5',\n",
       "         'DIVIDED - W/MEDIAN (NOT RAISED)--///--5', 'DRIVEWAY--///--1',\n",
       "         'NOT DIVIDED--///--9', 'ALLEY--///--1', 'PARKING LOT--///--0',\n",
       "         'RAMP--///--1', 'DIVIDED - W/MEDIAN (NOT RAISED)--///--8',\n",
       "         'CENTER TURN LANE--///--1', 'NOT DIVIDED--///--8', 'ALLEY--///--0',\n",
       "         'DIVIDED - W/MEDIAN (NOT RAISED)--///--7', 'PARKING LOT--///--1',\n",
       "         'RAMP--///--3', 'ONE-WAY--///--6', 'CENTER TURN LANE--///--5',\n",
       "         'RAMP--///--2', 'DIVIDED - W/MEDIAN BARRIER--///--1',\n",
       "         'DIVIDED - W/MEDIAN BARRIER--///--12', 'ALLEY--///--2',\n",
       "         'DIVIDED - W/MEDIAN (NOT RAISED)--///--9',\n",
       "         'DIVIDED - W/MEDIAN (NOT RAISED)--///--10', 'PARKING LOT--///--5',\n",
       "         'NOT DIVIDED--///--12', 'RAMP--///--0', 'RAMP--///--4',\n",
       "         'CENTER TURN LANE--///--7', 'CENTER TURN LANE--///--10',\n",
       "         'CENTER TURN LANE--///--12', 'ONE-WAY--///--7',\n",
       "         'PARKING LOT--///--6', 'PARKING LOT--///--4',\n",
       "         'NOT DIVIDED--///--10', 'DRIVEWAY--///--3',\n",
       "         'DIVIDED - W/MEDIAN BARRIER--///--9', 'ONE-WAY--///--8',\n",
       "         'CENTER TURN LANE--///--9', 'DIVIDED - W/MEDIAN BARRIER--///--10',\n",
       "         'DRIVEWAY--///--0', 'DRIVEWAY--///--2',\n",
       "         'DIVIDED - W/MEDIAN (NOT RAISED)--///--12'], dtype=object)),\n",
       " ('TRAFFICCONTROLDEVICE_DEVICECONDITION',\n",
       "  array(['STOP SIGN/FLASHER--///--FUNCTIONING PROPERLY',\n",
       "         'TRAFFIC SIGNAL--///--FUNCTIONING PROPERLY',\n",
       "         'NO CONTROLS--///--NO CONTROLS',\n",
       "         'STOP SIGN/FLASHER--///--NOT FUNCTIONING',\n",
       "         'STOP SIGN/FLASHER--///--NO CONTROLS',\n",
       "         'NO CONTROLS--///--FUNCTIONING PROPERLY',\n",
       "         'TRAFFIC SIGNAL--///--NOT FUNCTIONING',\n",
       "         'TRAFFIC SIGNAL--///--FUNCTIONING IMPROPERLY',\n",
       "         'LANE USE MARKING--///--NO CONTROLS',\n",
       "         'POLICE/FLAGMAN--///--FUNCTIONING PROPERLY',\n",
       "         'STOP SIGN/FLASHER--///--FUNCTIONING IMPROPERLY',\n",
       "         'OTHER WARNING SIGN--///--FUNCTIONING PROPERLY',\n",
       "         'TRAFFIC SIGNAL--///--NO CONTROLS',\n",
       "         'LANE USE MARKING--///--FUNCTIONING PROPERLY',\n",
       "         'NO CONTROLS--///--NOT FUNCTIONING',\n",
       "         'YIELD--///--FUNCTIONING PROPERLY',\n",
       "         'OTHER REG. SIGN--///--FUNCTIONING PROPERLY',\n",
       "         'YIELD--///--WORN REFLECTIVE MATERIAL',\n",
       "         'RAILROAD CROSSING GATE--///--FUNCTIONING PROPERLY',\n",
       "         'TRAFFIC SIGNAL--///--WORN REFLECTIVE MATERIAL',\n",
       "         'YIELD--///--NO CONTROLS', 'STOP SIGN/FLASHER--///--MISSING',\n",
       "         'POLICE/FLAGMAN--///--WORN REFLECTIVE MATERIAL',\n",
       "         'NO CONTROLS--///--FUNCTIONING IMPROPERLY',\n",
       "         'NO PASSING--///--FUNCTIONING PROPERLY',\n",
       "         'DELINEATORS--///--FUNCTIONING PROPERLY',\n",
       "         'OTHER RAILROAD CROSSING--///--FUNCTIONING PROPERLY',\n",
       "         'POLICE/FLAGMAN--///--NO CONTROLS',\n",
       "         'OTHER REG. SIGN--///--NO CONTROLS',\n",
       "         'SCHOOL ZONE--///--NO CONTROLS',\n",
       "         'DELINEATORS--///--WORN REFLECTIVE MATERIAL'], dtype=object))]"
      ]
     },
     "execution_count": 34,
     "metadata": {},
     "output_type": "execute_result"
    }
   ],
   "source": [
    "list((x, raw_crashes[x].unique()) for x in raw_crashes.columns)"
   ]
  },
  {
   "cell_type": "code",
   "execution_count": 42,
   "metadata": {},
   "outputs": [],
   "source": [
    "feature_vector =   'a:a:a:a:a:a:a:a:a:a:a:a:a:'\n",
    "structure_vector = '0:0:0:0:0:0:0:0:0:0:0:0:0:'\n",
    "max_dims =         '1:1:1:1:1:1:1:1:1:1:1:2:2:'\n",
    "\n",
    "assert(len(feature_vector.split(':')) == len(raw_crashes.columns) - 1)"
   ]
  },
  {
   "cell_type": "code",
   "execution_count": 36,
   "metadata": {},
   "outputs": [
    {
     "data": {
      "text/plain": [
       "0.4734800506649778"
      ]
     },
     "execution_count": 36,
     "metadata": {},
     "output_type": "execute_result"
    }
   ],
   "source": [
    "error_rate = 1 - (raw_crashes[raw_crashes['CRASH_TYPE'] == 'NO INJURY / DRIVE AWAY'].count()[0] / raw_crashes.count()[0])\n",
    "cost = 100.0\n",
    "error_rate"
   ]
  },
  {
   "cell_type": "code",
   "execution_count": 37,
   "metadata": {},
   "outputs": [
    {
     "data": {
      "text/plain": [
       "'a:a:a:a:a:a:a:a:a:a:a:a:a:\\t1:1:1:1:1:1:1:1:1:1:1:2:2:;0.4734800506649778;100.0;false;a:a:a:a:a:a:a:a:a:a:a:a:a:;0:0:0:0:0:0:0:0:0:0:0:0:0:;12632;0;'"
      ]
     },
     "execution_count": 37,
     "metadata": {},
     "output_type": "execute_result"
    }
   ],
   "source": [
    "top_row = feature_vector + '\\t' + max_dims + ';' + str(error_rate) + ';' + str(cost) + ';false;' + feature_vector + ';' + structure_vector + ';' + str(raw_crashes.count()[0]) + ';0;'\n",
    "top_row"
   ]
  },
  {
   "cell_type": "code",
   "execution_count": 38,
   "metadata": {},
   "outputs": [],
   "source": [
    "truth_vals = raw_crashes.loc[:, 'CRASH_TYPE'] == 'NO INJURY / DRIVE AWAY'\n",
    "entries = raw_crashes.loc[:, raw_crashes.columns != 'CRASH_TYPE'].astype(str)"
   ]
  },
  {
   "cell_type": "code",
   "execution_count": 39,
   "metadata": {},
   "outputs": [],
   "source": [
    "raw_crashes['input-str'] = np.sum('a--///--'+entries+'--//--', axis=1)\n",
    "raw_crashes['input-str'] = raw_crashes['input-str'].str.replace(':', '/COLON/').str.replace(';','/SEMICOLON/').str.replace('=', '/EQ/').str.replace('%', '/PERCENT/').str.replace('_','/UNDERSCORE/').str.replace('--//--',':').str.replace('--///--','_')"
   ]
  },
  {
   "cell_type": "code",
   "execution_count": 40,
   "metadata": {},
   "outputs": [],
   "source": [
    "with open('./data/crash-input-filtered-noNaNs.txt', 'w') as f:\n",
    "    f.write(top_row)\n",
    "    list(f.write('{}%{}%{}='.format(i, truth_vals.iloc[i], raw_crashes['input-str'].iloc[i])) for i in range(len(raw_crashes)))"
   ]
  },
  {
   "cell_type": "code",
   "execution_count": null,
   "metadata": {},
   "outputs": [],
   "source": []
  }
 ],
 "metadata": {
  "kernelspec": {
   "display_name": "Python 3",
   "language": "python",
   "name": "python3"
  },
  "language_info": {
   "codemirror_mode": {
    "name": "ipython",
    "version": 3
   },
   "file_extension": ".py",
   "mimetype": "text/x-python",
   "name": "python",
   "nbconvert_exporter": "python",
   "pygments_lexer": "ipython3",
   "version": "3.6.3"
  }
 },
 "nbformat": 4,
 "nbformat_minor": 2
}
