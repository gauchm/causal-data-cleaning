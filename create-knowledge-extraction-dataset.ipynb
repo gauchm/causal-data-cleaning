{
 "cells": [
  {
   "cell_type": "markdown",
   "metadata": {},
   "source": [
    "# Reverb knowledge extraction dataset\n",
    "Data source: http://reverb.cs.washington.edu"
   ]
  },
  {
   "cell_type": "code",
   "execution_count": 1,
   "metadata": {},
   "outputs": [
    {
     "name": "stderr",
     "output_type": "stream",
     "text": [
      "[nltk_data] Downloading package punkt to /home/mgauch/nltk_data...\n",
      "[nltk_data]   Package punkt is already up-to-date!\n",
      "[nltk_data] Downloading package averaged_perceptron_tagger to\n",
      "[nltk_data]     /home/mgauch/nltk_data...\n",
      "[nltk_data]   Package averaged_perceptron_tagger is already up-to-\n",
      "[nltk_data]       date!\n",
      "[nltk_data] Downloading package universal_tagset to\n",
      "[nltk_data]     /home/mgauch/nltk_data...\n",
      "[nltk_data]   Package universal_tagset is already up-to-date!\n"
     ]
    },
    {
     "data": {
      "text/plain": [
       "True"
      ]
     },
     "execution_count": 1,
     "metadata": {},
     "output_type": "execute_result"
    }
   ],
   "source": [
    "import nltk\n",
    "import pandas as pd\n",
    "import numpy as np\n",
    "\n",
    "nltk.download(['punkt', 'averaged_perceptron_tagger', 'universal_tagset'])"
   ]
  },
  {
   "cell_type": "code",
   "execution_count": 2,
   "metadata": {},
   "outputs": [
    {
     "data": {
      "text/html": [
       "<div>\n",
       "<style scoped>\n",
       "    .dataframe tbody tr th:only-of-type {\n",
       "        vertical-align: middle;\n",
       "    }\n",
       "\n",
       "    .dataframe tbody tr th {\n",
       "        vertical-align: top;\n",
       "    }\n",
       "\n",
       "    .dataframe thead th {\n",
       "        text-align: right;\n",
       "    }\n",
       "</style>\n",
       "<table border=\"1\" class=\"dataframe\">\n",
       "  <thead>\n",
       "    <tr style=\"text-align: right;\">\n",
       "      <th></th>\n",
       "      <th>sentenceId</th>\n",
       "      <th>arg1</th>\n",
       "      <th>relation</th>\n",
       "      <th>arg2</th>\n",
       "      <th>confidence</th>\n",
       "    </tr>\n",
       "  </thead>\n",
       "  <tbody>\n",
       "    <tr>\n",
       "      <th>0</th>\n",
       "      <td>0</td>\n",
       "      <td>they</td>\n",
       "      <td>plan raise</td>\n",
       "      <td>premiums</td>\n",
       "      <td>0.643515</td>\n",
       "    </tr>\n",
       "    <tr>\n",
       "      <th>1</th>\n",
       "      <td>0</td>\n",
       "      <td>they</td>\n",
       "      <td>plan reduce</td>\n",
       "      <td>benefits</td>\n",
       "      <td>0.643515</td>\n",
       "    </tr>\n",
       "    <tr>\n",
       "      <th>2</th>\n",
       "      <td>1</td>\n",
       "      <td>The two-year note 's yield</td>\n",
       "      <td>was unchanged at</td>\n",
       "      <td>5.95 percent</td>\n",
       "      <td>0.663007</td>\n",
       "    </tr>\n",
       "    <tr>\n",
       "      <th>3</th>\n",
       "      <td>2</td>\n",
       "      <td>The 12</td>\n",
       "      <td>is</td>\n",
       "      <td>$ 70.00</td>\n",
       "      <td>0.932481</td>\n",
       "    </tr>\n",
       "    <tr>\n",
       "      <th>4</th>\n",
       "      <td>3</td>\n",
       "      <td>The principal opposition parties</td>\n",
       "      <td>boycotted</td>\n",
       "      <td>the polls</td>\n",
       "      <td>0.861337</td>\n",
       "    </tr>\n",
       "  </tbody>\n",
       "</table>\n",
       "</div>"
      ],
      "text/plain": [
       "   sentenceId                              arg1          relation  \\\n",
       "0           0                              they        plan raise   \n",
       "1           0                              they       plan reduce   \n",
       "2           1        The two-year note 's yield  was unchanged at   \n",
       "3           2                            The 12                is   \n",
       "4           3  The principal opposition parties         boycotted   \n",
       "\n",
       "           arg2  confidence  \n",
       "0      premiums    0.643515  \n",
       "1      benefits    0.643515  \n",
       "2  5.95 percent    0.663007  \n",
       "3       $ 70.00    0.932481  \n",
       "4     the polls    0.861337  "
      ]
     },
     "execution_count": 2,
     "metadata": {},
     "output_type": "execute_result"
    }
   ],
   "source": [
    "filename = 'woe_parse' #'reverb'\n",
    "reverb = pd.read_csv('data/reverb_emnlp2011_data/extractions/{}.txt'.format(filename), sep='\\t', header=None)\n",
    "reverb.columns = ['sentenceId', 'arg1', 'relation', 'arg2', 'confidence']\n",
    "reverb.head()"
   ]
  },
  {
   "cell_type": "code",
   "execution_count": 3,
   "metadata": {},
   "outputs": [
    {
     "data": {
      "text/html": [
       "<div>\n",
       "<style scoped>\n",
       "    .dataframe tbody tr th:only-of-type {\n",
       "        vertical-align: middle;\n",
       "    }\n",
       "\n",
       "    .dataframe tbody tr th {\n",
       "        vertical-align: top;\n",
       "    }\n",
       "\n",
       "    .dataframe thead th {\n",
       "        text-align: right;\n",
       "    }\n",
       "</style>\n",
       "<table border=\"1\" class=\"dataframe\">\n",
       "  <thead>\n",
       "    <tr style=\"text-align: right;\">\n",
       "      <th></th>\n",
       "      <th>sentenceId</th>\n",
       "      <th>sentence</th>\n",
       "    </tr>\n",
       "  </thead>\n",
       "  <tbody>\n",
       "    <tr>\n",
       "      <th>0</th>\n",
       "      <td>0</td>\n",
       "      <td>The nation 's health maintenance organizations...</td>\n",
       "    </tr>\n",
       "    <tr>\n",
       "      <th>1</th>\n",
       "      <td>1</td>\n",
       "      <td>The two-year note 's yield was unchanged at 5....</td>\n",
       "    </tr>\n",
       "    <tr>\n",
       "      <th>2</th>\n",
       "      <td>2</td>\n",
       "      <td>The 12 to 18-month target price is $ 70.00 per...</td>\n",
       "    </tr>\n",
       "    <tr>\n",
       "      <th>3</th>\n",
       "      <td>3</td>\n",
       "      <td>The principal opposition parties boycotted the...</td>\n",
       "    </tr>\n",
       "    <tr>\n",
       "      <th>4</th>\n",
       "      <td>4</td>\n",
       "      <td>Gallery hours are 11 a.m. to 6 p.m. daily .</td>\n",
       "    </tr>\n",
       "  </tbody>\n",
       "</table>\n",
       "</div>"
      ],
      "text/plain": [
       "   sentenceId                                           sentence\n",
       "0           0  The nation 's health maintenance organizations...\n",
       "1           1  The two-year note 's yield was unchanged at 5....\n",
       "2           2  The 12 to 18-month target price is $ 70.00 per...\n",
       "3           3  The principal opposition parties boycotted the...\n",
       "4           4        Gallery hours are 11 a.m. to 6 p.m. daily ."
      ]
     },
     "execution_count": 3,
     "metadata": {},
     "output_type": "execute_result"
    }
   ],
   "source": [
    "sentences = pd.read_csv('data/reverb_emnlp2011_data/sentences.txt', sep='\\t', header=None)\n",
    "sentences.columns = ['sentenceId', 'sentence']\n",
    "sentences.head()"
   ]
  },
  {
   "cell_type": "code",
   "execution_count": 4,
   "metadata": {},
   "outputs": [
    {
     "data": {
      "text/html": [
       "<div>\n",
       "<style scoped>\n",
       "    .dataframe tbody tr th:only-of-type {\n",
       "        vertical-align: middle;\n",
       "    }\n",
       "\n",
       "    .dataframe tbody tr th {\n",
       "        vertical-align: top;\n",
       "    }\n",
       "\n",
       "    .dataframe thead th {\n",
       "        text-align: right;\n",
       "    }\n",
       "</style>\n",
       "<table border=\"1\" class=\"dataframe\">\n",
       "  <thead>\n",
       "    <tr style=\"text-align: right;\">\n",
       "      <th></th>\n",
       "      <th>truth</th>\n",
       "      <th>sentenceId</th>\n",
       "      <th>arg1</th>\n",
       "      <th>relation</th>\n",
       "      <th>arg2</th>\n",
       "    </tr>\n",
       "  </thead>\n",
       "  <tbody>\n",
       "    <tr>\n",
       "      <th>0</th>\n",
       "      <td>0</td>\n",
       "      <td>437</td>\n",
       "      <td>the lawyers</td>\n",
       "      <td>dismissed by</td>\n",
       "      <td>he</td>\n",
       "    </tr>\n",
       "    <tr>\n",
       "      <th>1</th>\n",
       "      <td>0</td>\n",
       "      <td>53</td>\n",
       "      <td>many as 57 deputies</td>\n",
       "      <td>let</td>\n",
       "      <td>Tuesday night</td>\n",
       "    </tr>\n",
       "    <tr>\n",
       "      <th>2</th>\n",
       "      <td>1</td>\n",
       "      <td>159</td>\n",
       "      <td>people</td>\n",
       "      <td>stay in</td>\n",
       "      <td>bad marriages</td>\n",
       "    </tr>\n",
       "    <tr>\n",
       "      <th>3</th>\n",
       "      <td>1</td>\n",
       "      <td>182</td>\n",
       "      <td>you</td>\n",
       "      <td>can still buy</td>\n",
       "      <td>a single quart</td>\n",
       "    </tr>\n",
       "    <tr>\n",
       "      <th>4</th>\n",
       "      <td>0</td>\n",
       "      <td>264</td>\n",
       "      <td>a water-based liquid</td>\n",
       "      <td>are lined up beside richly colored berries soa...</td>\n",
       "      <td>a balsamic vinegar-brown sugar sauce</td>\n",
       "    </tr>\n",
       "  </tbody>\n",
       "</table>\n",
       "</div>"
      ],
      "text/plain": [
       "   truth  sentenceId                  arg1  \\\n",
       "0      0         437           the lawyers   \n",
       "1      0          53   many as 57 deputies   \n",
       "2      1         159                people   \n",
       "3      1         182                   you   \n",
       "4      0         264  a water-based liquid   \n",
       "\n",
       "                                            relation  \\\n",
       "0                                       dismissed by   \n",
       "1                                                let   \n",
       "2                                            stay in   \n",
       "3                                      can still buy   \n",
       "4  are lined up beside richly colored berries soa...   \n",
       "\n",
       "                                   arg2  \n",
       "0                                    he  \n",
       "1                         Tuesday night  \n",
       "2                         bad marriages  \n",
       "3                        a single quart  \n",
       "4  a balsamic vinegar-brown sugar sauce  "
      ]
     },
     "execution_count": 4,
     "metadata": {},
     "output_type": "execute_result"
    }
   ],
   "source": [
    "labels = pd.read_csv('data/reverb_emnlp2011_data/labels.txt', sep='\\t', header=None)\n",
    "labels.columns = ['truth', 'sentenceId', 'arg1', 'relation', 'arg2']\n",
    "labels.head()"
   ]
  },
  {
   "cell_type": "code",
   "execution_count": 6,
   "metadata": {},
   "outputs": [],
   "source": [
    "sentences['tokenized'] = sentences['sentence'].apply(nltk.word_tokenize)\n",
    "sentences['tagged'] = sentences['tokenized'].apply(lambda x: nltk.pos_tag(x, tagset='universal'))"
   ]
  },
  {
   "cell_type": "code",
   "execution_count": 7,
   "metadata": {},
   "outputs": [],
   "source": [
    "reverb = reverb.merge(labels, on=['sentenceId', 'arg1', 'relation', 'arg2'], how='inner')\n",
    "reverb = reverb.merge(sentences, on='sentenceId', how='left')\n",
    "\n",
    "reverb['tokenized-arg1'] = reverb['arg1'].apply(nltk.word_tokenize)\n",
    "reverb['tokenized-relation'] = reverb['relation'].apply(nltk.word_tokenize)\n",
    "reverb['tokenized-arg2'] = reverb['arg2'].apply(nltk.word_tokenize)"
   ]
  },
  {
   "cell_type": "code",
   "execution_count": 8,
   "metadata": {},
   "outputs": [],
   "source": [
    "def lcs(sentence, subsentence, pos_tags):\n",
    "    \"\"\" Get POS tags for arg1/relation/arg2 in a best-effort way \"\"\"\n",
    "    s1, s2 = sentence, subsentence\n",
    "    matrix = [[list() for x in range(len(s2))] for x in range(len(s1))]\n",
    "    pos_matrix = [[list() for x in range(len(s2))] for x in range(len(s1))]\n",
    "    for i in range(len(s1)):\n",
    "        for j in range(len(s2)):\n",
    "            if s1[i] == s2[j]:\n",
    "                if i == 0 or j == 0:\n",
    "                    matrix[i][j] = [s1[i]]\n",
    "                    pos_matrix[i][j] = [pos_tags[i]]\n",
    "                else:\n",
    "                    matrix[i][j] = matrix[i-1][j-1] + [s1[i]]\n",
    "                    pos_matrix[i][j] = pos_matrix[i-1][j-1] + [pos_tags[i]]\n",
    "            else:\n",
    "                matrix[i][j] = max(matrix[i-1][j], matrix[i][j-1], key=len)\n",
    "                pos_matrix[i][j] = max(pos_matrix[i-1][j], pos_matrix[i][j-1], key=len)\n",
    "\n",
    "    return pos_matrix[-1][-1]"
   ]
  },
  {
   "cell_type": "code",
   "execution_count": 9,
   "metadata": {},
   "outputs": [],
   "source": [
    "reverb['tagged-arg1'] = reverb.apply(lambda t: list(lcs(t['tokenized'], t['tokenized-arg1'], t['tagged'])), axis=1)\n",
    "reverb['tagged-relation'] = reverb.apply(lambda t: list(lcs(t['tokenized'], t['tokenized-relation'], t['tagged'])), axis=1)\n",
    "reverb['tagged-arg2'] = reverb.apply(lambda t: list(lcs(t['tokenized'], t['tokenized-arg2'], t['tagged'])), axis=1)\n",
    "\n",
    "# Remove tuples where we couldn't find all POS tags\n",
    "reverb = reverb[reverb['tokenized-arg1'].apply(len) == reverb['tagged-arg1'].apply(len)]\n",
    "reverb = reverb[reverb['tokenized-relation'].apply(len) == reverb['tagged-relation'].apply(len)]\n",
    "reverb = reverb[reverb['tokenized-arg2'].apply(len) == reverb['tagged-arg2'].apply(len)]"
   ]
  },
  {
   "cell_type": "code",
   "execution_count": 10,
   "metadata": {},
   "outputs": [
    {
     "data": {
      "text/html": [
       "<div>\n",
       "<style scoped>\n",
       "    .dataframe tbody tr th:only-of-type {\n",
       "        vertical-align: middle;\n",
       "    }\n",
       "\n",
       "    .dataframe tbody tr th {\n",
       "        vertical-align: top;\n",
       "    }\n",
       "\n",
       "    .dataframe thead th {\n",
       "        text-align: right;\n",
       "    }\n",
       "</style>\n",
       "<table border=\"1\" class=\"dataframe\">\n",
       "  <thead>\n",
       "    <tr style=\"text-align: right;\">\n",
       "      <th></th>\n",
       "      <th>confidence</th>\n",
       "      <th>arg1</th>\n",
       "      <th>relation</th>\n",
       "      <th>arg2</th>\n",
       "      <th>truth</th>\n",
       "    </tr>\n",
       "  </thead>\n",
       "  <tbody>\n",
       "    <tr>\n",
       "      <th>0</th>\n",
       "      <td>a_0.6_:</td>\n",
       "      <td>a_PRON_they_:</td>\n",
       "      <td>a_VERB_plan-raise_:</td>\n",
       "      <td>a_NOUN_premiums_:</td>\n",
       "      <td>0</td>\n",
       "    </tr>\n",
       "    <tr>\n",
       "      <th>1</th>\n",
       "      <td>a_0.6_:</td>\n",
       "      <td>a_PRON_they_:</td>\n",
       "      <td>a_VERB_plan-reduce_:</td>\n",
       "      <td>a_NOUN_benefits_:</td>\n",
       "      <td>0</td>\n",
       "    </tr>\n",
       "    <tr>\n",
       "      <th>2</th>\n",
       "      <td>a_0.7_:</td>\n",
       "      <td>a_PRT-DET-ADJ-NOUN_The-two-year-note-'s-yield_:</td>\n",
       "      <td>a_ADJ-VERB-ADP_was-unchanged-at_:</td>\n",
       "      <td>a_NOUN-NUM_5.95-percent_:</td>\n",
       "      <td>1</td>\n",
       "    </tr>\n",
       "    <tr>\n",
       "      <th>3</th>\n",
       "      <td>a_0.9_:</td>\n",
       "      <td>a_DET-NUM_The-12_:</td>\n",
       "      <td>a_VERB_is_:</td>\n",
       "      <td>a_.-NUM_$-70.00_:</td>\n",
       "      <td>0</td>\n",
       "    </tr>\n",
       "    <tr>\n",
       "      <th>4</th>\n",
       "      <td>a_0.9_:</td>\n",
       "      <td>a_DET-ADJ-NOUN_The-principal-opposition-parties_:</td>\n",
       "      <td>a_VERB_boycotted_:</td>\n",
       "      <td>a_DET-NOUN_the-polls_:</td>\n",
       "      <td>1</td>\n",
       "    </tr>\n",
       "  </tbody>\n",
       "</table>\n",
       "</div>"
      ],
      "text/plain": [
       "  confidence                                               arg1  \\\n",
       "0    a_0.6_:                                      a_PRON_they_:   \n",
       "1    a_0.6_:                                      a_PRON_they_:   \n",
       "2    a_0.7_:    a_PRT-DET-ADJ-NOUN_The-two-year-note-'s-yield_:   \n",
       "3    a_0.9_:                                 a_DET-NUM_The-12_:   \n",
       "4    a_0.9_:  a_DET-ADJ-NOUN_The-principal-opposition-parties_:   \n",
       "\n",
       "                            relation                       arg2  truth  \n",
       "0                a_VERB_plan-raise_:          a_NOUN_premiums_:      0  \n",
       "1               a_VERB_plan-reduce_:          a_NOUN_benefits_:      0  \n",
       "2  a_ADJ-VERB-ADP_was-unchanged-at_:  a_NOUN-NUM_5.95-percent_:      1  \n",
       "3                        a_VERB_is_:          a_.-NUM_$-70.00_:      0  \n",
       "4                 a_VERB_boycotted_:     a_DET-NOUN_the-polls_:      1  "
      ]
     },
     "execution_count": 10,
     "metadata": {},
     "output_type": "execute_result"
    }
   ],
   "source": [
    "reverb['pos-arg1'] = reverb['tagged-arg1'].apply(lambda t: set(list(x[1] for x in t)))\n",
    "reverb['pos-relation'] = reverb['tagged-relation'].apply(lambda t: set(list(x[1] for x in t)))\n",
    "reverb['pos-arg2'] = reverb['tagged-arg2'].apply(lambda t: set(list(x[1] for x in t)))\n",
    "\n",
    "reverb.head()\n",
    "\n",
    "out = reverb[['confidence', 'pos-arg1', 'pos-relation', 'pos-arg2', 'tokenized-arg1', 'tokenized-relation', 'tokenized-arg2', 'truth']].copy()\n",
    "out['confidence'] = 'a_' + out['confidence'].round(1).astype(str) + '_:'\n",
    "out['arg1'] = 'a_' + out['pos-arg1'].apply(lambda x: '-'.join(x)) + '_' + out['tokenized-arg1'].apply(lambda x: '-'.join(x)) + '_:'\n",
    "out['relation'] = 'a_' + out['pos-relation'].apply(lambda x: '-'.join(x)) + '_' + out['tokenized-relation'].apply(lambda x: '-'.join(x)) + '_:'\n",
    "out['arg2'] = 'a_' + out['pos-arg2'].apply(lambda x: '-'.join(x)) + '_' + out['tokenized-arg2'].apply(lambda x: '-'.join(x)) + '_:'\n",
    "\n",
    "out = out[['confidence', 'arg1', 'relation', 'arg2', 'truth']]\n",
    "out.head()"
   ]
  },
  {
   "cell_type": "code",
   "execution_count": 11,
   "metadata": {},
   "outputs": [],
   "source": [
    "feature_vector = 'a:a:a:a:'\n",
    "structure_vector = '1:1:1:1:'\n",
    "max_dims = '1:2:2:2:'\n",
    "error_rate = out['truth'].mean()\n",
    "cost = 0.0"
   ]
  },
  {
   "cell_type": "code",
   "execution_count": 12,
   "metadata": {},
   "outputs": [
    {
     "data": {
      "text/plain": [
       "'a:a:a:a:\\t1:2:2:2:;0.37876960193003617;0.0;false;a:a:a:a:;1:1:1:1:;829;0;'"
      ]
     },
     "execution_count": 12,
     "metadata": {},
     "output_type": "execute_result"
    }
   ],
   "source": [
    "top_row = feature_vector + '\\t' + max_dims + ';' + str(error_rate) + ';' + str(cost) + ';false;' + feature_vector + ';' + structure_vector + ';' + str(len(out)) + ';0;'\n",
    "top_row"
   ]
  },
  {
   "cell_type": "code",
   "execution_count": 13,
   "metadata": {},
   "outputs": [],
   "source": [
    "out['input-str'] = out['confidence'] + out['arg1'] + out['relation'] + out['arg2']\n",
    "out['truth'] = out['truth'] == 1"
   ]
  },
  {
   "cell_type": "code",
   "execution_count": 14,
   "metadata": {},
   "outputs": [],
   "source": [
    "# write Data X-Ray input file\n",
    "with open('./data/{}-posAsSet-input.txt'.format(filename), 'w') as f:\n",
    "    f.write(top_row)\n",
    "    list(f.write('{}%{}%{}='.format(i, out['truth'].iloc[i], out['input-str'].iloc[i])) for i in range(len(out)))"
   ]
  },
  {
   "cell_type": "code",
   "execution_count": 15,
   "metadata": {},
   "outputs": [
    {
     "name": "stdout",
     "output_type": "stream",
     "text": [
      "['the 19th']\n"
     ]
    }
   ],
   "source": [
    "print(reverb[reverb['pos-arg2'].apply(set) == set(['DET','NUM'])]['arg2'].values)"
   ]
  },
  {
   "cell_type": "code",
   "execution_count": null,
   "metadata": {},
   "outputs": [],
   "source": []
  }
 ],
 "metadata": {
  "kernelspec": {
   "display_name": "Python 3",
   "language": "python",
   "name": "python3"
  },
  "language_info": {
   "codemirror_mode": {
    "name": "ipython",
    "version": 3
   },
   "file_extension": ".py",
   "mimetype": "text/x-python",
   "name": "python",
   "nbconvert_exporter": "python",
   "pygments_lexer": "ipython3",
   "version": "3.6.3"
  }
 },
 "nbformat": 4,
 "nbformat_minor": 2
}
