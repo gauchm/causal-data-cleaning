{
 "cells": [
  {
   "cell_type": "markdown",
   "metadata": {},
   "source": [
    "# Causal Analysis of Sensor Dataset"
   ]
  },
  {
   "cell_type": "code",
   "execution_count": 1,
   "metadata": {},
   "outputs": [],
   "source": [
    "%load_ext autoreload\n",
    "%autoreload 2\n",
    "import networkx as nx\n",
    "import numpy as np\n",
    "import pandas as pd\n",
    "import scipy\n",
    "import random\n",
    "import seaborn as sns\n",
    "from joblib import Parallel, delayed\n",
    "\n",
    "from utils import treatment_effect, xray_util\n",
    "\n",
    "sns.set_context(\"notebook\")\n",
    "%matplotlib inline\n",
    "\n",
    "random.seed(0)\n",
    "np.random.seed(0)\n",
    "\n",
    "TREATMENT_COL = 'voltage_0'\n",
    "treatment_subdimensions = ['voltage_1']\n",
    "TREATMENT_VAL = '(2.6, 3.0]'\n",
    "\n",
    "OUTCOME_NAME = 'truth'\n",
    "\n",
    "CONT_COVARIATES = ['time_1']\n",
    "\n",
    "TREATMENT = 'T'\n",
    "OUTCOME = 'O'"
   ]
  },
  {
   "cell_type": "code",
   "execution_count": 2,
   "metadata": {},
   "outputs": [],
   "source": [
    "dataset = xray_util.read_xray_input('data/sensor-temperature-10-50-balance1-input.txt', ['time', 'moteid', 'humidity', 'light', 'voltage'])"
   ]
  },
  {
   "cell_type": "code",
   "execution_count": 3,
   "metadata": {},
   "outputs": [],
   "source": [
    "dataset[TREATMENT] = (dataset[TREATMENT_COL] == TREATMENT_VAL) | (dataset[TREATMENT_COL] == '(3.0, inf]')\n",
    "dataset.rename({OUTCOME_NAME: OUTCOME}, axis=1, inplace=True)\n",
    "\n",
    "COVARIATES = dataset.drop([TREATMENT, OUTCOME, TREATMENT_COL] + treatment_subdimensions, axis=1).columns.values\n",
    "CAT_COVARIATES = list(c for c in COVARIATES if c not in CONT_COVARIATES)"
   ]
  },
  {
   "cell_type": "markdown",
   "metadata": {},
   "source": [
    "## Analysis with Matching and Propensity Score Stratification"
   ]
  },
  {
   "cell_type": "code",
   "execution_count": 4,
   "metadata": {},
   "outputs": [
    {
     "data": {
      "text/html": [
       "<div>\n",
       "<style scoped>\n",
       "    .dataframe tbody tr th:only-of-type {\n",
       "        vertical-align: middle;\n",
       "    }\n",
       "\n",
       "    .dataframe tbody tr th {\n",
       "        vertical-align: top;\n",
       "    }\n",
       "\n",
       "    .dataframe thead th {\n",
       "        text-align: right;\n",
       "    }\n",
       "</style>\n",
       "<table border=\"1\" class=\"dataframe\">\n",
       "  <thead>\n",
       "    <tr style=\"text-align: right;\">\n",
       "      <th></th>\n",
       "      <th>moteid</th>\n",
       "      <th>humidity</th>\n",
       "      <th>light</th>\n",
       "      <th>time_0</th>\n",
       "      <th>time_1</th>\n",
       "      <th>voltage_0</th>\n",
       "      <th>voltage_1</th>\n",
       "      <th>O</th>\n",
       "      <th>T</th>\n",
       "    </tr>\n",
       "  </thead>\n",
       "  <tbody>\n",
       "    <tr>\n",
       "      <th>0</th>\n",
       "      <td>1.0</td>\n",
       "      <td>(-inf, 0.0]</td>\n",
       "      <td>(1.0, 20.0]</td>\n",
       "      <td>NIGHT</td>\n",
       "      <td>03</td>\n",
       "      <td>(-inf, 2.0]</td>\n",
       "      <td>2.0</td>\n",
       "      <td>True</td>\n",
       "      <td>False</td>\n",
       "    </tr>\n",
       "    <tr>\n",
       "      <th>1</th>\n",
       "      <td>1.0</td>\n",
       "      <td>(35.0, 40.0]</td>\n",
       "      <td>(20.0, 50.0]</td>\n",
       "      <td>NIGHT</td>\n",
       "      <td>00</td>\n",
       "      <td>(2.6, 3.0]</td>\n",
       "      <td>2.7</td>\n",
       "      <td>False</td>\n",
       "      <td>True</td>\n",
       "    </tr>\n",
       "    <tr>\n",
       "      <th>2</th>\n",
       "      <td>1.0</td>\n",
       "      <td>(35.0, 40.0]</td>\n",
       "      <td>(20.0, 50.0]</td>\n",
       "      <td>NIGHT</td>\n",
       "      <td>01</td>\n",
       "      <td>(2.6, 3.0]</td>\n",
       "      <td>2.7</td>\n",
       "      <td>False</td>\n",
       "      <td>True</td>\n",
       "    </tr>\n",
       "    <tr>\n",
       "      <th>3</th>\n",
       "      <td>1.0</td>\n",
       "      <td>(35.0, 40.0]</td>\n",
       "      <td>(20.0, 50.0]</td>\n",
       "      <td>NIGHT</td>\n",
       "      <td>01</td>\n",
       "      <td>(2.6, 3.0]</td>\n",
       "      <td>2.7</td>\n",
       "      <td>False</td>\n",
       "      <td>True</td>\n",
       "    </tr>\n",
       "    <tr>\n",
       "      <th>4</th>\n",
       "      <td>1.0</td>\n",
       "      <td>(35.0, 40.0]</td>\n",
       "      <td>(20.0, 50.0]</td>\n",
       "      <td>NIGHT</td>\n",
       "      <td>01</td>\n",
       "      <td>(2.6, 3.0]</td>\n",
       "      <td>2.7</td>\n",
       "      <td>False</td>\n",
       "      <td>True</td>\n",
       "    </tr>\n",
       "  </tbody>\n",
       "</table>\n",
       "</div>"
      ],
      "text/plain": [
       "  moteid      humidity         light time_0 time_1    voltage_0 voltage_1  \\\n",
       "0    1.0   (-inf, 0.0]   (1.0, 20.0]  NIGHT     03  (-inf, 2.0]       2.0   \n",
       "1    1.0  (35.0, 40.0]  (20.0, 50.0]  NIGHT     00   (2.6, 3.0]       2.7   \n",
       "2    1.0  (35.0, 40.0]  (20.0, 50.0]  NIGHT     01   (2.6, 3.0]       2.7   \n",
       "3    1.0  (35.0, 40.0]  (20.0, 50.0]  NIGHT     01   (2.6, 3.0]       2.7   \n",
       "4    1.0  (35.0, 40.0]  (20.0, 50.0]  NIGHT     01   (2.6, 3.0]       2.7   \n",
       "\n",
       "       O      T  \n",
       "0   True  False  \n",
       "1  False   True  \n",
       "2  False   True  \n",
       "3  False   True  \n",
       "4  False   True  "
      ]
     },
     "execution_count": 4,
     "metadata": {},
     "output_type": "execute_result"
    }
   ],
   "source": [
    "dataset.head()"
   ]
  },
  {
   "cell_type": "code",
   "execution_count": 5,
   "metadata": {},
   "outputs": [
    {
     "name": "stdout",
     "output_type": "stream",
     "text": [
      "Training model 1/10\n",
      "Training model 2/10\n",
      "Training model 3/10\n",
      "Training model 4/10\n",
      "Training model 5/10\n",
      "Training model 6/10\n",
      "Train Accuracy:  0.7977775505303849\n"
     ]
    },
    {
     "name": "stderr",
     "output_type": "stream",
     "text": [
      "C:\\Users\\Amnesix\\DOCUME~1\\KIT---~1\\00-AUS~1\\Studium\\WINTER~1\\CAUSAL~1\\mldcpy\\lib\\site-packages\\pandas\\core\\computation\\expressions.py:180: UserWarning: evaluating in Python space because the '*' operator is not supported by numexpr for the bool dtype, use '&' instead\n",
      "  .format(op=op_str, alt_op=unsupported[op_str]))\n"
     ]
    },
    {
     "name": "stdout",
     "output_type": "stream",
     "text": [
      "Covariate moteid not balanced enough in stratum 0 (chi2 55042.46021006602, p-value 0.0)\n",
      "Covariate moteid not balanced enough in stratum 1 (chi2 50935.59765096303, p-value 0.0)\n",
      "Covariate moteid not balanced enough in stratum 2 (chi2 42614.567003244716, p-value 0.0)\n",
      "Covariate moteid not balanced enough in stratum 3 (chi2 44747.53177666269, p-value 0.0)\n",
      "Covariate moteid not balanced enough in stratum 4 (chi2 33587.279467192224, p-value 0.0)\n",
      "Covariate humidity not balanced enough in stratum 0 (chi2 15535.003438395252, p-value 0.0)\n",
      "Covariate humidity not balanced enough in stratum 1 (chi2 23490.37196796123, p-value 0.0)\n",
      "Covariate humidity not balanced enough in stratum 2 (chi2 80773.06012576164, p-value 0.0)\n",
      "Covariate humidity not balanced enough in stratum 3 (chi2 101401.96612671744, p-value 0.0)\n",
      "Covariate humidity not balanced enough in stratum 4 (chi2 78112.31940763017, p-value 0.0)\n",
      "Covariate light not balanced enough in stratum 0 (chi2 11607.952420964408, p-value 0.0)\n",
      "Covariate light not balanced enough in stratum 1 (chi2 7761.003463381907, p-value 0.0)\n",
      "Covariate light not balanced enough in stratum 2 (chi2 4645.547517845375, p-value 0.0)\n",
      "Covariate light not balanced enough in stratum 3 (chi2 1478.2533086042304, p-value 0.0)\n",
      "Covariate light not balanced enough in stratum 4 (chi2 4649.096792605989, p-value 0.0)\n",
      "Covariate time_0 not balanced enough in stratum 2 (chi2 204.08395716714847, p-value 2.6832729159729024e-46)\n",
      "Covariate time_0 not balanced enough in stratum 3 (chi2 266.2970879951157, p-value 7.277179559070619e-60)\n"
     ]
    },
    {
     "data": {
      "text/plain": [
       "-0.22812541423279703"
      ]
     },
     "execution_count": 5,
     "metadata": {},
     "output_type": "execute_result"
    }
   ],
   "source": [
    "excludes = ['moteid', 'light', 'humidity']\n",
    "match_vars = []\n",
    "att = treatment_effect.match_then_stratify(dataset, match_vars, TREATMENT, TREATMENT_COL, treatment_subdimensions,\n",
    "                                           OUTCOME, CONT_COVARIATES, CAT_COVARIATES, n_models=10, additional_excludes=excludes)\n",
    "att"
   ]
  },
  {
   "cell_type": "markdown",
   "metadata": {},
   "source": [
    "#### Get statistical significance by comparing with placebo treatment"
   ]
  },
  {
   "cell_type": "code",
   "execution_count": 6,
   "metadata": {},
   "outputs": [],
   "source": [
    "n_iter = 10\n",
    "placebo_results = treatment_effect.generate_placebo_effects(dataset.sample(frac=0.5), match_vars, TREATMENT, TREATMENT_COL, treatment_subdimensions,\n",
    "                                                            OUTCOME, CONT_COVARIATES, CAT_COVARIATES, additional_excludes=excludes, n_iter=n_iter)"
   ]
  },
  {
   "cell_type": "code",
   "execution_count": 7,
   "metadata": {},
   "outputs": [
    {
     "name": "stdout",
     "output_type": "stream",
     "text": [
      "Treatment effect outside 95%-bounds of placebo effect: -0.22812541423279703 not in [-0.00132188893903277, 0.0007647803159951549]\n"
     ]
    }
   ],
   "source": [
    "treatment_effect.check_treatment_effect(att, placebo_results)"
   ]
  },
  {
   "cell_type": "code",
   "execution_count": 8,
   "metadata": {},
   "outputs": [],
   "source": [
    "treatment_results = Parallel(n_jobs=4)(delayed(treatment_effect.match_then_stratify)(dataset.sample(frac=1, replace=True), match_vars, TREATMENT, \n",
    "                                                                                     TREATMENT_COL, treatment_subdimensions, OUTCOME, CONT_COVARIATES, \n",
    "                                                                                     CAT_COVARIATES, additional_excludes=excludes, n_models=2) for _ in  range(n_iter))"
   ]
  },
  {
   "cell_type": "code",
   "execution_count": 15,
   "metadata": {},
   "outputs": [
    {
     "data": {
      "image/png": "[encoded data removed]",
      "text/plain": [
       "<Figure size 432x288 with 1 Axes>"
      ]
     },
     "metadata": {
      "needs_background": "light"
     },
     "output_type": "display_data"
    }
   ],
   "source": [
    "# QQ-Plot to compare empirical distributions.\n",
    "from statsmodels.graphics.gofplots import qqplot_2samples\n",
    "import pylab\n",
    "import matplotlib.pyplot as plt\n",
    "\n",
    "f = qqplot_2samples(np.array(placebo_results), np.array(treatment_results), xlabel='Actual Treatment', ylabel='Placebo')"
   ]
  },
  {
   "cell_type": "code",
   "execution_count": 10,
   "metadata": {},
   "outputs": [
    {
     "name": "stdout",
     "output_type": "stream",
     "text": [
      "Rejecting hypothesis that placebo treatment and actual treatment are of same distribution (K-S statistic: 1.00000, p-value: 1.8879793657162556e-05)\n"
     ]
    }
   ],
   "source": [
    "treatment_effect.ks_test_treatment_effect(placebo_results, treatment_results, n_iter, alpha=0.05)"
   ]
  },
  {
   "cell_type": "code",
   "execution_count": null,
   "metadata": {},
   "outputs": [],
   "source": []
  }
 ],
 "metadata": {
  "kernelspec": {
   "display_name": "Python 3 MLDC",
   "language": "python",
   "name": "mldcpy"
  },
  "language_info": {
   "codemirror_mode": {
    "name": "ipython",
    "version": 3
   },
   "file_extension": ".py",
   "mimetype": "text/x-python",
   "name": "python",
   "nbconvert_exporter": "python",
   "pygments_lexer": "ipython3",
   "version": "3.6.5"
  }
 },
 "nbformat": 4,
 "nbformat_minor": 2
}
