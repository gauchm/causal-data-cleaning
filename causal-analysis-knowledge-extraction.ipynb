{
 "cells": [
  {
   "cell_type": "markdown",
   "metadata": {},
   "source": [
    "# Causal Analysis of Knowledge Extraction Dataset\n",
    "We use the knowledge extraction data to analyze if pronouns in `arg2` cause erroneous extractions."
   ]
  },
  {
   "cell_type": "code",
   "execution_count": null,
   "metadata": {},
   "outputs": [],
   "source": [
    "%load_ext autoreload\n",
    "%autoreload 2\n",
    "import networkx as nx\n",
    "import numpy as np\n",
    "import pandas as pd\n",
    "import scipy\n",
    "import random\n",
    "import seaborn as sns\n",
    "\n",
    "from utils import treatment_effect, xray_util\n",
    "\n",
    "sns.set_context(\"notebook\")\n",
    "%matplotlib inline\n",
    "\n",
    "random.seed(0)\n",
    "np.random.seed(0)\n",
    "\n",
    "TREATMENT_COL = 'arg2_0'\n",
    "treatment_subdimensions = ['arg2_1']\n",
    "TREATMENT_VAL = 'PRON'\n",
    "\n",
    "OUTCOME_NAME = 'truth'\n",
    "\n",
    "CONT_COVARIATES = ['confidence']\n",
    "\n",
    "TREATMENT = 'T'\n",
    "OUTCOME = 'O'"
   ]
  },
  {
   "cell_type": "code",
   "execution_count": 57,
   "metadata": {},
   "outputs": [],
   "source": [
    "dataset = xray_util.read_xray_input('data/woe_parse-posAsSet-input.txt', ['confidence', 'arg1', 'relation', 'arg2'])"
   ]
  },
  {
   "cell_type": "code",
   "execution_count": 58,
   "metadata": {},
   "outputs": [],
   "source": [
    "# Introduce binary treatment column as proposed by Data X-Ray\n",
    "dataset[TREATMENT] = dataset[TREATMENT_COL].str.contains(TREATMENT_VAL)\n",
    "dataset.rename({OUTCOME_NAME: OUTCOME}, axis=1, inplace=True)\n",
    "dataset.head()\n",
    "\n",
    "COVARIATES = dataset.drop([TREATMENT, OUTCOME, TREATMENT_COL] + treatment_subdimensions, axis=1).columns.values\n",
    "CAT_COVARIATES = list(c for c in COVARIATES if c not in CONT_COVARIATES)\n",
    "\n",
    "for c in CONT_COVARIATES:\n",
    "    dataset[c] = dataset[c].astype(float)"
   ]
  },
  {
   "cell_type": "code",
   "execution_count": 60,
   "metadata": {},
   "outputs": [],
   "source": [
    "# Add additional data based on what data we found lacking in the first round of analysis\n",
    "additional_data = pd.read_csv('data/knowledge-extraction-additionalData-500K.csv', index_col=0)\n",
    "additional_data_1 = pd.read_csv('data/knowledge-extraction-additionalData-500K+100K.csv', index_col=0)\n",
    "additional_data_2 = pd.read_csv('data/knowledge-extraction-additionalData-treated-9M+100K.csv', index_col=0)\n",
    "dataset = pd.concat([dataset, additional_data, additional_data_1, additional_data_2], ignore_index=True)"
   ]
  },
  {
   "cell_type": "code",
   "execution_count": 65,
   "metadata": {},
   "outputs": [
    {
     "name": "stdout",
     "output_type": "stream",
     "text": [
      "Training model 1/20\n",
      "Training model 2/20\n",
      "Training model 3/20\n",
      "Training model 4/20\n",
      "Training model 5/20\n",
      "Training model 6/20\n",
      "Training model 11/20\n",
      "Train Accuracy:  0.9394957983193277\n",
      "Please provide more data of treated population with the following characteristics:\n",
      "Propensity score: 0.014599911267853035-0.07271655267849762\n",
      "PRON            0.378151\n",
      "NOUN            0.260504\n",
      "DET-ADJ-NOUN    0.105042\n",
      "NOUN-ADJ        0.084034\n",
      "NOUN-VERB       0.029412\n",
      "Name: arg1_0, dtype: float64\n",
      "he      0.121849\n",
      "they    0.071429\n",
      "you     0.042017\n",
      "It      0.029412\n",
      "We      0.029412\n",
      "Name: arg1_1, dtype: float64\n",
      "VERB             0.747899\n",
      "ADP-VERB-ADJ     0.037815\n",
      "VERB-PRT         0.033613\n",
      "NOUN-ADP         0.029412\n",
      "NOUN-VERB-ADP    0.021008\n",
      "Name: relation_0, dtype: float64\n",
      "stuffed-with    0.029412\n",
      "moved           0.025210\n",
      "has             0.016807\n",
      "make            0.016807\n",
      "have            0.016807\n",
      "Name: relation_1, dtype: float64\n",
      "min    0.1\n",
      "25%    0.4\n",
      "50%    0.5\n",
      "75%    0.9\n",
      "max    1.0\n",
      "Name: confidence, dtype: float64\n",
      "Please provide more data of untreated population with the following characteristics:\n",
      "Propensity score: 0.7942084202537139-0.9804880703351874\n",
      "DET-NOUN        0.298319\n",
      "ADJ-DET-NOUN    0.184874\n",
      "NOUN-NUM        0.176471\n",
      "NUM             0.121849\n",
      "ADP-DET-NOUN    0.113445\n",
      "Name: arg1_0, dtype: float64\n",
      "A-car       0.037815\n",
      "A-door      0.037815\n",
      "A-figure    0.033613\n",
      "A-guard     0.016807\n",
      "A-couple    0.016807\n",
      "Name: arg1_1, dtype: float64\n",
      "ADP-VERB        0.949580\n",
      "ADP-ADV-VERB    0.021008\n",
      "ADV-VERB        0.008403\n",
      "ADV-PRT-VERB    0.004202\n",
      "PRT-VERB        0.004202\n",
      "Name: relation_0, dtype: float64\n",
      "is-in          0.096639\n",
      "appeared-in    0.092437\n",
      "were-in        0.037815\n",
      "voted-in       0.025210\n",
      "appears-in     0.021008\n",
      "Name: relation_1, dtype: float64\n",
      "min    0.9\n",
      "25%    0.9\n",
      "50%    1.0\n",
      "75%    1.0\n",
      "max    1.0\n",
      "Name: confidence, dtype: float64\n",
      "Lost strata: [0, 4]. They were too small.\n",
      "Covariate confidence not balanced enough in stratum 1 (KS Ks_2sampResult(statistic=0.40158331430311334, pvalue=1.1222522011194576e-39))\n",
      "Covariate confidence not balanced enough in stratum 2 (KS Ks_2sampResult(statistic=0.40158331430311334, pvalue=1.1222522011194576e-39))\n",
      "Covariate confidence not balanced enough in stratum 3 (KS Ks_2sampResult(statistic=0.40158331430311334, pvalue=1.1222522011194576e-39))\n"
     ]
    },
    {
     "name": "stderr",
     "output_type": "stream",
     "text": [
      "/home/mgauch/mldcpy/lib/python3.6/site-packages/pandas/core/computation/expressions.py:180: UserWarning: evaluating in Python space because the '*' operator is not supported by numexpr for the bool dtype, use '&' instead\n",
      "  .format(op=op_str, alt_op=unsupported[op_str]))\n"
     ]
    }
   ],
   "source": [
    "# This is the actual analysis through propensity stratification.\n",
    "match_vars = []\n",
    "att = treatment_effect.match_then_stratify(dataset, match_vars, TREATMENT, TREATMENT_COL, treatment_subdimensions,\n",
    "                                           OUTCOME, CONT_COVARIATES, CAT_COVARIATES, n_models=20, additional_excludes=[])"
   ]
  },
  {
   "cell_type": "markdown",
   "metadata": {},
   "source": [
    "#### Get statistical significance by comparing with placebo treatment"
   ]
  },
  {
   "cell_type": "code",
   "execution_count": 66,
   "metadata": {},
   "outputs": [],
   "source": [
    "n_iter = 10\n",
    "placebo_results = treatment_effect.generate_placebo_effects(dataset, match_vars, TREATMENT, TREATMENT_COL, treatment_subdimensions,\n",
    "                                                           OUTCOME, CONT_COVARIATES, CAT_COVARIATES, n_iter=n_iter)"
   ]
  },
  {
   "cell_type": "code",
   "execution_count": 67,
   "metadata": {},
   "outputs": [
    {
     "name": "stdout",
     "output_type": "stream",
     "text": [
      "Treatment effect outside 95%-bounds of placebo effect: -0.36362820913319394 not in [-0.05562623147695818, 0.12054995274705321]\n"
     ]
    }
   ],
   "source": [
    "treatment_effect.check_treatment_effect(att, placebo_results)"
   ]
  }
 ],
 "metadata": {
  "kernelspec": {
   "display_name": "Python 3",
   "language": "python",
   "name": "python3"
  },
  "language_info": {
   "codemirror_mode": {
    "name": "ipython",
    "version": 3
   },
   "file_extension": ".py",
   "mimetype": "text/x-python",
   "name": "python",
   "nbconvert_exporter": "python",
   "pygments_lexer": "ipython3",
   "version": "3.6.5"
  }
 },
 "nbformat": 4,
 "nbformat_minor": 2
}
