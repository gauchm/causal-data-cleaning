{
 "cells": [
  {
   "cell_type": "markdown",
   "metadata": {},
   "source": [
    "## Find additional tuples for causal analysis of knowledge extraction.\n",
    "In the notebook `causal-analysis-knowledge-extraction`, we found that we don't have enough data for some strata.\n",
    "Here, we try to find suitable tuples that would fall into these strata. Then, we label the tuples as correct/incorrect, so that we can use them to resume the analysis.\n",
    "\n",
    "Data source: http://reverb.cs.washington.edu/"
   ]
  },
  {
   "cell_type": "code",
   "execution_count": 1,
   "metadata": {},
   "outputs": [],
   "source": [
    "import pandas as pd\n",
    "import numpy as np\n",
    "import nltk\n",
    "from urllib.request import urlopen\n",
    "from joblib import Parallel, delayed\n",
    "\n",
    "from utils import string_utils"
   ]
  },
  {
   "cell_type": "code",
   "execution_count": 37,
   "metadata": {},
   "outputs": [
    {
     "data": {
      "text/html": [
       "<div>\n",
       "<style scoped>\n",
       "    .dataframe tbody tr th:only-of-type {\n",
       "        vertical-align: middle;\n",
       "    }\n",
       "\n",
       "    .dataframe tbody tr th {\n",
       "        vertical-align: top;\n",
       "    }\n",
       "\n",
       "    .dataframe thead th {\n",
       "        text-align: right;\n",
       "    }\n",
       "</style>\n",
       "<table border=\"1\" class=\"dataframe\">\n",
       "  <thead>\n",
       "    <tr style=\"text-align: right;\">\n",
       "      <th></th>\n",
       "      <th>arg1</th>\n",
       "      <th>relation</th>\n",
       "      <th>arg2</th>\n",
       "      <th>confidence</th>\n",
       "    </tr>\n",
       "  </thead>\n",
       "  <tbody>\n",
       "    <tr>\n",
       "      <th>0</th>\n",
       "      <td>93.5 % of Americans</td>\n",
       "      <td>listen to</td>\n",
       "      <td>terrestrial radio</td>\n",
       "      <td>0.92645</td>\n",
       "    </tr>\n",
       "    <tr>\n",
       "      <th>1</th>\n",
       "      <td>93.5 % of residents</td>\n",
       "      <td>speak Spanish at</td>\n",
       "      <td>home</td>\n",
       "      <td>0.93811</td>\n",
       "    </tr>\n",
       "    <tr>\n",
       "      <th>2</th>\n",
       "      <td>93.5 % of the people</td>\n",
       "      <td>voted for</td>\n",
       "      <td>Lukashenka</td>\n",
       "      <td>0.96718</td>\n",
       "    </tr>\n",
       "    <tr>\n",
       "      <th>3</th>\n",
       "      <td>93.502to</td>\n",
       "      <td>describe the functions of</td>\n",
       "      <td>the ALJ</td>\n",
       "      <td>0.90323</td>\n",
       "    </tr>\n",
       "    <tr>\n",
       "      <th>4</th>\n",
       "      <td>93.7 %</td>\n",
       "      <td>are younger than</td>\n",
       "      <td>24</td>\n",
       "      <td>0.93811</td>\n",
       "    </tr>\n",
       "  </tbody>\n",
       "</table>\n",
       "</div>"
      ],
      "text/plain": [
       "                   arg1                   relation               arg2  \\\n",
       "0   93.5 % of Americans                  listen to  terrestrial radio   \n",
       "1   93.5 % of residents           speak Spanish at               home   \n",
       "2  93.5 % of the people                  voted for         Lukashenka   \n",
       "3              93.502to  describe the functions of            the ALJ   \n",
       "4                93.7 %           are younger than                 24   \n",
       "\n",
       "   confidence  \n",
       "0     0.92645  \n",
       "1     0.93811  \n",
       "2     0.96718  \n",
       "3     0.90323  \n",
       "4     0.93811  "
      ]
     },
     "execution_count": 37,
     "metadata": {},
     "output_type": "execute_result"
    }
   ],
   "source": [
    "# Load the raw data\n",
    "extractions = pd.read_csv('/home/mgauch/scratch/reverb_clueweb_tuples-1.1.txt', skiprows=400000, nrows=100000, usecols=[1,2,3,8], sep='\\t', header=None)\n",
    "extractions.columns = ['arg1', 'relation', 'arg2', 'confidence']\n",
    "extractions['arg1'] = extractions['arg1'].astype(str) \n",
    "extractions['relation'] = extractions['relation'].astype(str)\n",
    "extractions['arg2'] = extractions['arg2'].astype(str)\n",
    "extractions.head()"
   ]
  },
  {
   "cell_type": "markdown",
   "metadata": {},
   "source": [
    "## Data Preprocessing\n",
    "Here, we tokenize and POS-tag the extraction tuples"
   ]
  },
  {
   "cell_type": "code",
   "execution_count": 40,
   "metadata": {},
   "outputs": [],
   "source": [
    "extractions['tokenized'] = (extractions['arg1'] +' '+ extractions['relation'] +' '+ extractions['arg2']).apply(nltk.word_tokenize)\n",
    "extractions['tagged'] = extractions['tokenized'].apply(lambda x: nltk.pos_tag(x, tagset='universal'))\n",
    "\n",
    "extractions['tokenized-arg1'] = extractions['arg1'].apply(nltk.word_tokenize)\n",
    "extractions['tokenized-relation'] = extractions['relation'].apply(nltk.word_tokenize)\n",
    "extractions['tokenized-arg2'] = extractions['arg2'].apply(nltk.word_tokenize)"
   ]
  },
  {
   "cell_type": "code",
   "execution_count": 42,
   "metadata": {},
   "outputs": [
    {
     "name": "stdout",
     "output_type": "stream",
     "text": [
      "Ignoring 76 tuples\n"
     ]
    }
   ],
   "source": [
    "old_shape = extractions.shape[0]\n",
    "\n",
    "extractions['tagged-arg1'] = extractions.apply(lambda t: string_utils.find_subsequence(t['tokenized'], t['tokenized-arg1'], t['tagged']), axis=1)\n",
    "extractions['tagged-relation'] = extractions.apply(lambda t: string_utils.find_subsequence(t['tokenized'], t['tokenized-relation'], t['tagged']), axis=1)\n",
    "extractions['tagged-arg2'] = extractions.apply(lambda t: string_utils.find_subsequence(t['tokenized'], t['tokenized-arg2'], t['tagged']), axis=1)\n",
    "\n",
    "# Remove tuples where we couldn't find all POS tags\n",
    "extractions = extractions[extractions['tokenized-arg1'].apply(len) == extractions['tagged-arg1'].apply(len)]\n",
    "extractions = extractions[extractions['tokenized-relation'].apply(len) == extractions['tagged-relation'].apply(len)]\n",
    "extractions = extractions[extractions['tokenized-arg2'].apply(len) == extractions['tagged-arg2'].apply(len)]\n",
    "\n",
    "print('Ignoring {} tuples'.format(old_shape - extractions.shape[0]))\n",
    "\n",
    "extractions['pos-arg1'] = extractions['tagged-arg1'].apply(lambda t: sorted(set(list(x[1] for x in t))))\n",
    "extractions['pos-relation'] = extractions['tagged-relation'].apply(lambda t: sorted(set(list(x[1] for x in t))))\n",
    "extractions['pos-arg2'] = extractions['tagged-arg2'].apply(lambda t: sorted(set(list(x[1] for x in t))))"
   ]
  },
  {
   "cell_type": "code",
   "execution_count": 18,
   "metadata": {},
   "outputs": [],
   "source": [
    "# Store intermediate results to speed up analysis the next time\n",
    "extractions.to_csv('data/extractions-clueweb-posTagged-9M+100K.csv')"
   ]
  },
  {
   "cell_type": "code",
   "execution_count": 44,
   "metadata": {},
   "outputs": [],
   "source": [
    "data = extractions[['arg1', 'relation', 'arg2', 'confidence', 'pos-arg1', 'pos-relation', 'pos-arg2']]\n",
    "# Treated tuples are the ones with PRON in arg2\n",
    "treated = data[data['pos-arg2'].apply(lambda x: 'PRON' in x)]\n",
    "untreated = data[data['pos-arg2'].apply(lambda x: 'PRON' not in x)]\n",
    "\n",
    "# Need more treated tuples with ADP-VERB as relation\n",
    "adp_verb = treated[treated['pos-relation'].apply(lambda x: x == ['ADP', 'VERB'])]\n",
    "# Need more treated tuples with PRON as arg1\n",
    "pron = treated[treated['pos-arg1'].apply(lambda x: 'PRON' in x)]\n",
    "# Need more untreated tuples with ADP-VERB relation\n",
    "adp_verb_untreated = untreated[untreated['pos-relation'].apply(lambda x: x == ['ADP', 'VERB'])]"
   ]
  },
  {
   "cell_type": "code",
   "execution_count": null,
   "metadata": {},
   "outputs": [],
   "source": [
    "# Here, we manually label tuples that we want to use to resume the causal analysis.\n",
    "additional_data = pd.concat([adp_verb, pron], ignore_index=True)\n",
    "additional_data.columns = ['arg1_1', 'relation_1', 'arg2_1', 'confidence', 'arg1_0', 'relation_0', 'arg2_0']\n",
    "additional_data = additional_data[['confidence', 'arg1_0', 'arg1_1', 'relation_0', 'relation_1', 'arg2_0', 'arg2_1']]\n",
    "additional_data['arg1_0'] = additional_data['arg1_0'].apply(lambda x: '-'.join(x))\n",
    "additional_data['relation_0'] = additional_data['relation_0'].apply(lambda x: '-'.join(x))\n",
    "additional_data['arg2_0'] = additional_data['arg2_0'].apply(lambda x: '-'.join(x))\n",
    "additional_data['arg1_1'] = additional_data['arg1_1'].apply(lambda x: '-'.join(x.split(' ')))\n",
    "additional_data['relation_1'] = additional_data['relation_1'].apply(lambda x: '-'.join(x.split(' ')))\n",
    "additional_data['arg2_1'] = additional_data['arg2_1'].apply(lambda x: '-'.join(x.split(' ')))\n",
    "additional_data['confidence'] = additional_data['confidence'].round(1)\n",
    "additional_data['O'] = False\n",
    "#additional_data['O'].iloc[[12,13,19,20,29,44,46,51,54,58,60,63,65,84,87,93,168]] = True # For first 500K tuples\n",
    "#additional_data['O'].iloc[[6,7,8,10,11,12,13,14,25,38,60,85,92,103,111]] = True # For 500K + 100K tuples\n",
    "#additional_data['O'].iloc[[8,10,11,12,18]] = True # For 9M + 100K tuples\n",
    "additional_data['T'] = True\n",
    "#additional_data.to_csv('data/knowledge-extraction-additionalData-9M+100K.csv')\n",
    "#for i in range(len(additional_data)):\n",
    "#    print(additional_data.iloc[i,[2,4,6]])"
   ]
  },
  {
   "cell_type": "code",
   "execution_count": null,
   "metadata": {},
   "outputs": [],
   "source": [
    "additional_data = pd.concat([adp_verb_untreated.tail(100)], ignore_index=True)\n",
    "additional_data.columns = ['arg1_1', 'relation_1', 'arg2_1', 'confidence', 'arg1_0', 'relation_0', 'arg2_0']\n",
    "additional_data = additional_data[['confidence', 'arg1_0', 'arg1_1', 'relation_0', 'relation_1', 'arg2_0', 'arg2_1']]\n",
    "additional_data['arg1_0'] = additional_data['arg1_0'].apply(lambda x: '-'.join(x))\n",
    "additional_data['relation_0'] = additional_data['relation_0'].apply(lambda x: '-'.join(x))\n",
    "additional_data['arg2_0'] = additional_data['arg2_0'].apply(lambda x: '-'.join(x))\n",
    "additional_data['arg1_1'] = additional_data['arg1_1'].apply(lambda x: '-'.join(x.split(' ')))\n",
    "additional_data['relation_1'] = additional_data['relation_1'].apply(lambda x: '-'.join(x.split(' ')))\n",
    "additional_data['arg2_1'] = additional_data['arg2_1'].apply(lambda x: '-'.join(x.split(' ')))\n",
    "additional_data['confidence'] = additional_data['confidence'].round(1)\n",
    "additional_data['O'] = False\n",
    "#additional_data['O'].iloc[[0,1,3,4,5,6,7,10,11,12,13,15,16,17,19,20,21,23,24,27,28,30,32,33,34,37,40,42,43,46,47,49,50,51,52,55,56,58,61,64,66,68,70,71,72,73,74,76,77,78,81,83,84,85,86,87,88,89,91,92,93,94,95,96,97,98,99]] = True # For 9M head 100 tuples\n",
    "#additional_data['O'].iloc[[1,2,3,6,8,9,12,13,19,21,22,23,25,26,27,28,29,31,32,33,35,36,38,39,42,43,45,46,48,49,51,52,53,54,55,56,57,58,59,60,61,63,64,65,67,69,70,71,72,73,76,77,80,82,83,84,85,86,87,88,89,90,91,94,96,97,98,99]] = True # For 9M tail 100 tuples\n",
    "#additional_data['O'].iloc[[2,4,5,6,8,9,10,11,12,13,14,15,16,18,19,20,21,22,23,24,25,26,27,28,29,30,31,32,33,34,35,36,37,38,39,40,41,42,43,44,45,46,47,48,49,50,51,52,53,54,55,56,57,58,59,60,61,62,63,64,65,66,67,69,70,71,72,73,74,76,77,78,79,80,81,82,83,85,86,87,89,90,91,92,93,94,95,96,97,98,99]] = True # For 500K + 100 tuples\n",
    "additional_data['O'].iloc[[2,3,4,5,6,7,8,9,10,11,12,13,14,15,16,17,19,29,21,22,23,25,26,27,28,31,32,33,36,38,39,40,42,45,46,48,49,51,52,53,54,55,57,58,59,60,61,67,70,71,75,77,78,79,80,81,82,83,84,85,86,87,88,89,90,92,93,94,95,96,97,98,99]] = True # For 400K+100K tail 100 tuples\n",
    "additional_data['T'] = False\n",
    "additional_data.to_csv('data/knowledge-extraction-additionalData-untreated-400K+100Ktail100.csv')\n",
    "#for i in range(len(additional_data)):\n",
    "#    print(additional_data.iloc[i,[2,4,6]])"
   ]
  }
 ],
 "metadata": {
  "kernelspec": {
   "display_name": "Python 3",
   "language": "python",
   "name": "python3"
  },
  "language_info": {
   "codemirror_mode": {
    "name": "ipython",
    "version": 3
   },
   "file_extension": ".py",
   "mimetype": "text/x-python",
   "name": "python",
   "nbconvert_exporter": "python",
   "pygments_lexer": "ipython3",
   "version": "3.6.3"
  }
 },
 "nbformat": 4,
 "nbformat_minor": 2
}
