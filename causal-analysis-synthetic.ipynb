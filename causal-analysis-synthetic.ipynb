{
 "cells": [
  {
   "cell_type": "markdown",
   "metadata": {},
   "source": [
    "# Causal Analysis of Synthetic Dataset"
   ]
  },
  {
   "cell_type": "code",
   "execution_count": 34,
   "metadata": {},
   "outputs": [],
   "source": [
    "import networkx as nx\n",
    "import numpy as np\n",
    "import pandas as pd\n",
    "import scipy\n",
    "import random\n",
    "import seaborn as sns\n",
    "from pymatch.Matcher import Matcher\n",
    "from pymatch.functions import ks_boot\n",
    "from joblib import Parallel, delayed\n",
    "\n",
    "from utils import treatment_effect\n",
    "\n",
    "sns.set_context(\"notebook\")\n",
    "%matplotlib inline\n",
    "\n",
    "random.seed(0)\n",
    "np.random.seed(0)\n",
    "\n",
    "TREATMENT_COL = 'ContinentOfBirth'\n",
    "#TREATMENT_COL = 'CitizenshipContinent'\n",
    "TREATMENT_VAL = 'Asia'\n",
    "treatment_subdimensions = ['CitizenshipCountry'] if TREATMENT_COL == 'CitizenshipContinent' else ['CountryOfBirth']\n",
    "\n",
    "OUTCOME_NAME = 'Last Name Correct'\n",
    "\n",
    "TREATMENT = 'T'\n",
    "OUTCOME = 'O'"
   ]
  },
  {
   "cell_type": "code",
   "execution_count": 35,
   "metadata": {},
   "outputs": [
    {
     "data": {
      "text/plain": [
       "Index(['Source', 'Last Name', 'CountryOfBirth', 'ContinentOfBirth',\n",
       "       'CitizenshipCountry', 'CitizenshipContinent', 'NumChildren',\n",
       "       'MaritalStatus', 'Last Name Correct'],\n",
       "      dtype='object')"
      ]
     },
     "execution_count": 35,
     "metadata": {},
     "output_type": "execute_result"
    }
   ],
   "source": [
    "dataset = pd.read_csv('data/synthetic-dataset-scenario-B.csv')\n",
    "dataset.columns"
   ]
  },
  {
   "cell_type": "code",
   "execution_count": 36,
   "metadata": {},
   "outputs": [],
   "source": [
    "# Introduce binary treatment column as proposed by Data X-Ray\n",
    "dataset[TREATMENT] = dataset[TREATMENT_COL] == TREATMENT_VAL\n",
    "dataset.rename({OUTCOME_NAME: OUTCOME}, axis=1, inplace=True)\n",
    "dataset.head()\n",
    "\n",
    "COVARIATES = dataset.drop([TREATMENT, OUTCOME, TREATMENT_COL, 'Last Name'] + treatment_subdimensions, axis=1).columns.values\n",
    "CONT_COVARIATES = ['NumChildren']\n",
    "CAT_COVARIATES = list(c for c in COVARIATES if c not in CONT_COVARIATES)"
   ]
  },
  {
   "cell_type": "markdown",
   "metadata": {},
   "source": [
    "## Analysis with Matching and Propensity Score Stratification"
   ]
  },
  {
   "cell_type": "code",
   "execution_count": 37,
   "metadata": {},
   "outputs": [
    {
     "data": {
      "text/plain": [
       "Index(['Source', 'Last Name', 'CountryOfBirth', 'ContinentOfBirth',\n",
       "       'CitizenshipCountry', 'CitizenshipContinent', 'NumChildren',\n",
       "       'MaritalStatus', 'O', 'T'],\n",
       "      dtype='object')"
      ]
     },
     "execution_count": 37,
     "metadata": {},
     "output_type": "execute_result"
    }
   ],
   "source": [
    "dataset.columns"
   ]
  },
  {
   "cell_type": "code",
   "execution_count": 38,
   "metadata": {},
   "outputs": [
    {
     "name": "stdout",
     "output_type": "stream",
     "text": [
      "Training model 1/50\n",
      "Training model 2/50\n",
      "Training model 3/50\n",
      "Training model 4/50\n",
      "Training model 5/50\n",
      "Training model 6/50\n",
      "Training model 7/50\n",
      "Training model 8/50\n",
      "Training model 9/50\n",
      "Training model 10/50\n",
      "Training model 11/50\n",
      "Training model 12/50\n",
      "Training model 13/50\n",
      "Training model 14/50\n",
      "Training model 15/50\n",
      "Training model 16/50\n",
      "Training model 17/50\n",
      "Training model 18/50\n",
      "Training model 19/50\n",
      "Training model 20/50\n",
      "Training model 21/50\n",
      "Training model 22/50\n",
      "Training model 23/50\n",
      "Training model 24/50\n",
      "Training model 25/50\n",
      "Training model 26/50\n",
      "Training model 27/50\n",
      "Training model 28/50\n",
      "Training model 29/50\n",
      "Training model 30/50\n",
      "Training model 31/50\n",
      "Training model 32/50\n",
      "Training model 33/50\n",
      "Training model 34/50\n",
      "Training model 35/50\n",
      "Training model 36/50\n",
      "Training model 37/50\n",
      "Training model 38/50\n",
      "Training model 39/50\n",
      "Training model 40/50\n",
      "Training model 41/50\n",
      "Training model 42/50\n",
      "Training model 43/50\n",
      "Training model 44/50\n",
      "Training model 45/50\n",
      "Training model 46/50\n",
      "Training model 47/50\n",
      "Training model 48/50\n",
      "Training model 49/50\n",
      "Training model 50/50\n",
      "Train Accuracy:  0.9081601927130383\n"
     ]
    },
    {
     "name": "stderr",
     "output_type": "stream",
     "text": [
      "C:\\Users\\Amnesix\\DOCUME~1\\KIT---~1\\00-AUS~1\\Studium\\WINTER~1\\CAUSAL~1\\mldcpy\\lib\\site-packages\\pandas\\core\\computation\\expressions.py:180: UserWarning: evaluating in Python space because the '*' operator is not supported by numexpr for the bool dtype, use '&' instead\n",
      "  .format(op=op_str, alt_op=unsupported[op_str]))\n"
     ]
    },
    {
     "name": "stdout",
     "output_type": "stream",
     "text": [
      "Training model 1/50\n",
      "Training model 2/50\n",
      "Training model 3/50\n",
      "Training model 4/50\n",
      "Training model 5/50\n",
      "Training model 6/50\n",
      "Training model 7/50\n",
      "Training model 8/50\n",
      "Training model 9/50\n",
      "Training model 10/50\n",
      "Training model 11/50\n",
      "Training model 12/50\n",
      "Training model 13/50\n",
      "Training model 14/50\n",
      "Training model 15/50\n",
      "Training model 16/50\n",
      "Training model 17/50\n",
      "Training model 18/50\n",
      "Training model 19/50\n",
      "Training model 20/50\n",
      "Training model 21/50\n",
      "Training model 22/50\n",
      "Training model 23/50\n",
      "Training model 24/50\n",
      "Training model 25/50\n",
      "Training model 26/50\n",
      "Training model 27/50\n",
      "Training model 28/50\n",
      "Training model 29/50\n",
      "Training model 30/50\n",
      "Training model 31/50\n",
      "Training model 32/50\n",
      "Training model 33/50\n",
      "Training model 34/50\n",
      "Training model 35/50\n",
      "Training model 36/50\n",
      "Training model 37/50\n",
      "Training model 38/50\n",
      "Training model 39/50\n",
      "Training model 40/50\n",
      "Training model 41/50\n",
      "Training model 42/50\n",
      "Training model 43/50\n",
      "Training model 44/50\n",
      "Training model 45/50\n",
      "Training model 46/50\n",
      "Training model 47/50\n",
      "Training model 48/50\n",
      "Training model 49/50\n",
      "Training model 50/50\n",
      "Train Accuracy:  0.9564171926660655\n",
      "Covariate Source not balanced enough in stratum 0. chi2-statistic: 12.818834622968147 > 7.814727903251179, p-value 0.005045224679212254\n",
      "Training model 1/50"
     ]
    },
    {
     "name": "stderr",
     "output_type": "stream",
     "text": [
      "C:\\Users\\Amnesix\\DOCUME~1\\KIT---~1\\00-AUS~1\\Studium\\WINTER~1\\CAUSAL~1\\mldcpy\\lib\\site-packages\\pandas\\core\\computation\\expressions.py:180: UserWarning: evaluating in Python space because the '*' operator is not supported by numexpr for the bool dtype, use '&' instead\n",
      "  .format(op=op_str, alt_op=unsupported[op_str]))\n"
     ]
    },
    {
     "name": "stdout",
     "output_type": "stream",
     "text": [
      "\n",
      "Training model 2/50\n",
      "Training model 3/50\n",
      "Training model 4/50\n",
      "Training model 5/50\n",
      "Training model 6/50\n",
      "Training model 7/50\n",
      "Training model 8/50\n",
      "Training model 9/50\n",
      "Training model 10/50\n",
      "Training model 11/50\n",
      "Training model 12/50\n",
      "Training model 13/50\n",
      "Training model 14/50\n",
      "Training model 15/50\n",
      "Training model 16/50\n",
      "Training model 17/50\n",
      "Training model 18/50\n",
      "Training model 19/50\n",
      "Training model 20/50\n",
      "Training model 21/50\n",
      "Training model 22/50\n",
      "Training model 23/50\n",
      "Training model 24/50\n",
      "Training model 25/50\n",
      "Training model 26/50\n",
      "Training model 27/50\n",
      "Training model 28/50\n",
      "Training model 29/50\n",
      "Training model 30/50\n",
      "Training model 31/50\n",
      "Training model 32/50\n",
      "Training model 33/50\n",
      "Training model 34/50\n",
      "Training model 35/50\n",
      "Training model 36/50\n",
      "Training model 37/50\n",
      "Training model 38/50\n",
      "Training model 39/50\n",
      "Training model 40/50\n",
      "Training model 41/50\n",
      "Training model 42/50\n",
      "Training model 43/50\n",
      "Training model 44/50\n",
      "Training model 45/50\n",
      "Training model 46/50\n",
      "Training model 47/50\n",
      "Training model 48/50\n",
      "Training model 49/50\n",
      "Training model 50/50\n",
      "Train Accuracy:  0.943019093078759\n"
     ]
    },
    {
     "name": "stderr",
     "output_type": "stream",
     "text": [
      "C:\\Users\\Amnesix\\DOCUME~1\\KIT---~1\\00-AUS~1\\Studium\\WINTER~1\\CAUSAL~1\\mldcpy\\lib\\site-packages\\pandas\\core\\computation\\expressions.py:180: UserWarning: evaluating in Python space because the '*' operator is not supported by numexpr for the bool dtype, use '&' instead\n",
      "  .format(op=op_str, alt_op=unsupported[op_str]))\n"
     ]
    },
    {
     "data": {
      "text/plain": [
       "-0.14352971213704188"
      ]
     },
     "execution_count": 38,
     "metadata": {},
     "output_type": "execute_result"
    }
   ],
   "source": [
    "match_vars = ['CitizenshipContinent'] if TREATMENT_COL == 'ContinentOfBirth' else ['ContinentOfBirth']\n",
    "att = treatment_effect.match_then_stratify(dataset, match_vars, TREATMENT, TREATMENT_COL, treatment_subdimensions,\n",
    "                                           OUTCOME, CONT_COVARIATES, CAT_COVARIATES, additional_excludes=['Last Name'])\n",
    "#att = treatment_effect.match_exactly(dataset.copy(), TREATMENT, TREATMENT_COL, treatment_subdimensions, OUTCOME, exclude_vars=['Last Name', 'NumChildren'])\n",
    "att"
   ]
  },
  {
   "cell_type": "markdown",
   "metadata": {},
   "source": [
    "#### Get statistical significance by comparing with placebo treatment"
   ]
  },
  {
   "cell_type": "code",
   "execution_count": 39,
   "metadata": {},
   "outputs": [],
   "source": [
    "n_iter = 50\n",
    "placebo_results = treatment_effect.generate_placebo_effects(dataset, match_vars, TREATMENT, TREATMENT_COL, treatment_subdimensions,\n",
    "                                                            OUTCOME, CONT_COVARIATES, CAT_COVARIATES, additional_excludes=['Last Name'], n_iter=n_iter)"
   ]
  },
  {
   "cell_type": "code",
   "execution_count": 40,
   "metadata": {},
   "outputs": [
    {
     "name": "stdout",
     "output_type": "stream",
     "text": [
      "Treatment effect outside 95%-bounds of placebo effect: -0.14352971213704188 not in [-0.012139767722712769, 0.00850848538962255]\n"
     ]
    }
   ],
   "source": [
    "treatment_effect.check_treatment_effect(att, placebo_results)"
   ]
  },
  {
   "cell_type": "code",
   "execution_count": 41,
   "metadata": {},
   "outputs": [],
   "source": [
    "treatment_results = Parallel(n_jobs=4)(delayed(treatment_effect.match_then_stratify)(dataset.sample(frac=1, replace=True), match_vars, TREATMENT, \n",
    "                                                                                     TREATMENT_COL, treatment_subdimensions, OUTCOME, CONT_COVARIATES, \n",
    "                                                                                     CAT_COVARIATES, additional_excludes=['Last Name'], n_models=2) for _ in  range(n_iter))\n",
    "#treatment_results = Parallel(n_jobs=4)(delayed(treatment_effect.match_exactly)(dataset.sample(frac=.8, replace=False), TREATMENT, TREATMENT_COL, treatment_subdimensions, \n",
    "#                                                                               OUTCOME, exclude_vars=['Last Name', 'NumChildren']) for _ in  range(n_iter))"
   ]
  },
  {
   "cell_type": "code",
   "execution_count": 44,
   "metadata": {},
   "outputs": [
    {
     "data": {
      "image/png": "[encoded data removed]",
      "text/plain": [
       "<Figure size 432x288 with 1 Axes>"
      ]
     },
     "metadata": {
      "needs_background": "light"
     },
     "output_type": "display_data"
    }
   ],
   "source": [
    "# QQ-Plot to compare empirical distributions.\n",
    "from statsmodels.graphics.gofplots import qqplot_2samples\n",
    "import pylab\n",
    "import matplotlib.pyplot as plt\n",
    "\n",
    "f = qqplot_2samples(np.array(placebo_results), np.array(treatment_results), xlabel='Actual Treatment', ylabel='Placebo', line='45')\n",
    "\n",
    "plt.savefig(\"report/figures/qqBirth.pdf\", bbox_inches='tight')"
   ]
  },
  {
   "cell_type": "code",
   "execution_count": 43,
   "metadata": {},
   "outputs": [
    {
     "name": "stdout",
     "output_type": "stream",
     "text": [
      "Rejecting hypothesis that placebo treatment and actual treatment are of same distribution (K-S statistic: 1.00000, p-value: 2.16468817146063e-23)\n"
     ]
    }
   ],
   "source": [
    "treatment_effect.ks_test_treatment_effect(placebo_results, treatment_results, n_iter, alpha=0.05)"
   ]
  },
  {
   "cell_type": "code",
   "execution_count": null,
   "metadata": {},
   "outputs": [],
   "source": []
  }
 ],
 "metadata": {
  "kernelspec": {
   "display_name": "Python 3 MLDC",
   "language": "python",
   "name": "mldcpy"
  },
  "language_info": {
   "codemirror_mode": {
    "name": "ipython",
    "version": 3
   },
   "file_extension": ".py",
   "mimetype": "text/x-python",
   "name": "python",
   "nbconvert_exporter": "python",
   "pygments_lexer": "ipython3",
   "version": "3.6.5"
  }
 },
 "nbformat": 4,
 "nbformat_minor": 2
}
