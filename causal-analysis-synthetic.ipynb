{
 "cells": [
  {
   "cell_type": "markdown",
   "metadata": {},
   "source": [
    "# Causal Analysis of Synthetic Dataset"
   ]
  },
  {
   "cell_type": "code",
   "execution_count": 50,
   "metadata": {},
   "outputs": [],
   "source": [
    "import networkx as nx\n",
    "import numpy as np\n",
    "import pandas as pd\n",
    "import dowhy\n",
    "import dowhy.plotter as plotter\n",
    "from dowhy.do_why import CausalModel\n",
    "import random\n",
    "\n",
    "random.seed(0)\n",
    "np.random.seed(0)\n",
    "\n",
    "#TREATMENT = 'ContinentOfBirth'\n",
    "TREATMENT = 'CitizenshipContinent'"
   ]
  },
  {
   "cell_type": "code",
   "execution_count": 51,
   "metadata": {},
   "outputs": [],
   "source": [
    "dataset = pd.read_csv('data/synthetic-dataset-scenario-B.csv')"
   ]
  },
  {
   "cell_type": "code",
   "execution_count": 52,
   "metadata": {},
   "outputs": [
    {
     "data": {
      "text/html": [
       "<div>\n",
       "<style scoped>\n",
       "    .dataframe tbody tr th:only-of-type {\n",
       "        vertical-align: middle;\n",
       "    }\n",
       "\n",
       "    .dataframe tbody tr th {\n",
       "        vertical-align: top;\n",
       "    }\n",
       "\n",
       "    .dataframe thead th {\n",
       "        text-align: right;\n",
       "    }\n",
       "</style>\n",
       "<table border=\"1\" class=\"dataframe\">\n",
       "  <thead>\n",
       "    <tr style=\"text-align: right;\">\n",
       "      <th></th>\n",
       "      <th>Source</th>\n",
       "      <th>Last Name</th>\n",
       "      <th>CountryOfBirth</th>\n",
       "      <th>ContinentOfBirth</th>\n",
       "      <th>CitizenshipCountry</th>\n",
       "      <th>CitizenshipContinent</th>\n",
       "      <th>NumChildren</th>\n",
       "      <th>MaritalStatus</th>\n",
       "      <th>Last Name Correct</th>\n",
       "      <th>Treatment</th>\n",
       "    </tr>\n",
       "  </thead>\n",
       "  <tbody>\n",
       "    <tr>\n",
       "      <th>0</th>\n",
       "      <td>B</td>\n",
       "      <td>ztyji</td>\n",
       "      <td>China</td>\n",
       "      <td>Asia</td>\n",
       "      <td>China</td>\n",
       "      <td>Asia</td>\n",
       "      <td>2</td>\n",
       "      <td>Married</td>\n",
       "      <td>False</td>\n",
       "      <td>True</td>\n",
       "    </tr>\n",
       "    <tr>\n",
       "      <th>1</th>\n",
       "      <td>B</td>\n",
       "      <td>eqjin</td>\n",
       "      <td>Canada</td>\n",
       "      <td>North America</td>\n",
       "      <td>Canada</td>\n",
       "      <td>North America</td>\n",
       "      <td>2</td>\n",
       "      <td>Single</td>\n",
       "      <td>True</td>\n",
       "      <td>False</td>\n",
       "    </tr>\n",
       "    <tr>\n",
       "      <th>2</th>\n",
       "      <td>D</td>\n",
       "      <td>npqyp</td>\n",
       "      <td>China</td>\n",
       "      <td>Asia</td>\n",
       "      <td>China</td>\n",
       "      <td>Asia</td>\n",
       "      <td>4</td>\n",
       "      <td>Widowed</td>\n",
       "      <td>False</td>\n",
       "      <td>True</td>\n",
       "    </tr>\n",
       "    <tr>\n",
       "      <th>3</th>\n",
       "      <td>A</td>\n",
       "      <td>vwsqy</td>\n",
       "      <td>France</td>\n",
       "      <td>Europe</td>\n",
       "      <td>Canada</td>\n",
       "      <td>North America</td>\n",
       "      <td>4</td>\n",
       "      <td>Widowed</td>\n",
       "      <td>True</td>\n",
       "      <td>False</td>\n",
       "    </tr>\n",
       "    <tr>\n",
       "      <th>4</th>\n",
       "      <td>A</td>\n",
       "      <td>jsnjz</td>\n",
       "      <td>Japan</td>\n",
       "      <td>Asia</td>\n",
       "      <td>Japan</td>\n",
       "      <td>Asia</td>\n",
       "      <td>2</td>\n",
       "      <td>Single</td>\n",
       "      <td>True</td>\n",
       "      <td>True</td>\n",
       "    </tr>\n",
       "  </tbody>\n",
       "</table>\n",
       "</div>"
      ],
      "text/plain": [
       "  Source Last Name CountryOfBirth ContinentOfBirth CitizenshipCountry  \\\n",
       "0      B     ztyji          China             Asia              China   \n",
       "1      B     eqjin         Canada    North America             Canada   \n",
       "2      D     npqyp          China             Asia              China   \n",
       "3      A     vwsqy         France           Europe             Canada   \n",
       "4      A     jsnjz          Japan             Asia              Japan   \n",
       "\n",
       "  CitizenshipContinent  NumChildren MaritalStatus  Last Name Correct  \\\n",
       "0                 Asia            2       Married              False   \n",
       "1        North America            2        Single               True   \n",
       "2                 Asia            4       Widowed              False   \n",
       "3        North America            4       Widowed               True   \n",
       "4                 Asia            2        Single               True   \n",
       "\n",
       "   Treatment  \n",
       "0       True  \n",
       "1      False  \n",
       "2       True  \n",
       "3      False  \n",
       "4       True  "
      ]
     },
     "execution_count": 52,
     "metadata": {},
     "output_type": "execute_result"
    }
   ],
   "source": [
    "# Introduce binary treatment column as proposed by Data X-Ray\n",
    "dataset['Treatment'] = dataset[TREATMENT] == 'Asia'\n",
    "dataset.head()"
   ]
  },
  {
   "cell_type": "code",
   "execution_count": 53,
   "metadata": {},
   "outputs": [],
   "source": [
    "graph = nx.DiGraph()\n",
    "\n",
    "# potential confounders\n",
    "for col in dataset.drop(['Last Name', 'Last Name Correct', 'Treatment', TREATMENT, 'CitizenshipCountry'], axis=1).columns:\n",
    "    graph.add_edge(col, 'Treatment')\n",
    "    graph.add_edge(col, 'Last Name Correct')\n",
    "    \n",
    "#graph.add_edge('Unobserved Confounders', 'Treatment')\n",
    "#graph.add_edge('Unobserved Confounders', 'Last Name Correct')\n",
    "\n",
    "# Assumed causal relation\n",
    "graph.add_edge('Treatment', 'Last Name Correct')"
   ]
  },
  {
   "cell_type": "code",
   "execution_count": 54,
   "metadata": {},
   "outputs": [
    {
     "name": "stdout",
     "output_type": "stream",
     "text": [
      "['NumChildren', 'Source', 'CountryOfBirth', 'ContinentOfBirth', 'MaritalStatus']\n",
      "yes\n",
      "{'observed': 'yes'}\n",
      "yes\n",
      "{'observed': 'yes'}\n",
      "yes\n",
      "{'observed': 'yes'}\n",
      "yes\n",
      "{'observed': 'yes'}\n",
      "yes\n",
      "{'observed': 'yes'}\n",
      "Model to find the causal effect of treatment Treatment on outcome Last Name Correct\n",
      "Warning: Pygraphviz cannot be loaded. Check that graphviz and pygraphviz are installed.\n",
      "Using Matplotlib for plotting\n"
     ]
    },
    {
     "data": {
      "image/png": "[encoded data removed]",
      "text/plain": [
       "<Figure size 432x288 with 1 Axes>"
      ]
     },
     "metadata": {
      "needs_background": "light"
     },
     "output_type": "display_data"
    }
   ],
   "source": [
    "model = CausalModel(data = dataset, treatment='Treatment', outcome='Last Name Correct', graph=''.join(nx.generate_gml(graph)))\n",
    "model.view_model()"
   ]
  },
  {
   "cell_type": "code",
   "execution_count": 55,
   "metadata": {},
   "outputs": [
    {
     "name": "stderr",
     "output_type": "stream",
     "text": [
      "INFO:dowhy.causal_identifier:Common causes of treatment and outcome:{'NumChildren', 'U', 'Source', 'CountryOfBirth', 'ContinentOfBirth', 'MaritalStatus'}\n"
     ]
    },
    {
     "name": "stdout",
     "output_type": "stream",
     "text": [
      "{'observed': 'yes'}\n",
      "{'label': 'Unobserved Confounders', 'observed': 'no'}\n",
      "There are unobserved common causes. Causal effect cannot be identified.\n"
     ]
    },
    {
     "name": "stdin",
     "output_type": "stream",
     "text": [
      "WARN: Do you want to continue by ignoring these unobserved confounders? [y/n]  y\n"
     ]
    },
    {
     "name": "stderr",
     "output_type": "stream",
     "text": [
      "INFO:dowhy.causal_identifier:Instrumental variables for treatment and outcome:[]\n"
     ]
    },
    {
     "name": "stdout",
     "output_type": "stream",
     "text": [
      "Estimand type: ate\n",
      "### Estimand : 1\n",
      "Estimand name: backdoor\n",
      "Estimand expression:\n",
      "    d                                                                         \n",
      "──────────(Expectation(Last Name Correct|NumChildren,Source,CountryOfBirth,Con\n",
      "dTreatment                                                                    \n",
      "\n",
      "                             \n",
      "tinentOfBirth,MaritalStatus))\n",
      "                             \n",
      "Estimand assumption 1, Unconfoundedness: If U→Treatment and U→Last Name Correct then P(Last Name Correct|Treatment,NumChildren,Source,CountryOfBirth,ContinentOfBirth,MaritalStatus,U) = P(Last Name Correct|Treatment,NumChildren,Source,CountryOfBirth,ContinentOfBirth,MaritalStatus)\n",
      "### Estimand : 2\n",
      "Estimand name: iv\n",
      "No such variable found!\n",
      "\n"
     ]
    }
   ],
   "source": [
    "identified_estimand = model.identify_effect()\n",
    "print(identified_estimand)"
   ]
  },
  {
   "cell_type": "code",
   "execution_count": 56,
   "metadata": {},
   "outputs": [
    {
     "name": "stderr",
     "output_type": "stream",
     "text": [
      "INFO:dowhy.causal_estimator:INFO: Using Linear Regression Estimator\n",
      "INFO:dowhy.causal_estimator:b: Last Name Correct~Treatment+NumChildren+Source+CountryOfBirth+ContinentOfBirth+MaritalStatus\n"
     ]
    },
    {
     "name": "stdout",
     "output_type": "stream",
     "text": [
      "LinearRegressionEstimator\n",
      "*** Causal Estimate ***\n",
      "\n",
      "## Target estimand\n",
      "Estimand type: ate\n",
      "### Estimand : 1\n",
      "Estimand name: backdoor\n",
      "Estimand expression:\n",
      "    d                                                                         \n",
      "──────────(Expectation(Last Name Correct|NumChildren,Source,CountryOfBirth,Con\n",
      "dTreatment                                                                    \n",
      "\n",
      "                             \n",
      "tinentOfBirth,MaritalStatus))\n",
      "                             \n",
      "Estimand assumption 1, Unconfoundedness: If U→Treatment and U→Last Name Correct then P(Last Name Correct|Treatment,NumChildren,Source,CountryOfBirth,ContinentOfBirth,MaritalStatus,U) = P(Last Name Correct|Treatment,NumChildren,Source,CountryOfBirth,ContinentOfBirth,MaritalStatus)\n",
      "### Estimand : 2\n",
      "Estimand name: iv\n",
      "No such variable found!\n",
      "\n",
      "## Realized estimand\n",
      "b: Last Name Correct~Treatment+NumChildren+Source+CountryOfBirth+ContinentOfBirth+MaritalStatus\n",
      "## Estimate\n",
      "Value: 0.006974699875555585\n",
      "\n",
      "Causal Estimate is 0.006974699875555585\n"
     ]
    }
   ],
   "source": [
    "causal_estimate = model.estimate_effect(identified_estimand,\n",
    "        method_name='backdoor.linear_regression')\n",
    "print(causal_estimate)\n",
    "print('Causal Estimate is ' + str(causal_estimate.value))"
   ]
  },
  {
   "cell_type": "code",
   "execution_count": 57,
   "metadata": {},
   "outputs": [
    {
     "name": "stderr",
     "output_type": "stream",
     "text": [
      "INFO:dowhy.causal_estimator:INFO: Using Linear Regression Estimator\n",
      "INFO:dowhy.causal_estimator:b: Last Name Correct~Treatment+NumChildren+Source+CountryOfBirth+ContinentOfBirth+MaritalStatus+w_random\n"
     ]
    },
    {
     "name": "stdout",
     "output_type": "stream",
     "text": [
      "Refute: Add a Random Common Cause\n",
      "Estimated effect:(0.006974699875555585,)\n",
      "New effect:(0.01499086096533532,)\n",
      "\n"
     ]
    }
   ],
   "source": [
    "res_random = model.refute_estimate(identified_estimand, causal_estimate, method_name='random_common_cause')\n",
    "print(res_random)"
   ]
  },
  {
   "cell_type": "code",
   "execution_count": 58,
   "metadata": {},
   "outputs": [
    {
     "name": "stderr",
     "output_type": "stream",
     "text": [
      "INFO:dowhy.causal_estimator:INFO: Using Linear Regression Estimator\n",
      "INFO:dowhy.causal_estimator:b: Last Name Correct~placebo+NumChildren+Source+CountryOfBirth+ContinentOfBirth+MaritalStatus\n"
     ]
    },
    {
     "name": "stdout",
     "output_type": "stream",
     "text": [
      "Refute: Use a Placebo Treatment\n",
      "Estimated effect:(0.006974699875555585,)\n",
      "New effect:(-0.0018912163960725648,)\n",
      "\n"
     ]
    }
   ],
   "source": [
    "res_placebo = model.refute_estimate(identified_estimand, causal_estimate, method_name='placebo_treatment_refuter', placebo_type='permute')\n",
    "print(res_placebo)"
   ]
  },
  {
   "cell_type": "code",
   "execution_count": 59,
   "metadata": {},
   "outputs": [
    {
     "name": "stderr",
     "output_type": "stream",
     "text": [
      "INFO:dowhy.causal_estimator:INFO: Using Linear Regression Estimator\n",
      "INFO:dowhy.causal_estimator:b: Last Name Correct~Treatment+NumChildren+Source+CountryOfBirth+ContinentOfBirth+MaritalStatus\n"
     ]
    },
    {
     "name": "stdout",
     "output_type": "stream",
     "text": [
      "Refute: Use a subset of data\n",
      "Estimated effect:(0.006974699875555585,)\n",
      "New effect:(0.009460534184167032,)\n",
      "\n"
     ]
    }
   ],
   "source": [
    "res_subset = model.refute_estimate(identified_estimand, causal_estimate, method_name='data_subset_refuter', subset_fraction=0.9)\n",
    "print(res_subset)"
   ]
  },
  {
   "cell_type": "code",
   "execution_count": null,
   "metadata": {},
   "outputs": [],
   "source": []
  }
 ],
 "metadata": {
  "kernelspec": {
   "display_name": "Python 3 MLDC",
   "language": "python",
   "name": "mldcpy"
  },
  "language_info": {
   "codemirror_mode": {
    "name": "ipython",
    "version": 3
   },
   "file_extension": ".py",
   "mimetype": "text/x-python",
   "name": "python",
   "nbconvert_exporter": "python",
   "pygments_lexer": "ipython3",
   "version": "3.6.5"
  }
 },
 "nbformat": 4,
 "nbformat_minor": 2
}
