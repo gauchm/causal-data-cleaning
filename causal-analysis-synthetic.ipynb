{
 "cells": [
  {
   "cell_type": "markdown",
   "metadata": {},
   "source": [
    "# Causal Analysis of Synthetic Dataset"
   ]
  },
  {
   "cell_type": "code",
   "execution_count": 235,
   "metadata": {},
   "outputs": [],
   "source": [
    "import networkx as nx\n",
    "import numpy as np\n",
    "import pandas as pd\n",
    "import scipy\n",
    "import random\n",
    "import seaborn as sns\n",
    "from pymatch.Matcher import Matcher\n",
    "from pymatch.functions import ks_boot\n",
    "from joblib import Parallel, delayed\n",
    "\n",
    "sns.set_context(\"notebook\")\n",
    "%matplotlib inline\n",
    "\n",
    "random.seed(0)\n",
    "np.random.seed(0)\n",
    "\n",
    "TREATMENT_COL = 'ContinentOfBirth'\n",
    "#TREATMENT_COL = 'CitizenshipContinent'\n",
    "\n",
    "treatment_subdimensions = ['CitizenshipCountry'] if TREATMENT_COL == 'CitizenshipContinent' else ['CountryOfBirth']\n",
    "\n",
    "OUTCOME_NAME = 'Last Name Correct'\n",
    "\n",
    "TREATMENT = 'T'\n",
    "OUTCOME = 'O'"
   ]
  },
  {
   "cell_type": "code",
   "execution_count": 236,
   "metadata": {},
   "outputs": [
    {
     "data": {
      "text/plain": [
       "Index(['Source', 'Last Name', 'CountryOfBirth', 'ContinentOfBirth',\n",
       "       'CitizenshipCountry', 'CitizenshipContinent', 'NumChildren',\n",
       "       'MaritalStatus', 'Last Name Correct'],\n",
       "      dtype='object')"
      ]
     },
     "execution_count": 236,
     "metadata": {},
     "output_type": "execute_result"
    }
   ],
   "source": [
    "dataset = pd.read_csv('data/synthetic-dataset-scenario-B.csv')\n",
    "dataset.columns"
   ]
  },
  {
   "cell_type": "code",
   "execution_count": 237,
   "metadata": {},
   "outputs": [],
   "source": [
    "# Introduce binary treatment column as proposed by Data X-Ray\n",
    "dataset[TREATMENT] = dataset[TREATMENT_COL] == 'Asia'\n",
    "dataset.rename({OUTCOME_NAME: OUTCOME}, axis=1, inplace=True)\n",
    "dataset.head()\n",
    "\n",
    "COVARIATES = dataset.drop([TREATMENT, OUTCOME, TREATMENT_COL, 'Last Name'] + treatment_subdimensions, axis=1).columns.values\n",
    "CONT_COVARIATES = ['NumChildren']\n",
    "CAT_COVARIATES = list(c for c in COVARIATES if c not in CONT_COVARIATES)"
   ]
  },
  {
   "cell_type": "markdown",
   "metadata": {},
   "source": [
    "## Analysis with Matching and Propensity Score Stratification"
   ]
  },
  {
   "cell_type": "code",
   "execution_count": 4,
   "metadata": {},
   "outputs": [
    {
     "data": {
      "text/plain": [
       "Index(['Source', 'Last Name', 'CountryOfBirth', 'ContinentOfBirth',\n",
       "       'CitizenshipCountry', 'CitizenshipContinent', 'NumChildren',\n",
       "       'MaritalStatus', 'O', 'T'],\n",
       "      dtype='object')"
      ]
     },
     "execution_count": 4,
     "metadata": {},
     "output_type": "execute_result"
    }
   ],
   "source": [
    "dataset.columns"
   ]
  },
  {
   "cell_type": "code",
   "execution_count": 248,
   "metadata": {},
   "outputs": [
    {
     "name": "stdout",
     "output_type": "stream",
     "text": [
      "Formula:\n",
      "T ~ Source+CitizenshipCountry+NumChildren+MaritalStatus\n",
      "n majority: 3016\n",
      "n minority: 305\n",
      "Fitting Models on Balanced Samples: 50\\50\n",
      "Average Accuracy: 54.37%\n",
      "Formula:\n",
      "T ~ Source+CitizenshipCountry+NumChildren+MaritalStatus\n",
      "n majority: 3182\n",
      "n minority: 145\n",
      "Fitting Models on Balanced Samples: 50\\50\n",
      "Average Accuracy: 59.19%\n",
      "Formula:\n",
      "T ~ Source+CitizenshipCountry+NumChildren+MaritalStatus\n",
      "n majority: 3161\n",
      "n minority: 191\n",
      "Fitting Models on Balanced Samples: 50\\50\n",
      "Average Accuracy: 55.93%\n"
     ]
    },
    {
     "data": {
      "image/png": "[encoded data removed]",
      "text/latex": [
       "$$-0.1426465979439794$$"
      ],
      "text/plain": [
       "-0.1426465979439794"
      ]
     },
     "execution_count": 248,
     "metadata": {},
     "output_type": "execute_result"
    }
   ],
   "source": [
    "def propensity_score(data, n_models = 50):\n",
    "    m = Matcher(data[data[TREATMENT] == 1], data[data[TREATMENT] == 0], yvar=TREATMENT, exclude=['Last Name', OUTCOME, TREATMENT_COL] + treatment_subdimensions)\n",
    "    m.fit_scores(balance=True, nmodels=n_models)\n",
    "    m.predict_scores()\n",
    "    return m.data.copy()\n",
    "\n",
    "def propensity_stratification(scored_data, continuous_covariates, categorical_covariates, num_strata=50, min_count_per_stratum=10, alpha=.05):\n",
    "    scored_data['stratum'] = pd.qcut(scored_data['scores'], num_strata, labels=False)\n",
    "    \n",
    "    for col in continuous_covariates + categorical_covariates:\n",
    "        treated_contingencies = scored_data[scored_data[TREATMENT] == 1].groupby('stratum')[col].value_counts()\n",
    "        control_contingencies = scored_data[scored_data[TREATMENT] == 0].groupby('stratum')[col].value_counts()\n",
    "        contingencies = pd.concat([treated_contingencies, control_contingencies], axis=1).fillna(0)\n",
    "        contingencies.columns = ['treatment_contingency', 'control_contingency']\n",
    "        \n",
    "        for stratum in contingencies.index.get_level_values(0).unique():\n",
    "            if col in categorical_covariates:\n",
    "                contingency = contingencies.loc[stratum].T.values\n",
    "                p_val = scipy.stats.chi2_contingency(contingency)[1]\n",
    "            else:\n",
    "                ks_test = scipy.stats.ks_2samp(scored_data[scored_data[TREATMENT] == 1][col], scored_data[scored_data[TREATMENT] == 0][col])\n",
    "            critical_value = np.sqrt(-np.log(alpha) / 2) * np.sqrt(2 * n_iter/(n_iter * n_iter))\n",
    "            if ks_test[0] > critical_value and ks_test[1] < alpha:\n",
    "                    print('Covariate {0} not balanced enough in stratum {1}. p-value {2:.6f}'.format(col, stratum, p_val))\n",
    "    \n",
    "    scored_data['Tbar'] = (1 - scored_data[TREATMENT])\n",
    "    scored_data['T_y'] = scored_data[TREATMENT] * scored_data[OUTCOME]\n",
    "    scored_data['Tbar_y'] = scored_data['Tbar'] * scored_data[OUTCOME]\n",
    "\n",
    "    stratified = scored_data.groupby('stratum').filter(lambda stratum: min(stratum.loc[stratum[TREATMENT] == 1].shape[0],\n",
    "                                                                           stratum.loc[stratum[TREATMENT] == 0].shape[0]) > min_count_per_stratum)\n",
    "\n",
    "    lost = list(filter(lambda x: x not in stratified['stratum'].unique(), range(num_strata)))\n",
    "    if len(lost) > 0:\n",
    "        print('Lost strata: {}. They were too small.'.format(lost))\n",
    "\n",
    "    agg_outcomes = stratified.groupby('stratum').agg({TREATMENT: ['sum'], 'Tbar': ['sum'], 'T_y': ['sum'], 'Tbar_y': ['sum']})\n",
    "    agg_outcomes.columns = [\"_\".join(x) for x in agg_outcomes.columns.ravel()]\n",
    "    treatment_sum_name = TREATMENT + \"_sum\"\n",
    "\n",
    "    agg_outcomes['T_y_mean'] = agg_outcomes['T_y_sum'] / agg_outcomes[treatment_sum_name]\n",
    "    agg_outcomes['Tbar_y_mean'] = agg_outcomes['Tbar_y_sum'] / agg_outcomes['Tbar_sum']\n",
    "    agg_outcomes['effect'] = agg_outcomes['T_y_mean'] - agg_outcomes['Tbar_y_mean']\n",
    "    treatment_population = agg_outcomes[treatment_sum_name].sum()\n",
    "\n",
    "    treatment_effect_among_treated = (agg_outcomes['effect'] * agg_outcomes[treatment_sum_name]).sum()\n",
    "    return treatment_effect_among_treated, treatment_population\n",
    "\n",
    "# Explicitly control for highly correlated covariate, then do propensity stratification.\n",
    "# Explicit control is needed, because otherwise covariates won't be balanced within the strata.\n",
    "def match_then_stratify(dataset, exact_match_vars, n_models=50, num_strata=5, min_count_per_stratum=10, alpha=.05):\n",
    "    cum_tt = 0\n",
    "    cum_count = 0\n",
    "    for key, data in dataset.groupby(exact_match_vars):\n",
    "        scored = propensity_score(data.drop(exact_match_vars, axis=1), n_models=n_models)\n",
    "        tt, count = propensity_stratification(scored, list(c for c in CONT_COVARIATES if c not in exact_match_vars), \n",
    "                                                      list(c for c in CAT_COVARIATES if c not in exact_match_vars), num_strata, \n",
    "                                              min_count_per_stratum, alpha)\n",
    "        cum_tt += tt\n",
    "        cum_count += count\n",
    "\n",
    "    att = cum_tt / cum_count\n",
    "    return att  # Average treatment effect among treated. (\"How would the outcome for the treated subpopulation change if they hadn't been treated.\")\n",
    "\n",
    "match_vars = ['CitizenshipContinent'] if TREATMENT_COL == 'ContinentOfBirth' else ['ContinentOfBirth']\n",
    "match_then_stratify(dataset, match_vars)"
   ]
  },
  {
   "cell_type": "markdown",
   "metadata": {},
   "source": [
    "#### Get statistical significance by comparing with placebo treatment"
   ]
  },
  {
   "cell_type": "code",
   "execution_count": 253,
   "metadata": {},
   "outputs": [],
   "source": [
    "n_iter = 50\n",
    "\n",
    "def generate_placebo_sample(placebo_data):\n",
    "    placebo_data[TREATMENT] = np.random.randint(0, 2, len(placebo_data))\n",
    "    return match_then_stratify(placebo_data, match_vars, n_models=1)\n",
    "placebo_results = Parallel(n_jobs=4)(delayed(generate_placebo_sample)(dataset.copy()) for _ in range(n_iter))"
   ]
  },
  {
   "cell_type": "code",
   "execution_count": 254,
   "metadata": {},
   "outputs": [],
   "source": [
    "treatment_results = Parallel(n_jobs=4)(delayed(match_then_stratify)(dataset.sample(frac=.7), match_vars, n_models=1) for _ in  range(n_iter))"
   ]
  },
  {
   "cell_type": "code",
   "execution_count": 255,
   "metadata": {},
   "outputs": [
    {
     "data": {
      "image/png": "[encoded data removed]",
      "text/plain": [
       "<Figure size 720x360 with 1 Axes>"
      ]
     },
     "metadata": {
      "needs_background": "light"
     },
     "output_type": "display_data"
    }
   ],
   "source": [
    "# QQ-Plot to compare empirical distributions. If straight line, no significant difference from placebo treatment.\n",
    "from statsmodels.graphics.gofplots import qqplot_2samples\n",
    "import pylab\n",
    "\n",
    "qqplot_2samples(np.array(placebo_results), np.array(treatment_results), xlabel='Placebo', ylabel='Actual Treatment')\n",
    "pylab.show()"
   ]
  },
  {
   "cell_type": "code",
   "execution_count": 256,
   "metadata": {},
   "outputs": [
    {
     "name": "stdout",
     "output_type": "stream",
     "text": [
      "Rejecting hypothesis that placebo treatment and actual treatment are of same distribution (K-S statistic: 1.0, p-value: 5.546615975073734e-10)\n"
     ]
    }
   ],
   "source": [
    "alpha = .05\n",
    "critical_value = np.sqrt(-np.log(alpha) / 2) * np.sqrt(2 * n_iter/(n_iter * n_iter))\n",
    "\n",
    "ks_test = scipy.stats.ks_2samp(np.array(placebo_results), np.array(treatment_results))\n",
    "if ks_test[0] > critical_value and ks_test[1] < alpha:\n",
    "    print('Rejecting hypothesis that placebo treatment and actual treatment are of same distribution (K-S statistic: {}, p-value: {})'.format(ks_test[0], ks_test[1]))\n",
    "else: \n",
    "    print('Cannot reject hypothesis that placebo and actual treatment are identical distribution (K-S statistic: {}, p-value: {})'.format(ks_test[0], ks_test[1]))"
   ]
  },
  {
   "cell_type": "code",
   "execution_count": null,
   "metadata": {},
   "outputs": [],
   "source": []
  }
 ],
 "metadata": {
  "kernelspec": {
   "display_name": "Python 3 MLDC",
   "language": "python",
   "name": "mldcpy"
  },
  "language_info": {
   "codemirror_mode": {
    "name": "ipython",
    "version": 3
   },
   "file_extension": ".py",
   "mimetype": "text/x-python",
   "name": "python",
   "nbconvert_exporter": "python",
   "pygments_lexer": "ipython3",
   "version": "3.6.5"
  }
 },
 "nbformat": 4,
 "nbformat_minor": 2
}
