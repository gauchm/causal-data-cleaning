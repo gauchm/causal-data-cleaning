{
 "cells": [
  {
   "cell_type": "markdown",
   "metadata": {},
   "source": [
    "# Causal Analysis of Synthetic Dataset"
   ]
  },
  {
   "cell_type": "code",
   "execution_count": 1,
   "metadata": {},
   "outputs": [],
   "source": [
    "import networkx as nx\n",
    "import numpy as np\n",
    "import pandas as pd\n",
    "import scipy\n",
    "import random\n",
    "import seaborn as sns\n",
    "from pymatch.Matcher import Matcher\n",
    "from pymatch.functions import ks_boot\n",
    "from joblib import Parallel, delayed\n",
    "\n",
    "from utils import treatment_effect\n",
    "\n",
    "sns.set_context(\"notebook\")\n",
    "%matplotlib inline\n",
    "\n",
    "random.seed(0)\n",
    "np.random.seed(0)\n",
    "\n",
    "#TREATMENT_COL = 'ContinentOfBirth'\n",
    "TREATMENT_COL = 'CitizenshipContinent'\n",
    "TREATMENT_VAL = 'Asia'\n",
    "treatment_subdimensions = ['CitizenshipCountry'] if TREATMENT_COL == 'CitizenshipContinent' else ['CountryOfBirth']\n",
    "\n",
    "OUTCOME_NAME = 'Last Name Correct'\n",
    "\n",
    "TREATMENT = 'T'\n",
    "OUTCOME = 'O'"
   ]
  },
  {
   "cell_type": "code",
   "execution_count": 2,
   "metadata": {},
   "outputs": [
    {
     "data": {
      "text/plain": [
       "Index(['Source', 'Last Name', 'CountryOfBirth', 'ContinentOfBirth',\n",
       "       'CitizenshipCountry', 'CitizenshipContinent', 'NumChildren',\n",
       "       'MaritalStatus', 'Last Name Correct'],\n",
       "      dtype='object')"
      ]
     },
     "execution_count": 2,
     "metadata": {},
     "output_type": "execute_result"
    }
   ],
   "source": [
    "dataset = pd.read_csv('data/synthetic-dataset-scenario-B-correlation0.7.csv')\n",
    "dataset.columns"
   ]
  },
  {
   "cell_type": "code",
   "execution_count": 3,
   "metadata": {},
   "outputs": [],
   "source": [
    "# Introduce binary treatment column as proposed by Data X-Ray\n",
    "dataset[TREATMENT] = dataset[TREATMENT_COL] == TREATMENT_VAL\n",
    "dataset.rename({OUTCOME_NAME: OUTCOME}, axis=1, inplace=True)\n",
    "dataset.head()\n",
    "\n",
    "COVARIATES = dataset.drop([TREATMENT, OUTCOME, TREATMENT_COL, 'Last Name'] + treatment_subdimensions, axis=1).columns.values\n",
    "CONT_COVARIATES = ['NumChildren']\n",
    "CAT_COVARIATES = list(c for c in COVARIATES if c not in CONT_COVARIATES)"
   ]
  },
  {
   "cell_type": "markdown",
   "metadata": {},
   "source": [
    "## Analysis with Matching and Propensity Score Stratification"
   ]
  },
  {
   "cell_type": "code",
   "execution_count": 4,
   "metadata": {},
   "outputs": [
    {
     "data": {
      "text/plain": [
       "Index(['Source', 'Last Name', 'CountryOfBirth', 'ContinentOfBirth',\n",
       "       'CitizenshipCountry', 'CitizenshipContinent', 'NumChildren',\n",
       "       'MaritalStatus', 'O', 'T'],\n",
       "      dtype='object')"
      ]
     },
     "execution_count": 4,
     "metadata": {},
     "output_type": "execute_result"
    }
   ],
   "source": [
    "dataset.columns"
   ]
  },
  {
   "cell_type": "code",
   "execution_count": 5,
   "metadata": {},
   "outputs": [
    {
     "name": "stdout",
     "output_type": "stream",
     "text": [
      "Formula:\n",
      "T ~ Source+CountryOfBirth+NumChildren+MaritalStatus\n",
      "n majority: 2641\n",
      "n minority: 677\n",
      "Fitting Models on Balanced Samples: 2\\50"
     ]
    },
    {
     "name": "stderr",
     "output_type": "stream",
     "text": [
      "C:\\Users\\Amnesix\\DOCUME~1\\KIT---~1\\00-AUS~1\\Studium\\WINTER~1\\CAUSAL~1\\mldcpy\\lib\\site-packages\\pandas\\core\\frame.py:3697: SettingWithCopyWarning: \n",
      "A value is trying to be set on a copy of a slice from a DataFrame\n",
      "\n",
      "See the caveats in the documentation: http://pandas.pydata.org/pandas-docs/stable/indexing.html#indexing-view-versus-copy\n",
      "  errors=errors)\n",
      "C:\\Users\\Amnesix\\DOCUME~1\\KIT---~1\\00-AUS~1\\Studium\\WINTER~1\\CAUSAL~1\\mldcpy\\lib\\site-packages\\pymatch\\Matcher.py:103: FutureWarning: Sorting because non-concatenation axis is not aligned. A future version\n",
      "of pandas will change to not sort by default.\n",
      "\n",
      "To accept the future behavior, pass 'sort=False'.\n",
      "\n",
      "To retain the current behavior and silence the warning, pass 'sort=True'.\n",
      "\n",
      "  uf.drop_static_cols(df[df[self.yvar] == 0], yvar=self.yvar)])\n"
     ]
    },
    {
     "name": "stdout",
     "output_type": "stream",
     "text": [
      "Fitting Models on Balanced Samples: 50\\50\n",
      "Average Accuracy: 53.14%\n",
      "Covariate MaritalStatus not balanced enough in stratum 0. p-value 0.033135\n",
      "Formula:\n",
      "T ~ Source+CountryOfBirth+NumChildren+MaritalStatus\n",
      "n majority: 2978\n",
      "n minority: 340\n",
      "Fitting Models on Balanced Samples: 50\\50\n",
      "Average Accuracy: 53.95%\n",
      "Formula:\n",
      "T ~ Source+CountryOfBirth+NumChildren+MaritalStatus\n",
      "n majority: 3044\n",
      "n minority: 320\n",
      "Fitting Models on Balanced Samples: 50\\50\n",
      "Average Accuracy: 54.33%\n",
      "Covariate Source not balanced enough in stratum 2. p-value 0.038374\n"
     ]
    },
    {
     "data": {
      "text/plain": [
       "-0.010145980953075612"
      ]
     },
     "execution_count": 5,
     "metadata": {},
     "output_type": "execute_result"
    }
   ],
   "source": [
    "match_vars = ['CitizenshipContinent'] if TREATMENT_COL == 'ContinentOfBirth' else ['ContinentOfBirth']\n",
    "att = treatment_effect.match_then_stratify(dataset, match_vars, TREATMENT, TREATMENT_COL, treatment_subdimensions,\n",
    "                                           OUTCOME, CONT_COVARIATES, CAT_COVARIATES, additional_excludes=['Last Name'])\n",
    "#att = treatment_effect.match_exactly(dataset.copy(), TREATMENT, TREATMENT_COL, treatment_subdimensions, OUTCOME, exclude_vars=['Last Name', 'NumChildren'])\n",
    "att"
   ]
  },
  {
   "cell_type": "markdown",
   "metadata": {},
   "source": [
    "#### Get statistical significance by comparing with placebo treatment"
   ]
  },
  {
   "cell_type": "code",
   "execution_count": 7,
   "metadata": {},
   "outputs": [],
   "source": [
    "n_iter = 50\n",
    "def generate_placebo_sample(placebo_data):\n",
    "    placebo_data[TREATMENT] = np.random.randint(0, 2, len(placebo_data))\n",
    "    #return match_then_stratify(placebo_data, match_vars, n_models=2)\n",
    "    return treatment_effect.match_exactly(placebo_data, TREATMENT, TREATMENT_COL, treatment_subdimensions, OUTCOME, \n",
    "                                          exclude_vars=['Last Name', 'NumChildren'])\n",
    "placebo_results = Parallel(n_jobs=4)(delayed(generate_placebo_sample)(dataset.copy()) for _ in range(n_iter))"
   ]
  },
  {
   "cell_type": "code",
   "execution_count": 8,
   "metadata": {},
   "outputs": [
    {
     "name": "stdout",
     "output_type": "stream",
     "text": [
      "Treatment effect within 95%-bounds of placebo effect: -0.010959346085125408 <= -0.010145980953075612 <= 0.01375601879072358\n"
     ]
    }
   ],
   "source": [
    "if (np.percentile(placebo_results, 2.5) <= att <= np.percentile(placebo_results, 97.5)):\n",
    "    print('Treatment effect within 95%-bounds of placebo effect: {} <= {} <= {}'.format(np.percentile(placebo_results, 2.5), att, np.percentile(placebo_results, 97.5)))\n",
    "else:\n",
    "    print('Treatment effect outside 95%-bounds of placebo effect: {} not in [{}, {}]'.format(att, np.percentile(placebo_results, 2.5), np.percentile(placebo_results, 97.5)))"
   ]
  },
  {
   "cell_type": "code",
   "execution_count": 12,
   "metadata": {},
   "outputs": [],
   "source": [
    "treatment_results = Parallel(n_jobs=4)(delayed(treatment_effect.match_then_stratify)(dataset.sample(frac=1, replace=True), match_vars, TREATMENT, \n",
    "                                                                                     TREATMENT_COL, treatment_subdimensions, OUTCOME, CONT_COVARIATES, \n",
    "                                                                                     CAT_COVARIATES, additional_excludes=['Last Name'], n_models=2) for _ in  range(n_iter))\n",
    "#treatment_results = Parallel(n_jobs=4)(delayed(treatment_effect.match_exactly)(dataset.sample(frac=.8, replace=False), TREATMENT, TREATMENT_COL, treatment_subdimensions, \n",
    "#                                                              OUTCOME, exclude_vars=['Last Name', 'NumChildren']) for _ in  range(n_iter))"
   ]
  },
  {
   "cell_type": "code",
   "execution_count": 13,
   "metadata": {},
   "outputs": [
    {
     "data": {
      "image/png": "[encoded data removed]",
      "text/plain": [
       "<Figure size 720x360 with 1 Axes>"
      ]
     },
     "metadata": {
      "needs_background": "light"
     },
     "output_type": "display_data"
    }
   ],
   "source": [
    "# QQ-Plot to compare empirical distributions. If straight line, no significant difference from placebo treatment.\n",
    "from statsmodels.graphics.gofplots import qqplot_2samples\n",
    "import pylab\n",
    "\n",
    "qqplot_2samples(np.array(placebo_results), np.array(treatment_results), xlabel='Actual Treatment', ylabel='Placebo', line='45')\n",
    "pylab.show()"
   ]
  },
  {
   "cell_type": "code",
   "execution_count": 14,
   "metadata": {},
   "outputs": [
    {
     "name": "stdout",
     "output_type": "stream",
     "text": [
      "Rejecting hypothesis that placebo treatment and actual treatment are of same distribution (K-S statistic: 0.42000, p-value: 0.00017778374204348708)\n"
     ]
    }
   ],
   "source": [
    "alpha = .05\n",
    "critical_value = np.sqrt(-np.log(alpha) / 2) * np.sqrt(2 * n_iter/(n_iter * n_iter))\n",
    "\n",
    "ks_test = scipy.stats.ks_2samp(np.array(placebo_results), np.array(treatment_results))\n",
    "if ks_test[0] > critical_value and ks_test[1] < alpha:\n",
    "    print('Rejecting hypothesis that placebo treatment and actual treatment are of same distribution (K-S statistic: {:.5f}, p-value: {})'.format(ks_test[0], ks_test[1]))\n",
    "else: \n",
    "    print('Cannot reject hypothesis that placebo and actual treatment are of identical distribution (K-S statistic: {:.5f}, p-value: {})'.format(ks_test[0], ks_test[1]))"
   ]
  },
  {
   "cell_type": "code",
   "execution_count": null,
   "metadata": {},
   "outputs": [],
   "source": []
  }
 ],
 "metadata": {
  "kernelspec": {
   "display_name": "Python 3 MLDC",
   "language": "python",
   "name": "mldcpy"
  },
  "language_info": {
   "codemirror_mode": {
    "name": "ipython",
    "version": 3
   },
   "file_extension": ".py",
   "mimetype": "text/x-python",
   "name": "python",
   "nbconvert_exporter": "python",
   "pygments_lexer": "ipython3",
   "version": "3.6.5"
  }
 },
 "nbformat": 4,
 "nbformat_minor": 2
}
