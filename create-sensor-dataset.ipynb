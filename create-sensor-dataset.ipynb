{
 "cells": [
  {
   "cell_type": "markdown",
   "metadata": {},
   "source": [
    "# Transform Sensor Dataset to Data X-Ray Input\n",
    "In this sensor reading dataset, we remove rows with `NA`-values. We consider tuples with too high or too low temperatures as incorrect.\n",
    "\n",
    "Data source: http://db.csail.mit.edu/labdata/labdata.html"
   ]
  },
  {
   "cell_type": "code",
   "execution_count": 22,
   "metadata": {},
   "outputs": [],
   "source": [
    "import pandas as pd\n",
    "import numpy as np\n",
    "\n",
    "balance_factor = 1  # sampling fraction for correct tuples\n",
    "error_target = 'temperature'  # Name of the column for which we search failure causes\n",
    "min_thresh, max_thresh = 10, 50  # Error thresholds"
   ]
  },
  {
   "cell_type": "code",
   "execution_count": 27,
   "metadata": {},
   "outputs": [
    {
     "data": {
      "text/html": [
       "<div>\n",
       "<style scoped>\n",
       "    .dataframe tbody tr th:only-of-type {\n",
       "        vertical-align: middle;\n",
       "    }\n",
       "\n",
       "    .dataframe tbody tr th {\n",
       "        vertical-align: top;\n",
       "    }\n",
       "\n",
       "    .dataframe thead th {\n",
       "        text-align: right;\n",
       "    }\n",
       "</style>\n",
       "<table border=\"1\" class=\"dataframe\">\n",
       "  <thead>\n",
       "    <tr style=\"text-align: right;\">\n",
       "      <th></th>\n",
       "      <th>date</th>\n",
       "      <th>time</th>\n",
       "      <th>epoch</th>\n",
       "      <th>moteid</th>\n",
       "      <th>temperature</th>\n",
       "      <th>humidity</th>\n",
       "      <th>light</th>\n",
       "      <th>voltage</th>\n",
       "    </tr>\n",
       "  </thead>\n",
       "  <tbody>\n",
       "    <tr>\n",
       "      <th>0</th>\n",
       "      <td>2004-03-31</td>\n",
       "      <td>03:38:15.757551</td>\n",
       "      <td>2</td>\n",
       "      <td>1.0</td>\n",
       "      <td>122.1530</td>\n",
       "      <td>-3.91901</td>\n",
       "      <td>11.04</td>\n",
       "      <td>2.03397</td>\n",
       "    </tr>\n",
       "    <tr>\n",
       "      <th>1</th>\n",
       "      <td>2004-02-28</td>\n",
       "      <td>00:59:16.02785</td>\n",
       "      <td>3</td>\n",
       "      <td>1.0</td>\n",
       "      <td>19.9884</td>\n",
       "      <td>37.09330</td>\n",
       "      <td>45.08</td>\n",
       "      <td>2.69964</td>\n",
       "    </tr>\n",
       "    <tr>\n",
       "      <th>2</th>\n",
       "      <td>2004-02-28</td>\n",
       "      <td>01:03:16.33393</td>\n",
       "      <td>11</td>\n",
       "      <td>1.0</td>\n",
       "      <td>19.3024</td>\n",
       "      <td>38.46290</td>\n",
       "      <td>45.08</td>\n",
       "      <td>2.68742</td>\n",
       "    </tr>\n",
       "    <tr>\n",
       "      <th>3</th>\n",
       "      <td>2004-02-28</td>\n",
       "      <td>01:06:16.013453</td>\n",
       "      <td>17</td>\n",
       "      <td>1.0</td>\n",
       "      <td>19.1652</td>\n",
       "      <td>38.80390</td>\n",
       "      <td>45.08</td>\n",
       "      <td>2.68742</td>\n",
       "    </tr>\n",
       "    <tr>\n",
       "      <th>4</th>\n",
       "      <td>2004-02-28</td>\n",
       "      <td>01:06:46.778088</td>\n",
       "      <td>18</td>\n",
       "      <td>1.0</td>\n",
       "      <td>19.1750</td>\n",
       "      <td>38.83790</td>\n",
       "      <td>45.08</td>\n",
       "      <td>2.69964</td>\n",
       "    </tr>\n",
       "  </tbody>\n",
       "</table>\n",
       "</div>"
      ],
      "text/plain": [
       "         date             time  epoch  moteid  temperature  humidity  light  \\\n",
       "0  2004-03-31  03:38:15.757551      2     1.0     122.1530  -3.91901  11.04   \n",
       "1  2004-02-28   00:59:16.02785      3     1.0      19.9884  37.09330  45.08   \n",
       "2  2004-02-28   01:03:16.33393     11     1.0      19.3024  38.46290  45.08   \n",
       "3  2004-02-28  01:06:16.013453     17     1.0      19.1652  38.80390  45.08   \n",
       "4  2004-02-28  01:06:46.778088     18     1.0      19.1750  38.83790  45.08   \n",
       "\n",
       "   voltage  \n",
       "0  2.03397  \n",
       "1  2.69964  \n",
       "2  2.68742  \n",
       "3  2.68742  \n",
       "4  2.69964  "
      ]
     },
     "execution_count": 27,
     "metadata": {},
     "output_type": "execute_result"
    }
   ],
   "source": [
    "raw = pd.read_csv('data/intel-lab-data.txt', sep=' ')\n",
    "raw.head()"
   ]
  },
  {
   "cell_type": "markdown",
   "metadata": {},
   "source": [
    "### Data Preprocessing\n",
    "To allow processing by Data X-Ray, we categorize continuous data."
   ]
  },
  {
   "cell_type": "code",
   "execution_count": null,
   "metadata": {},
   "outputs": [],
   "source": [
    "raw = raw[pd.notna(raw).all(axis=1)]\n",
    "raw['is_correct'] = (raw[error_target] >= min_thresh) & (raw[error_target] >= max_thresh)"
   ]
  },
  {
   "cell_type": "code",
   "execution_count": 29,
   "metadata": {},
   "outputs": [],
   "source": [
    "raw['voltage'] = raw['voltage'].apply(lambda v: round(v, 1))\n",
    "raw['voltage_buckets'] = pd.cut(raw['voltage'], [-np.inf, 2, 2.3, 2.6, 3, np.inf])\n",
    "raw['voltage'] = raw['voltage_buckets'].astype(str) + '--///--' + raw['voltage'].astype(str)\n",
    "raw.drop('voltage_buckets', axis=1, inplace=True)\n",
    "\n",
    "raw['temperature'] = pd.cut(raw['temperature'], [-np.inf, 0, 16, 20, 25, 30, np.inf])\n",
    "raw['humidity'] = pd.cut(raw['humidity'], [-np.inf, 0, 15, 30, 35, 40, 45, 60, 80, 100, np.inf])\n",
    "raw['light'] = pd.cut(raw['light'], [-np.inf, 1, 20, 50, 100, 500, 1000, np.inf])"
   ]
  },
  {
   "cell_type": "code",
   "execution_count": 30,
   "metadata": {},
   "outputs": [],
   "source": [
    "raw['time'] = raw['time'].apply(lambda t: t[:2])\n",
    "raw['time'] = raw['time'].apply(lambda x: 'MORNING--///--' + x if 7 <= int(x) < 12 \\\n",
    "                                        else 'DAY--///--' + x if 12 <= int(x) < 17 \\\n",
    "                                        else 'EVENING--///--' + x if 17 <= int(x) < 21 \\\n",
    "                                        else 'NIGHT--///--' + x)"
   ]
  },
  {
   "cell_type": "code",
   "execution_count": null,
   "metadata": {},
   "outputs": [],
   "source": [
    "if balance_factor != 1:\n",
    "    correct_rows = raw[raw['is_correct']]\n",
    "    error_rows = raw[~raw['is_correct']]\n",
    "    raw = pd.concat([error_rows, correct_rows.sample(frac=balance_factor, random_state=0)])\n",
    "raw.drop(['date', 'epoch', error_target], axis=1, inplace=True)"
   ]
  },
  {
   "cell_type": "markdown",
   "metadata": {},
   "source": [
    "### Formatting for Data X-Ray\n",
    "Now, we format the tuples such that they can be read by Data X-Ray to find an assumed cause."
   ]
  },
  {
   "cell_type": "code",
   "execution_count": 37,
   "metadata": {},
   "outputs": [
    {
     "data": {
      "text/plain": [
       "'a:a:a:a:a:\\t2:1:1:1:2:;0.8237974270689786;100.0;false;a:a:a:a:a:;0:0:0:0:0:;2219803;0;'"
      ]
     },
     "execution_count": 37,
     "metadata": {},
     "output_type": "execute_result"
    }
   ],
   "source": [
    "feature_vector =   'a:a:a:a:a:'\n",
    "structure_vector = '0:0:0:0:0:'\n",
    "max_dims =         '2:1:1:1:2:'\n",
    "error_rate = 1 - (raw['is_correct'].sum() / raw.shape[0])\n",
    "cost = 100.0\n",
    "\n",
    "top_row = feature_vector + '\\t' + max_dims + ';' + str(error_rate) + ';' + str(cost) + ';false;' + feature_vector + ';' + structure_vector + ';' + str(raw.shape[0]) + ';0;'\n",
    "top_row"
   ]
  },
  {
   "cell_type": "code",
   "execution_count": 38,
   "metadata": {},
   "outputs": [],
   "source": [
    "truth_vals = raw.loc[:, 'is_correct']\n",
    "entries = raw.loc[:, raw.columns != 'is_correct'].astype(str)"
   ]
  },
  {
   "cell_type": "code",
   "execution_count": 39,
   "metadata": {},
   "outputs": [],
   "source": [
    "raw['input-str'] = np.sum('a--///--'+entries+'--///----//--', axis=1)\n",
    "raw['input-str'] = raw['input-str'].str.replace(':', '/COLON/').str.replace(';','/SEMICOLON/').str.replace('=', '/EQ/').str.replace('%', '/PERCENT/').str.replace('_','/UNDERSCORE/').str.replace('--//--',':').str.replace('--///--','_')"
   ]
  },
  {
   "cell_type": "code",
   "execution_count": 40,
   "metadata": {},
   "outputs": [],
   "source": [
    "with open('./data/sensor-{}-{}-{}-balance{}-input.txt'.format(error_target, min_thresh, max_thresh, balance_factor), 'w') as f:\n",
    "    f.write(top_row)\n",
    "    list(f.write('{}%{}%{}='.format(i, truth_vals.iloc[i], raw['input-str'].iloc[i])) for i in range(len(raw)))"
   ]
  }
 ],
 "metadata": {
  "kernelspec": {
   "display_name": "Python 3",
   "language": "python",
   "name": "python3"
  },
  "language_info": {
   "codemirror_mode": {
    "name": "ipython",
    "version": 3
   },
   "file_extension": ".py",
   "mimetype": "text/x-python",
   "name": "python",
   "nbconvert_exporter": "python",
   "pygments_lexer": "ipython3",
   "version": "3.6.3"
  }
 },
 "nbformat": 4,
 "nbformat_minor": 2
}
