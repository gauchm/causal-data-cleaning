{
 "cells": [
  {
   "cell_type": "markdown",
   "metadata": {},
   "source": [
    "# Transform Sensor Dataset to Data X-Ray Input\n",
    "Data Source: http://db.csail.mit.edu/labdata/labdata.html"
   ]
  },
  {
   "cell_type": "code",
   "execution_count": 22,
   "metadata": {},
   "outputs": [],
   "source": [
    "import pandas as pd\n",
    "import numpy as np\n",
    "\n",
    "balance_factor = 1  # sampling fraction for correct tuples\n",
    "error_target = 'temperature'  # Name of the column for which we search failure causes\n",
    "min_thresh, max_thresh = 10, 50  # Error thresholds"
   ]
  },
  {
   "cell_type": "code",
   "execution_count": 27,
   "metadata": {},
   "outputs": [
    {
     "data": {
      "text/html": [
       "<div>\n",
       "<style scoped>\n",
       "    .dataframe tbody tr th:only-of-type {\n",
       "        vertical-align: middle;\n",
       "    }\n",
       "\n",
       "    .dataframe tbody tr th {\n",
       "        vertical-align: top;\n",
       "    }\n",
       "\n",
       "    .dataframe thead th {\n",
       "        text-align: right;\n",
       "    }\n",
       "</style>\n",
       "<table border=\"1\" class=\"dataframe\">\n",
       "  <thead>\n",
       "    <tr style=\"text-align: right;\">\n",
       "      <th></th>\n",
       "      <th>date</th>\n",
       "      <th>time</th>\n",
       "      <th>epoch</th>\n",
       "      <th>moteid</th>\n",
       "      <th>temperature</th>\n",
       "      <th>humidity</th>\n",
       "      <th>light</th>\n",
       "      <th>voltage</th>\n",
       "    </tr>\n",
       "  </thead>\n",
       "  <tbody>\n",
       "    <tr>\n",
       "      <th>0</th>\n",
       "      <td>2004-03-31</td>\n",
       "      <td>03:38:15.757551</td>\n",
       "      <td>2</td>\n",
       "      <td>1.0</td>\n",
       "      <td>122.1530</td>\n",
       "      <td>-3.91901</td>\n",
       "      <td>11.04</td>\n",
       "      <td>2.03397</td>\n",
       "    </tr>\n",
       "    <tr>\n",
       "      <th>1</th>\n",
       "      <td>2004-02-28</td>\n",
       "      <td>00:59:16.02785</td>\n",
       "      <td>3</td>\n",
       "      <td>1.0</td>\n",
       "      <td>19.9884</td>\n",
       "      <td>37.09330</td>\n",
       "      <td>45.08</td>\n",
       "      <td>2.69964</td>\n",
       "    </tr>\n",
       "    <tr>\n",
       "      <th>2</th>\n",
       "      <td>2004-02-28</td>\n",
       "      <td>01:03:16.33393</td>\n",
       "      <td>11</td>\n",
       "      <td>1.0</td>\n",
       "      <td>19.3024</td>\n",
       "      <td>38.46290</td>\n",
       "      <td>45.08</td>\n",
       "      <td>2.68742</td>\n",
       "    </tr>\n",
       "    <tr>\n",
       "      <th>3</th>\n",
       "      <td>2004-02-28</td>\n",
       "      <td>01:06:16.013453</td>\n",
       "      <td>17</td>\n",
       "      <td>1.0</td>\n",
       "      <td>19.1652</td>\n",
       "      <td>38.80390</td>\n",
       "      <td>45.08</td>\n",
       "      <td>2.68742</td>\n",
       "    </tr>\n",
       "    <tr>\n",
       "      <th>4</th>\n",
       "      <td>2004-02-28</td>\n",
       "      <td>01:06:46.778088</td>\n",
       "      <td>18</td>\n",
       "      <td>1.0</td>\n",
       "      <td>19.1750</td>\n",
       "      <td>38.83790</td>\n",
       "      <td>45.08</td>\n",
       "      <td>2.69964</td>\n",
       "    </tr>\n",
       "  </tbody>\n",
       "</table>\n",
       "</div>"
      ],
      "text/plain": [
       "         date             time  epoch  moteid  temperature  humidity  light  \\\n",
       "0  2004-03-31  03:38:15.757551      2     1.0     122.1530  -3.91901  11.04   \n",
       "1  2004-02-28   00:59:16.02785      3     1.0      19.9884  37.09330  45.08   \n",
       "2  2004-02-28   01:03:16.33393     11     1.0      19.3024  38.46290  45.08   \n",
       "3  2004-02-28  01:06:16.013453     17     1.0      19.1652  38.80390  45.08   \n",
       "4  2004-02-28  01:06:46.778088     18     1.0      19.1750  38.83790  45.08   \n",
       "\n",
       "   voltage  \n",
       "0  2.03397  \n",
       "1  2.69964  \n",
       "2  2.68742  \n",
       "3  2.68742  \n",
       "4  2.69964  "
      ]
     },
     "execution_count": 27,
     "metadata": {},
     "output_type": "execute_result"
    }
   ],
   "source": [
    "raw = pd.read_csv('data/intel-lab-data.txt', sep=' ')\n",
    "raw.head()"
   ]
  },
  {
   "cell_type": "code",
   "execution_count": 28,
   "metadata": {},
   "outputs": [
    {
     "name": "stdout",
     "output_type": "stream",
     "text": [
      "(2313682, 8)\n",
      "(2219803, 9) 391135\n"
     ]
    }
   ],
   "source": [
    "print(raw.shape)\n",
    "raw = raw[pd.notna(raw).all(axis=1)]\n",
    "raw['is_correct'] = (raw[error_target] >= min_thresh) & (raw[error_target] >= max_thresh)\n",
    "print(raw.shape, raw['is_correct'].sum())"
   ]
  },
  {
   "cell_type": "code",
   "execution_count": 29,
   "metadata": {},
   "outputs": [],
   "source": [
    "raw['voltage'] = raw['voltage'].apply(lambda v: round(v, 1))\n",
    "raw['voltage_buckets'] = pd.cut(raw['voltage'], [-np.inf, 2, 2.3, 2.6, 3, np.inf])\n",
    "raw['voltage'] = raw['voltage_buckets'].astype(str) + '--///--' + raw['voltage'].astype(str)\n",
    "raw.drop('voltage_buckets', axis=1, inplace=True)\n",
    "\n",
    "raw['temperature'] = pd.cut(raw['temperature'], [-np.inf, 0, 16, 20, 25, 30, np.inf])\n",
    "raw['humidity'] = pd.cut(raw['humidity'], [-np.inf, 0, 15, 30, 35, 40, 45, 60, 80, 100, np.inf])\n",
    "raw['light'] = pd.cut(raw['light'], [-np.inf, 1, 20, 50, 100, 500, 1000, np.inf])"
   ]
  },
  {
   "cell_type": "code",
   "execution_count": 30,
   "metadata": {},
   "outputs": [],
   "source": [
    "raw['time'] = raw['time'].apply(lambda t: t[:2])\n",
    "raw['time'] = raw['time'].apply(lambda x: 'MORNING--///--' + x if 7 <= int(x) < 12 \\\n",
    "                                        else 'DAY--///--' + x if 12 <= int(x) < 17 \\\n",
    "                                        else 'EVENING--///--' + x if 17 <= int(x) < 21 \\\n",
    "                                        else 'NIGHT--///--' + x)"
   ]
  },
  {
   "cell_type": "code",
   "execution_count": 31,
   "metadata": {},
   "outputs": [
    {
     "name": "stdout",
     "output_type": "stream",
     "text": [
      "(2219803, 9) 391135\n"
     ]
    }
   ],
   "source": [
    "if balance_factor != 1:\n",
    "    correct_rows = raw[raw['is_correct']]\n",
    "    error_rows = raw[~raw['is_correct']]\n",
    "    raw = pd.concat([error_rows, correct_rows.sample(frac=balance_factor, random_state=0)])\n",
    "print(raw.shape, raw['is_correct'].sum())"
   ]
  },
  {
   "cell_type": "code",
   "execution_count": 32,
   "metadata": {},
   "outputs": [
    {
     "data": {
      "text/html": [
       "<div>\n",
       "<style scoped>\n",
       "    .dataframe tbody tr th:only-of-type {\n",
       "        vertical-align: middle;\n",
       "    }\n",
       "\n",
       "    .dataframe tbody tr th {\n",
       "        vertical-align: top;\n",
       "    }\n",
       "\n",
       "    .dataframe thead th {\n",
       "        text-align: right;\n",
       "    }\n",
       "</style>\n",
       "<table border=\"1\" class=\"dataframe\">\n",
       "  <thead>\n",
       "    <tr style=\"text-align: right;\">\n",
       "      <th></th>\n",
       "      <th>date</th>\n",
       "      <th>time</th>\n",
       "      <th>epoch</th>\n",
       "      <th>moteid</th>\n",
       "      <th>temperature</th>\n",
       "      <th>humidity</th>\n",
       "      <th>light</th>\n",
       "      <th>voltage</th>\n",
       "      <th>is_correct</th>\n",
       "    </tr>\n",
       "  </thead>\n",
       "  <tbody>\n",
       "    <tr>\n",
       "      <th>0</th>\n",
       "      <td>2004-03-31</td>\n",
       "      <td>NIGHT--///--03</td>\n",
       "      <td>2</td>\n",
       "      <td>1.0</td>\n",
       "      <td>(30.0, inf]</td>\n",
       "      <td>(-inf, 0.0]</td>\n",
       "      <td>(1.0, 20.0]</td>\n",
       "      <td>(-inf, 2.0]--///--2.0</td>\n",
       "      <td>True</td>\n",
       "    </tr>\n",
       "    <tr>\n",
       "      <th>1</th>\n",
       "      <td>2004-02-28</td>\n",
       "      <td>NIGHT--///--00</td>\n",
       "      <td>3</td>\n",
       "      <td>1.0</td>\n",
       "      <td>(16.0, 20.0]</td>\n",
       "      <td>(35.0, 40.0]</td>\n",
       "      <td>(20.0, 50.0]</td>\n",
       "      <td>(2.6, 3.0]--///--2.7</td>\n",
       "      <td>False</td>\n",
       "    </tr>\n",
       "    <tr>\n",
       "      <th>2</th>\n",
       "      <td>2004-02-28</td>\n",
       "      <td>NIGHT--///--01</td>\n",
       "      <td>11</td>\n",
       "      <td>1.0</td>\n",
       "      <td>(16.0, 20.0]</td>\n",
       "      <td>(35.0, 40.0]</td>\n",
       "      <td>(20.0, 50.0]</td>\n",
       "      <td>(2.6, 3.0]--///--2.7</td>\n",
       "      <td>False</td>\n",
       "    </tr>\n",
       "    <tr>\n",
       "      <th>3</th>\n",
       "      <td>2004-02-28</td>\n",
       "      <td>NIGHT--///--01</td>\n",
       "      <td>17</td>\n",
       "      <td>1.0</td>\n",
       "      <td>(16.0, 20.0]</td>\n",
       "      <td>(35.0, 40.0]</td>\n",
       "      <td>(20.0, 50.0]</td>\n",
       "      <td>(2.6, 3.0]--///--2.7</td>\n",
       "      <td>False</td>\n",
       "    </tr>\n",
       "    <tr>\n",
       "      <th>4</th>\n",
       "      <td>2004-02-28</td>\n",
       "      <td>NIGHT--///--01</td>\n",
       "      <td>18</td>\n",
       "      <td>1.0</td>\n",
       "      <td>(16.0, 20.0]</td>\n",
       "      <td>(35.0, 40.0]</td>\n",
       "      <td>(20.0, 50.0]</td>\n",
       "      <td>(2.6, 3.0]--///--2.7</td>\n",
       "      <td>False</td>\n",
       "    </tr>\n",
       "  </tbody>\n",
       "</table>\n",
       "</div>"
      ],
      "text/plain": [
       "         date            time  epoch  moteid   temperature      humidity  \\\n",
       "0  2004-03-31  NIGHT--///--03      2     1.0   (30.0, inf]   (-inf, 0.0]   \n",
       "1  2004-02-28  NIGHT--///--00      3     1.0  (16.0, 20.0]  (35.0, 40.0]   \n",
       "2  2004-02-28  NIGHT--///--01     11     1.0  (16.0, 20.0]  (35.0, 40.0]   \n",
       "3  2004-02-28  NIGHT--///--01     17     1.0  (16.0, 20.0]  (35.0, 40.0]   \n",
       "4  2004-02-28  NIGHT--///--01     18     1.0  (16.0, 20.0]  (35.0, 40.0]   \n",
       "\n",
       "          light                voltage  is_correct  \n",
       "0   (1.0, 20.0]  (-inf, 2.0]--///--2.0        True  \n",
       "1  (20.0, 50.0]   (2.6, 3.0]--///--2.7       False  \n",
       "2  (20.0, 50.0]   (2.6, 3.0]--///--2.7       False  \n",
       "3  (20.0, 50.0]   (2.6, 3.0]--///--2.7       False  \n",
       "4  (20.0, 50.0]   (2.6, 3.0]--///--2.7       False  "
      ]
     },
     "execution_count": 32,
     "metadata": {},
     "output_type": "execute_result"
    }
   ],
   "source": [
    "raw.head()"
   ]
  },
  {
   "cell_type": "code",
   "execution_count": 33,
   "metadata": {},
   "outputs": [],
   "source": [
    "raw.drop(['date', 'epoch', error_target], axis=1, inplace=True)"
   ]
  },
  {
   "cell_type": "code",
   "execution_count": 34,
   "metadata": {},
   "outputs": [
    {
     "data": {
      "text/html": [
       "<div>\n",
       "<style scoped>\n",
       "    .dataframe tbody tr th:only-of-type {\n",
       "        vertical-align: middle;\n",
       "    }\n",
       "\n",
       "    .dataframe tbody tr th {\n",
       "        vertical-align: top;\n",
       "    }\n",
       "\n",
       "    .dataframe thead th {\n",
       "        text-align: right;\n",
       "    }\n",
       "</style>\n",
       "<table border=\"1\" class=\"dataframe\">\n",
       "  <thead>\n",
       "    <tr style=\"text-align: right;\">\n",
       "      <th></th>\n",
       "      <th>time</th>\n",
       "      <th>moteid</th>\n",
       "      <th>humidity</th>\n",
       "      <th>light</th>\n",
       "      <th>voltage</th>\n",
       "      <th>is_correct</th>\n",
       "    </tr>\n",
       "  </thead>\n",
       "  <tbody>\n",
       "    <tr>\n",
       "      <th>0</th>\n",
       "      <td>NIGHT--///--03</td>\n",
       "      <td>1.0</td>\n",
       "      <td>(-inf, 0.0]</td>\n",
       "      <td>(1.0, 20.0]</td>\n",
       "      <td>(-inf, 2.0]--///--2.0</td>\n",
       "      <td>True</td>\n",
       "    </tr>\n",
       "    <tr>\n",
       "      <th>1</th>\n",
       "      <td>NIGHT--///--00</td>\n",
       "      <td>1.0</td>\n",
       "      <td>(35.0, 40.0]</td>\n",
       "      <td>(20.0, 50.0]</td>\n",
       "      <td>(2.6, 3.0]--///--2.7</td>\n",
       "      <td>False</td>\n",
       "    </tr>\n",
       "    <tr>\n",
       "      <th>2</th>\n",
       "      <td>NIGHT--///--01</td>\n",
       "      <td>1.0</td>\n",
       "      <td>(35.0, 40.0]</td>\n",
       "      <td>(20.0, 50.0]</td>\n",
       "      <td>(2.6, 3.0]--///--2.7</td>\n",
       "      <td>False</td>\n",
       "    </tr>\n",
       "    <tr>\n",
       "      <th>3</th>\n",
       "      <td>NIGHT--///--01</td>\n",
       "      <td>1.0</td>\n",
       "      <td>(35.0, 40.0]</td>\n",
       "      <td>(20.0, 50.0]</td>\n",
       "      <td>(2.6, 3.0]--///--2.7</td>\n",
       "      <td>False</td>\n",
       "    </tr>\n",
       "    <tr>\n",
       "      <th>4</th>\n",
       "      <td>NIGHT--///--01</td>\n",
       "      <td>1.0</td>\n",
       "      <td>(35.0, 40.0]</td>\n",
       "      <td>(20.0, 50.0]</td>\n",
       "      <td>(2.6, 3.0]--///--2.7</td>\n",
       "      <td>False</td>\n",
       "    </tr>\n",
       "  </tbody>\n",
       "</table>\n",
       "</div>"
      ],
      "text/plain": [
       "             time  moteid      humidity         light                voltage  \\\n",
       "0  NIGHT--///--03     1.0   (-inf, 0.0]   (1.0, 20.0]  (-inf, 2.0]--///--2.0   \n",
       "1  NIGHT--///--00     1.0  (35.0, 40.0]  (20.0, 50.0]   (2.6, 3.0]--///--2.7   \n",
       "2  NIGHT--///--01     1.0  (35.0, 40.0]  (20.0, 50.0]   (2.6, 3.0]--///--2.7   \n",
       "3  NIGHT--///--01     1.0  (35.0, 40.0]  (20.0, 50.0]   (2.6, 3.0]--///--2.7   \n",
       "4  NIGHT--///--01     1.0  (35.0, 40.0]  (20.0, 50.0]   (2.6, 3.0]--///--2.7   \n",
       "\n",
       "   is_correct  \n",
       "0        True  \n",
       "1       False  \n",
       "2       False  \n",
       "3       False  \n",
       "4       False  "
      ]
     },
     "execution_count": 34,
     "metadata": {},
     "output_type": "execute_result"
    }
   ],
   "source": [
    "raw.head()"
   ]
  },
  {
   "cell_type": "code",
   "execution_count": 35,
   "metadata": {},
   "outputs": [],
   "source": [
    "feature_vector =   'a:a:a:a:a:'\n",
    "structure_vector = '0:0:0:0:0:'\n",
    "max_dims =         '2:1:1:1:2:'\n",
    "\n",
    "assert(len(feature_vector.split(':')) == len(raw.columns))"
   ]
  },
  {
   "cell_type": "code",
   "execution_count": 36,
   "metadata": {},
   "outputs": [
    {
     "data": {
      "text/plain": [
       "0.8237974270689786"
      ]
     },
     "execution_count": 36,
     "metadata": {},
     "output_type": "execute_result"
    }
   ],
   "source": [
    "error_rate = 1 - (raw['is_correct'].sum() / raw.shape[0])\n",
    "cost = 100.0\n",
    "error_rate"
   ]
  },
  {
   "cell_type": "code",
   "execution_count": 37,
   "metadata": {},
   "outputs": [
    {
     "data": {
      "text/plain": [
       "'a:a:a:a:a:\\t2:1:1:1:2:;0.8237974270689786;100.0;false;a:a:a:a:a:;0:0:0:0:0:;2219803;0;'"
      ]
     },
     "execution_count": 37,
     "metadata": {},
     "output_type": "execute_result"
    }
   ],
   "source": [
    "top_row = feature_vector + '\\t' + max_dims + ';' + str(error_rate) + ';' + str(cost) + ';false;' + feature_vector + ';' + structure_vector + ';' + str(raw.shape[0]) + ';0;'\n",
    "top_row"
   ]
  },
  {
   "cell_type": "code",
   "execution_count": 38,
   "metadata": {},
   "outputs": [],
   "source": [
    "truth_vals = raw.loc[:, 'is_correct']\n",
    "entries = raw.loc[:, raw.columns != 'is_correct'].astype(str)"
   ]
  },
  {
   "cell_type": "code",
   "execution_count": 39,
   "metadata": {},
   "outputs": [],
   "source": [
    "raw['input-str'] = np.sum('a--///--'+entries+'--///----//--', axis=1)\n",
    "raw['input-str'] = raw['input-str'].str.replace(':', '/COLON/').str.replace(';','/SEMICOLON/').str.replace('=', '/EQ/').str.replace('%', '/PERCENT/').str.replace('_','/UNDERSCORE/').str.replace('--//--',':').str.replace('--///--','_')"
   ]
  },
  {
   "cell_type": "code",
   "execution_count": 40,
   "metadata": {},
   "outputs": [],
   "source": [
    "with open('./data/sensor-{}-{}-{}-balance{}-input.txt'.format(error_target, min_thresh, max_thresh, balance_factor), 'w') as f:\n",
    "    f.write(top_row)\n",
    "    list(f.write('{}%{}%{}='.format(i, truth_vals.iloc[i], raw['input-str'].iloc[i])) for i in range(len(raw)))"
   ]
  },
  {
   "cell_type": "code",
   "execution_count": null,
   "metadata": {},
   "outputs": [],
   "source": []
  }
 ],
 "metadata": {
  "kernelspec": {
   "display_name": "Python 3",
   "language": "python",
   "name": "python3"
  },
  "language_info": {
   "codemirror_mode": {
    "name": "ipython",
    "version": 3
   },
   "file_extension": ".py",
   "mimetype": "text/x-python",
   "name": "python",
   "nbconvert_exporter": "python",
   "pygments_lexer": "ipython3",
   "version": "3.6.5"
  }
 },
 "nbformat": 4,
 "nbformat_minor": 2
}
